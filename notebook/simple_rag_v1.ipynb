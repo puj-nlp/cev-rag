{
 "cells": [
  {
   "cell_type": "code",
   "metadata": {
    "colab": {
     "base_uri": "https://localhost:8080/"
    },
    "id": "s_lRpvRfcCxN",
    "outputId": "32175665-d138-49c8-f94c-bc74701f30ec",
    "ExecuteTime": {
     "end_time": "2025-07-07T13:56:03.065444Z",
     "start_time": "2025-07-07T13:55:56.796303Z"
    }
   },
   "source": [
    "# Perform Google Colab installs (if running in Google Colab)\n",
    "import os\n",
    "\"\"\"\n",
    "#if \"COLAB_GPU\" in os.environ:\n",
    "print(\"[INFO] installing requirements.\")\n",
    "!pip install -U torch==2.6.0\n",
    "# requires torch 2.1.1+ (for efficient sdpa implementation)\n",
    "!pip install tqdm\n",
    "# for progress bars\n",
    "!pip install sentence-transformers\n",
    "# for embedding models\n",
    "!pip install accelerate\n",
    "# for quantization model loading\n",
    "!pip install bitsandbytes\n",
    "# for quantizing models (less storage space)\n",
    "!pip install flash-attn --no-build-isolation\n",
    "# for faster attention mechanism = faster LLM inference\"\"\n",
    "\"\"\""
   ],
   "outputs": [
    {
     "name": "stdout",
     "output_type": "stream",
     "text": [
      "[INFO] installing requirements.\n"
     ]
    },
    {
     "name": "stderr",
     "output_type": "stream",
     "text": [
      "\n",
      "[notice] A new release of pip is available: 25.0.1 -> 25.1.1\n",
      "[notice] To update, run: python.exe -m pip install --upgrade pip\n",
      "ERROR: Invalid requirement: '#': Expected package name at the start of dependency specifier\n",
      "    #\n",
      "    ^\n",
      "\n",
      "[notice] A new release of pip is available: 25.0.1 -> 25.1.1\n",
      "[notice] To update, run: python.exe -m pip install --upgrade pip\n",
      "ERROR: Invalid requirement: '#': Expected package name at the start of dependency specifier\n",
      "    #\n",
      "    ^\n",
      "\n",
      "[notice] A new release of pip is available: 25.0.1 -> 25.1.1\n",
      "[notice] To update, run: python.exe -m pip install --upgrade pip\n",
      "ERROR: Invalid requirement: '#': Expected package name at the start of dependency specifier\n",
      "    #\n",
      "    ^\n",
      "\n",
      "[notice] A new release of pip is available: 25.0.1 -> 25.1.1\n",
      "[notice] To update, run: python.exe -m pip install --upgrade pip\n",
      "ERROR: Invalid requirement: '#': Expected package name at the start of dependency specifier\n",
      "    #\n",
      "    ^\n",
      "\n",
      "[notice] A new release of pip is available: 25.0.1 -> 25.1.1\n",
      "[notice] To update, run: python.exe -m pip install --upgrade pip\n",
      "ERROR: Invalid requirement: '#': Expected package name at the start of dependency specifier\n",
      "    #\n",
      "    ^\n",
      "\n",
      "[notice] A new release of pip is available: 25.0.1 -> 25.1.1\n",
      "[notice] To update, run: python.exe -m pip install --upgrade pip\n",
      "ERROR: Invalid requirement: '#': Expected package name at the start of dependency specifier\n",
      "    #\n",
      "    ^\n"
     ]
    }
   ],
   "execution_count": 33
  },
  {
   "cell_type": "code",
   "metadata": {
    "id": "LLYQt7qP0YRM",
    "ExecuteTime": {
     "end_time": "2025-07-07T15:04:39.469100Z",
     "start_time": "2025-07-07T15:04:03.013958Z"
    }
   },
   "source": [
    "!pip install --force-reinstall git+https://github.com/puj-nlp/open_corpus_co_es.git\n",
    "from open_corpus_co_es.loader import load_corpus\n",
    "from open_corpus_co_es.downloader import download_corpus\n",
    "download_corpus(\"rag_processed_data\")\n",
    "datos = load_corpus(\"rag_processed_data\")\n",
    "print(datos[0])"
   ],
   "outputs": [
    {
     "name": "stdout",
     "output_type": "stream",
     "text": [
      "Collecting git+https://github.com/puj-nlp/open_corpus_co_es.git\n",
      "  Cloning https://github.com/puj-nlp/open_corpus_co_es.git to c:\\users\\phineas\\appdata\\local\\temp\\pip-req-build-rjgdv19h\n",
      "  Resolved https://github.com/puj-nlp/open_corpus_co_es.git to commit 323b6a2e814b112fb57913049a205f974eed38c2\n",
      "  Installing build dependencies: started\n",
      "  Installing build dependencies: finished with status 'done'\n",
      "  Getting requirements to build wheel: started\n",
      "  Getting requirements to build wheel: finished with status 'done'\n",
      "  Preparing metadata (pyproject.toml): started\n",
      "  Preparing metadata (pyproject.toml): finished with status 'done'\n",
      "Collecting nltk (from open_corpus_co_es==0.1.0)\n",
      "  Using cached nltk-3.9.1-py3-none-any.whl.metadata (2.9 kB)\n",
      "Collecting pandas (from open_corpus_co_es==0.1.0)\n",
      "  Using cached pandas-2.3.0-cp312-cp312-win_amd64.whl.metadata (19 kB)\n",
      "Collecting gdown (from open_corpus_co_es==0.1.0)\n",
      "  Using cached gdown-5.2.0-py3-none-any.whl.metadata (5.8 kB)\n",
      "Collecting pyarrow (from open_corpus_co_es==0.1.0)\n",
      "  Using cached pyarrow-20.0.0-cp312-cp312-win_amd64.whl.metadata (3.4 kB)\n",
      "Collecting fastparquet (from open_corpus_co_es==0.1.0)\n",
      "  Using cached fastparquet-2024.11.0-cp312-cp312-win_amd64.whl.metadata (4.3 kB)\n",
      "Collecting tqdm (from open_corpus_co_es==0.1.0)\n",
      "  Using cached tqdm-4.67.1-py3-none-any.whl.metadata (57 kB)\n",
      "Collecting numpy (from fastparquet->open_corpus_co_es==0.1.0)\n",
      "  Using cached numpy-2.3.1-cp312-cp312-win_amd64.whl.metadata (60 kB)\n",
      "Collecting cramjam>=2.3 (from fastparquet->open_corpus_co_es==0.1.0)\n",
      "  Using cached cramjam-2.10.0-cp312-cp312-win_amd64.whl.metadata (5.1 kB)\n",
      "Collecting fsspec (from fastparquet->open_corpus_co_es==0.1.0)\n",
      "  Using cached fsspec-2025.5.1-py3-none-any.whl.metadata (11 kB)\n",
      "Collecting packaging (from fastparquet->open_corpus_co_es==0.1.0)\n",
      "  Using cached packaging-25.0-py3-none-any.whl.metadata (3.3 kB)\n",
      "Collecting python-dateutil>=2.8.2 (from pandas->open_corpus_co_es==0.1.0)\n",
      "  Using cached python_dateutil-2.9.0.post0-py2.py3-none-any.whl.metadata (8.4 kB)\n",
      "Collecting pytz>=2020.1 (from pandas->open_corpus_co_es==0.1.0)\n",
      "  Using cached pytz-2025.2-py2.py3-none-any.whl.metadata (22 kB)\n",
      "Collecting tzdata>=2022.7 (from pandas->open_corpus_co_es==0.1.0)\n",
      "  Using cached tzdata-2025.2-py2.py3-none-any.whl.metadata (1.4 kB)\n",
      "Collecting beautifulsoup4 (from gdown->open_corpus_co_es==0.1.0)\n",
      "  Using cached beautifulsoup4-4.13.4-py3-none-any.whl.metadata (3.8 kB)\n",
      "Collecting filelock (from gdown->open_corpus_co_es==0.1.0)\n",
      "  Using cached filelock-3.18.0-py3-none-any.whl.metadata (2.9 kB)\n",
      "Collecting requests[socks] (from gdown->open_corpus_co_es==0.1.0)\n",
      "  Using cached requests-2.32.4-py3-none-any.whl.metadata (4.9 kB)\n",
      "Collecting click (from nltk->open_corpus_co_es==0.1.0)\n",
      "  Using cached click-8.2.1-py3-none-any.whl.metadata (2.5 kB)\n",
      "Collecting joblib (from nltk->open_corpus_co_es==0.1.0)\n",
      "  Using cached joblib-1.5.1-py3-none-any.whl.metadata (5.6 kB)\n",
      "Collecting regex>=2021.8.3 (from nltk->open_corpus_co_es==0.1.0)\n",
      "  Using cached regex-2024.11.6-cp312-cp312-win_amd64.whl.metadata (41 kB)\n",
      "Collecting colorama (from tqdm->open_corpus_co_es==0.1.0)\n",
      "  Using cached colorama-0.4.6-py2.py3-none-any.whl.metadata (17 kB)\n",
      "Collecting six>=1.5 (from python-dateutil>=2.8.2->pandas->open_corpus_co_es==0.1.0)\n",
      "  Using cached six-1.17.0-py2.py3-none-any.whl.metadata (1.7 kB)\n",
      "Collecting soupsieve>1.2 (from beautifulsoup4->gdown->open_corpus_co_es==0.1.0)\n",
      "  Using cached soupsieve-2.7-py3-none-any.whl.metadata (4.6 kB)\n",
      "Collecting typing-extensions>=4.0.0 (from beautifulsoup4->gdown->open_corpus_co_es==0.1.0)\n",
      "  Using cached typing_extensions-4.14.1-py3-none-any.whl.metadata (3.0 kB)\n",
      "Collecting charset_normalizer<4,>=2 (from requests[socks]->gdown->open_corpus_co_es==0.1.0)\n",
      "  Using cached charset_normalizer-3.4.2-cp312-cp312-win_amd64.whl.metadata (36 kB)\n",
      "Collecting idna<4,>=2.5 (from requests[socks]->gdown->open_corpus_co_es==0.1.0)\n",
      "  Using cached idna-3.10-py3-none-any.whl.metadata (10 kB)\n",
      "Collecting urllib3<3,>=1.21.1 (from requests[socks]->gdown->open_corpus_co_es==0.1.0)\n",
      "  Using cached urllib3-2.5.0-py3-none-any.whl.metadata (6.5 kB)\n",
      "Collecting certifi>=2017.4.17 (from requests[socks]->gdown->open_corpus_co_es==0.1.0)\n",
      "  Using cached certifi-2025.6.15-py3-none-any.whl.metadata (2.4 kB)\n",
      "Collecting PySocks!=1.5.7,>=1.5.6 (from requests[socks]->gdown->open_corpus_co_es==0.1.0)\n",
      "  Using cached PySocks-1.7.1-py3-none-any.whl.metadata (13 kB)\n",
      "Using cached fastparquet-2024.11.0-cp312-cp312-win_amd64.whl (673 kB)\n",
      "Using cached pandas-2.3.0-cp312-cp312-win_amd64.whl (11.0 MB)\n",
      "Using cached gdown-5.2.0-py3-none-any.whl (18 kB)\n",
      "Using cached nltk-3.9.1-py3-none-any.whl (1.5 MB)\n",
      "Using cached pyarrow-20.0.0-cp312-cp312-win_amd64.whl (25.7 MB)\n",
      "Using cached tqdm-4.67.1-py3-none-any.whl (78 kB)\n",
      "Using cached cramjam-2.10.0-cp312-cp312-win_amd64.whl (1.7 MB)\n",
      "Using cached numpy-2.3.1-cp312-cp312-win_amd64.whl (12.7 MB)\n",
      "Using cached python_dateutil-2.9.0.post0-py2.py3-none-any.whl (229 kB)\n",
      "Using cached pytz-2025.2-py2.py3-none-any.whl (509 kB)\n",
      "Using cached regex-2024.11.6-cp312-cp312-win_amd64.whl (273 kB)\n",
      "Using cached tzdata-2025.2-py2.py3-none-any.whl (347 kB)\n",
      "Using cached beautifulsoup4-4.13.4-py3-none-any.whl (187 kB)\n",
      "Using cached click-8.2.1-py3-none-any.whl (102 kB)\n",
      "Using cached colorama-0.4.6-py2.py3-none-any.whl (25 kB)\n",
      "Using cached filelock-3.18.0-py3-none-any.whl (16 kB)\n",
      "Using cached fsspec-2025.5.1-py3-none-any.whl (199 kB)\n",
      "Using cached joblib-1.5.1-py3-none-any.whl (307 kB)\n",
      "Using cached packaging-25.0-py3-none-any.whl (66 kB)\n",
      "Using cached certifi-2025.6.15-py3-none-any.whl (157 kB)\n",
      "Using cached charset_normalizer-3.4.2-cp312-cp312-win_amd64.whl (105 kB)\n",
      "Using cached idna-3.10-py3-none-any.whl (70 kB)\n",
      "Using cached PySocks-1.7.1-py3-none-any.whl (16 kB)\n",
      "Using cached six-1.17.0-py2.py3-none-any.whl (11 kB)\n",
      "Using cached soupsieve-2.7-py3-none-any.whl (36 kB)\n",
      "Using cached typing_extensions-4.14.1-py3-none-any.whl (43 kB)\n",
      "Using cached urllib3-2.5.0-py3-none-any.whl (129 kB)\n",
      "Using cached requests-2.32.4-py3-none-any.whl (64 kB)\n",
      "Building wheels for collected packages: open_corpus_co_es\n",
      "  Building wheel for open_corpus_co_es (pyproject.toml): started\n",
      "  Building wheel for open_corpus_co_es (pyproject.toml): finished with status 'done'\n",
      "  Created wheel for open_corpus_co_es: filename=open_corpus_co_es-0.1.0-py3-none-any.whl size=12305 sha256=3da12b0110612d311e6a5f0a414ff27c548348c2eaa4ce2ca3d29a4b81f15101\n",
      "  Stored in directory: C:\\Users\\phineas\\AppData\\Local\\Temp\\pip-ephem-wheel-cache-m_p6d8pk\\wheels\\ba\\a9\\ce\\3c170a30de35055d7c3e763c99659bc0ccdada339f9c1d350e\n",
      "Successfully built open_corpus_co_es\n",
      "Installing collected packages: pytz, urllib3, tzdata, typing-extensions, soupsieve, six, regex, PySocks, pyarrow, packaging, numpy, joblib, idna, fsspec, filelock, cramjam, colorama, charset_normalizer, certifi, tqdm, requests, python-dateutil, click, beautifulsoup4, pandas, nltk, gdown, fastparquet, open_corpus_co_es\n",
      "  Attempting uninstall: pytz\n",
      "    Found existing installation: pytz 2025.2\n",
      "    Uninstalling pytz-2025.2:\n",
      "      Successfully uninstalled pytz-2025.2\n",
      "  Attempting uninstall: urllib3\n",
      "    Found existing installation: urllib3 2.5.0\n",
      "    Uninstalling urllib3-2.5.0:\n",
      "      Successfully uninstalled urllib3-2.5.0\n",
      "  Attempting uninstall: tzdata\n",
      "    Found existing installation: tzdata 2025.2\n",
      "    Uninstalling tzdata-2025.2:\n",
      "      Successfully uninstalled tzdata-2025.2\n",
      "  Attempting uninstall: typing-extensions\n",
      "    Found existing installation: typing_extensions 4.14.1\n",
      "    Uninstalling typing_extensions-4.14.1:\n",
      "      Successfully uninstalled typing_extensions-4.14.1\n",
      "  Attempting uninstall: soupsieve\n",
      "    Found existing installation: soupsieve 2.7\n",
      "    Uninstalling soupsieve-2.7:\n",
      "      Successfully uninstalled soupsieve-2.7\n",
      "  Attempting uninstall: six\n",
      "    Found existing installation: six 1.17.0\n",
      "    Uninstalling six-1.17.0:\n",
      "      Successfully uninstalled six-1.17.0\n",
      "  Attempting uninstall: regex\n",
      "    Found existing installation: regex 2024.11.6\n",
      "    Uninstalling regex-2024.11.6:\n",
      "      Successfully uninstalled regex-2024.11.6\n",
      "  Attempting uninstall: PySocks\n",
      "    Found existing installation: PySocks 1.7.1\n",
      "    Uninstalling PySocks-1.7.1:\n",
      "      Successfully uninstalled PySocks-1.7.1\n",
      "  Attempting uninstall: pyarrow\n",
      "    Found existing installation: pyarrow 20.0.0\n",
      "    Uninstalling pyarrow-20.0.0:\n",
      "      Successfully uninstalled pyarrow-20.0.0\n",
      "  Attempting uninstall: packaging\n",
      "    Found existing installation: packaging 25.0\n",
      "    Uninstalling packaging-25.0:\n",
      "      Successfully uninstalled packaging-25.0\n",
      "  Attempting uninstall: numpy\n",
      "    Found existing installation: numpy 2.3.1\n",
      "    Uninstalling numpy-2.3.1:\n",
      "      Successfully uninstalled numpy-2.3.1\n",
      "  Attempting uninstall: joblib\n",
      "    Found existing installation: joblib 1.5.1\n",
      "    Uninstalling joblib-1.5.1:\n",
      "      Successfully uninstalled joblib-1.5.1\n",
      "  Attempting uninstall: idna\n",
      "    Found existing installation: idna 3.10\n",
      "    Uninstalling idna-3.10:\n",
      "      Successfully uninstalled idna-3.10\n",
      "  Attempting uninstall: fsspec\n",
      "    Found existing installation: fsspec 2025.5.1\n",
      "    Uninstalling fsspec-2025.5.1:\n",
      "      Successfully uninstalled fsspec-2025.5.1\n",
      "  Attempting uninstall: filelock\n",
      "    Found existing installation: filelock 3.18.0\n",
      "    Uninstalling filelock-3.18.0:\n",
      "      Successfully uninstalled filelock-3.18.0\n",
      "  Attempting uninstall: cramjam\n",
      "    Found existing installation: cramjam 2.10.0\n",
      "    Uninstalling cramjam-2.10.0:\n",
      "      Successfully uninstalled cramjam-2.10.0\n",
      "  Attempting uninstall: colorama\n",
      "    Found existing installation: colorama 0.4.6\n",
      "    Uninstalling colorama-0.4.6:\n",
      "      Successfully uninstalled colorama-0.4.6\n",
      "  Attempting uninstall: charset_normalizer\n",
      "    Found existing installation: charset-normalizer 3.4.2\n",
      "    Uninstalling charset-normalizer-3.4.2:\n",
      "      Successfully uninstalled charset-normalizer-3.4.2\n",
      "  Attempting uninstall: certifi\n",
      "    Found existing installation: certifi 2025.6.15\n",
      "    Uninstalling certifi-2025.6.15:\n",
      "      Successfully uninstalled certifi-2025.6.15\n",
      "  Attempting uninstall: tqdm\n",
      "    Found existing installation: tqdm 4.67.1\n",
      "    Uninstalling tqdm-4.67.1:\n",
      "      Successfully uninstalled tqdm-4.67.1\n",
      "  Attempting uninstall: requests\n",
      "    Found existing installation: requests 2.32.4\n",
      "    Uninstalling requests-2.32.4:\n",
      "      Successfully uninstalled requests-2.32.4\n",
      "  Attempting uninstall: python-dateutil\n",
      "    Found existing installation: python-dateutil 2.9.0.post0\n",
      "    Uninstalling python-dateutil-2.9.0.post0:\n",
      "      Successfully uninstalled python-dateutil-2.9.0.post0\n",
      "  Attempting uninstall: click\n",
      "    Found existing installation: click 8.2.1\n",
      "    Uninstalling click-8.2.1:\n",
      "      Successfully uninstalled click-8.2.1\n",
      "  Attempting uninstall: beautifulsoup4\n",
      "    Found existing installation: beautifulsoup4 4.13.4\n",
      "    Uninstalling beautifulsoup4-4.13.4:\n",
      "      Successfully uninstalled beautifulsoup4-4.13.4\n",
      "  Attempting uninstall: pandas\n",
      "    Found existing installation: pandas 2.3.0\n",
      "    Uninstalling pandas-2.3.0:\n",
      "      Successfully uninstalled pandas-2.3.0\n",
      "  Attempting uninstall: nltk\n",
      "    Found existing installation: nltk 3.9.1\n",
      "    Uninstalling nltk-3.9.1:\n",
      "      Successfully uninstalled nltk-3.9.1\n",
      "  Attempting uninstall: gdown\n",
      "    Found existing installation: gdown 5.2.0\n",
      "    Uninstalling gdown-5.2.0:\n",
      "      Successfully uninstalled gdown-5.2.0\n",
      "  Attempting uninstall: fastparquet\n",
      "    Found existing installation: fastparquet 2024.11.0\n",
      "    Uninstalling fastparquet-2024.11.0:\n",
      "      Successfully uninstalled fastparquet-2024.11.0\n",
      "  Attempting uninstall: open_corpus_co_es\n",
      "    Found existing installation: open_corpus_co_es 0.1.0\n",
      "    Uninstalling open_corpus_co_es-0.1.0:\n",
      "      Successfully uninstalled open_corpus_co_es-0.1.0\n",
      "Successfully installed PySocks-1.7.1 beautifulsoup4-4.13.4 certifi-2025.6.15 charset_normalizer-3.4.2 click-8.2.1 colorama-0.4.6 cramjam-2.10.0 fastparquet-2024.11.0 filelock-3.18.0 fsspec-2025.5.1 gdown-5.2.0 idna-3.10 joblib-1.5.1 nltk-3.9.1 numpy-2.3.1 open_corpus_co_es-0.1.0 packaging-25.0 pandas-2.3.0 pyarrow-20.0.0 python-dateutil-2.9.0.post0 pytz-2025.2 regex-2024.11.6 requests-2.32.4 six-1.17.0 soupsieve-2.7 tqdm-4.67.1 typing-extensions-4.14.1 tzdata-2025.2 urllib3-2.5.0\n"
     ]
    },
    {
     "name": "stderr",
     "output_type": "stream",
     "text": [
      "  Running command git clone --filter=blob:none --quiet https://github.com/puj-nlp/open_corpus_co_es.git 'C:\\Users\\phineas\\AppData\\Local\\Temp\\pip-req-build-rjgdv19h'\n",
      "  WARNING: Failed to remove contents in a temporary directory 'C:\\project\\javeriana\\repos\\cev-rag\\.venv\\Lib\\site-packages\\~-mpy.libs'.\n",
      "  You can safely remove it manually.\n",
      "  WARNING: Failed to remove contents in a temporary directory 'C:\\project\\javeriana\\repos\\cev-rag\\.venv\\Lib\\site-packages\\~-mpy'.\n",
      "  You can safely remove it manually.\n",
      "\n",
      "[notice] A new release of pip is available: 25.0.1 -> 25.1.1\n",
      "[notice] To update, run: python.exe -m pip install --upgrade pip\n",
      "INFO - Corpus 'rag_processed_data' ya descargado. Usa force=True para reescribir.\n"
     ]
    },
    {
     "name": "stdout",
     "output_type": "stream",
     "text": [
      "{'text': 'CONVOCATORIA A LA PAZ GRANDE Declaración de la Comisión para el Esclarecimiento de la Verdad, la Convivencia y la No Repetición HAY FUTURO si hay verdad INFORME FINAL Comisión para el Esclarecimieto de la Verdad, la Convivencia y la No Repetición', 'ID': 0, 'Title': 'Convocatoria a la paz grande: Declaración de la Comisión para el Esclarecimiento de la Verdad, la Convivencia y la No Repetición. (2022). Colombia. Comisión de la Verdad. ISBN 978-958-53874-3-0.', 'Page': 1, 'Type': 'Book', 'Original_Title': 'IF_CONVOCATORIA-A-LA-PAZ-GRANDE_DIGITAL_2022_cleaned', 'Link': 'https://www.comisiondelaverdad.co/hay-futuro-si-hay-verdad'}\n"
     ]
    }
   ],
   "execution_count": 1
  },
  {
   "cell_type": "code",
   "metadata": {
    "id": "siE30c8cF1ya",
    "ExecuteTime": {
     "end_time": "2025-07-07T15:04:39.728218Z",
     "start_time": "2025-07-07T15:04:39.573969Z"
    }
   },
   "source": [
    "from tqdm import tqdm\n",
    "import nltk\n",
    "from nltk.tokenize import word_tokenize, sent_tokenize\n",
    "from typing import List, Dict\n",
    "nltk.download(\"punkt\")\n",
    "nltk.download('punkt_tab')\n",
    "\n",
    "def format_text(text: str) -> str:\n",
    "    \"\"\"Realiza limpieza básica del texto.\"\"\"\n",
    "    return ' '.join(text.strip().split())\n",
    "\n",
    "def enrich_records(records: List[Dict], adjust_page_number: int = 0) -> List[Dict]:\n",
    "    \"\"\"Realimenta cada objeto con métricas del texto y número de página ajustado.\"\"\"\n",
    "    enriched = []\n",
    "\n",
    "    for i, record in tqdm(enumerate(records)):\n",
    "        formatted_text = format_text(record.get(\"text\", \"\"))\n",
    "        words = word_tokenize(formatted_text)\n",
    "        sentences = sent_tokenize(formatted_text)\n",
    "\n",
    "        page_number = record.get(\"Page\", 0)\n",
    "\n",
    "        record.update({\n",
    "            \"page_number\": page_number + adjust_page_number,\n",
    "            \"page_char_count\": len(formatted_text),\n",
    "            \"page_word_count\": len(words),\n",
    "            \"page_sentence_count\": len(sentences),\n",
    "            \"page_token_count\": len(words),  # token = word aquí\n",
    "            \"text\": formatted_text\n",
    "        })\n",
    "        enriched.append(record)\n",
    "\n",
    "    return enriched"
   ],
   "outputs": [
    {
     "name": "stderr",
     "output_type": "stream",
     "text": [
      "[nltk_data] Downloading package punkt to\n",
      "[nltk_data]     C:\\Users\\phineas\\AppData\\Roaming\\nltk_data...\n",
      "[nltk_data]   Package punkt is already up-to-date!\n",
      "[nltk_data] Downloading package punkt_tab to\n",
      "[nltk_data]     C:\\Users\\phineas\\AppData\\Roaming\\nltk_data...\n",
      "[nltk_data]   Package punkt_tab is already up-to-date!\n"
     ]
    }
   ],
   "execution_count": 2
  },
  {
   "cell_type": "code",
   "metadata": {
    "id": "uSKccekNG3rA",
    "ExecuteTime": {
     "end_time": "2025-07-07T15:05:06.138226Z",
     "start_time": "2025-07-07T15:04:53.979336Z"
    }
   },
   "source": [
    "datos_enrich = enrich_records(datos[:10000])\n",
    "datos_enrich[:1]"
   ],
   "outputs": [
    {
     "name": "stderr",
     "output_type": "stream",
     "text": [
      "10000it [00:12, 823.04it/s]\n"
     ]
    },
    {
     "data": {
      "text/plain": [
       "[{'text': 'CONVOCATORIA A LA PAZ GRANDE Declaración de la Comisión para el Esclarecimiento de la Verdad, la Convivencia y la No Repetición HAY FUTURO si hay verdad INFORME FINAL Comisión para el Esclarecimieto de la Verdad, la Convivencia y la No Repetición',\n",
       "  'ID': 0,\n",
       "  'Title': 'Convocatoria a la paz grande: Declaración de la Comisión para el Esclarecimiento de la Verdad, la Convivencia y la No Repetición. (2022). Colombia. Comisión de la Verdad. ISBN 978-958-53874-3-0.',\n",
       "  'Page': 1,\n",
       "  'Type': 'Book',\n",
       "  'Original_Title': 'IF_CONVOCATORIA-A-LA-PAZ-GRANDE_DIGITAL_2022_cleaned',\n",
       "  'Link': 'https://www.comisiondelaverdad.co/hay-futuro-si-hay-verdad',\n",
       "  'page_number': 1,\n",
       "  'page_char_count': 246,\n",
       "  'page_word_count': 43,\n",
       "  'page_sentence_count': 1,\n",
       "  'page_token_count': 43}]"
      ]
     },
     "execution_count": 3,
     "metadata": {},
     "output_type": "execute_result"
    }
   ],
   "execution_count": 3
  },
  {
   "cell_type": "code",
   "metadata": {
    "id": "akTwCUSLURku",
    "ExecuteTime": {
     "end_time": "2025-07-07T15:05:29.830147Z",
     "start_time": "2025-07-07T15:05:29.826147Z"
    }
   },
   "source": [
    "import random\n",
    "\n",
    "random.sample(datos_enrich, k=3)"
   ],
   "outputs": [
    {
     "data": {
      "text/plain": [
       "[{'text': '136 no matarás Gráfica 5. Hechos violentos contra mandatarios pertenecientes a la UNO (1973-1983) Fuente: Informe 748-CI-00635. «Persecución, estigmatización y exterminio de la UNO», 50. De acuerdo con los informes y entrevistas recogidas por la Comisión de la Verdad, casi siempre la persecución de estos grupos comenzaba una vez saltaban a la arena electoral y obtenían algún triunfo en las urnas. Tal es el caso de la UNO, coalición fun- dada en 1972 por el PCC de la que formaron parte sectores disidentes del anapismo, liberales congregados en los movimientos Liberalismo Popular, Nuevo Liberalismo, Izquierda Liberal, Frente de Renovación Liberal, Movimiento de Izquierda Liberal y sectores de izquierda democrática, como el Partido Demócrata Cristiano, el MOIR y el Partido Socialista Revolucionario382. En las elecciones legislativas de 1974 alcanzaron dos curules en el Senado, nueve en la Cámara de Representantes, nueve diputados y quince concejales383. El avance de la UNO se frenó con violencia. En campaña las autoridades decomisaban propaganda de la Unión y en lugares como Cimitarra, Puerto Berrío o Puerto Boyacá (Magdalena Medio) miembros de la UNO fueron heridos o asesinados por dirigentes políticos de los partidos Liberal y Conservador384. 382 Informe 748-CI-00635. Partido Comunista Colombiano (PCC), Universidad Industrial de Santander (UIS) y Archivo Oral de Memoria de las Víctimas (Amovi), «Unidad, terror y resistencia», 333-340. 383 Ibíd., 501. 384 Ver: Aguilera Peña y Comisión Nacional de Reparación y Reconciliación (Colombia), El orden desarmado, 218; Informe 748-CI-00635. Partido Comunista Colombiano (PCC), Universidad Industrial de Santander (UIS) y Archivo Oral de Memoria de las Víctimas (Amovi), «Unidad, terror y resistencia», 827-860. 10,0 5,0 0,0 Hechos Año Agresiones físicas Allanamiento Amenazas Atentado Desaparición forzada Desplazamiento forzado Detención arbitraria Homicidio 1973 1974 1975 1976 1977 1978 1979 1980 1981 1982 1983',\n",
       "  'ID': 901,\n",
       "  'Title': 'No matarás: Relato histórico del conflicto armado interno en Colombia. (2022). Colombia. Comisión de la Verdad. ISBN 978-958-53874-3-0.',\n",
       "  'Page': 136,\n",
       "  'Type': 'Book',\n",
       "  'Original_Title': 'CEV_NARRATIVA_HISTORICA_DIGITAL_2022_cleaned',\n",
       "  'Link': 'https://www.comisiondelaverdad.co/hay-futuro-si-hay-verdad',\n",
       "  'page_number': 136,\n",
       "  'page_char_count': 1980,\n",
       "  'page_word_count': 354,\n",
       "  'page_sentence_count': 14,\n",
       "  'page_token_count': 354},\n",
       " {'text': 'el exilio también es resistencia 445 ninguna manera de que la gente que estuviera a mi alrededor me ayudara. Y había un montón de gente, y esto no sé si pasa también en Colombia, pero aquí me pasó que a la gente le daba muchísimo corte hablar de esto. Cuando les contaba –no contaba mucho lo que estaba pasando– a la gente le parecía como tal el horror que no sabían cómo reac- cionar, y había un silencio sepulcral ante el dolor que yo estaba sintiendo; entonces había una barrera de comunicación muy profunda. Si no hubiera sido por tres o cuatro personas que estuvieron a mi alrededor, que aquí hay unas cuantas, yo no sé qué hubiera hecho»892. Cuando los colombianos y las colombianas se apoyan entre sí, saltando las barreras políticas que tan frecuentemente limitan el diálogo y la solidaridad, ocurren cosas inesperadas y poderosas. En Quebec, Canadá, una familia colombiana murió en un accidente de tráfico y los refugiados colombianos, que en otros casos no querían tener ningún contacto, hicieron una colecta para poder pagar los gastos y fueron el apoyo de la familia. Esas formas de acompañar el dolor desde la colectividad se asumen en los exiliados como un tipo de esperanza: no se pregunta de qué lado de la guerra estaban los muertos, sino que se acude a la solidaridad y el acompañamiento. Muchas de las experiencias de trabajo colectivo (expresión artística, de apoyo en la realización de actividades sociales o de los grupos de apoyo mutuo o los procesos organizativos de las víctimas) se han basado en la acción colectiva de las mujeres. Las mujeres exiliadas relatan que los procesos de apoyo entre mujeres las han ayudado a afrontar las dificultades y necesidades del exilio. A través de redes que promueven la sororidad y de las nuevas amistades, las mujeres se ayudan en el cuidado de los hijos, a desahogarse, a darse aliento, a conseguir empleo. A veces, el escuchar y hacerse compañía tiene un impacto transformador y tranquilizante. En el trabajo psicosocial debe destacarse la iniciativa de Mujer Diáspora893, que enfoca su trabajo en la sanación psicosocial, el empoderamiento de las mujeres y el desarrollo de metodologías inno- vadoras para contribuir a procesos de paz más transformadores y sostenibles: «El proceso ha sido maravilloso. Se esperaba que las mujeres habláramos solo desde el dolor y nosotras hemos hablado desde la fortaleza, las estrategias y las habilidades que hemos desarrollado para afrontar situaciones complejas y para adaptarnos en otros contextos y culturas»894. 892 Entrevista 126-VI-00003. Hijo de madre secuestrada, exiliado en España desde 1999. 893 El proyecto «Comisión de Verdad, Memoria y Reconciliación de las Mujeres Colombianas en la Diáspora» se trató de una iniciativa ciudadana que surgió en 2014 y estuvo apoyada por organizaciones como Conciliation Resources y el Instituto Catalán Internacional por la Paz (ICIP). Su objetivo fue documentar la experiencia de la guerra y la migración de cara a contribuir en los procesos formales de verdad, memoria y reconciliación en Colombia. Este proyecto, renombrado ahora como Mujer Diáspora, ha desarrollado un trabajo psicosocial de escucha a mujeres en Londres, Estocolmo y Barcelona, a través de una metodología propia llamada «memoria activa», que se basa en la escucha activa, el diálogo entre quien narra y quienes escuchan y la participación flexible (Miralles Crespo y Cooperativa, «Mujeres y construcción».) 894 Mujer Diáspora, «Quiénes somos».',\n",
       "  'ID': 5045,\n",
       "  'Title': 'La Colombia fuera de Colombia: Las verdades del exilio. (2022). Colombia. Comisión de la Verdad. ISBN 978-628-7590-04-5 (impreso), ISBN 978-628-7590-26-7 (digital).',\n",
       "  'Page': 445,\n",
       "  'Type': 'Book',\n",
       "  'Original_Title': 'CEV_LA_COLOMBIA_FUERA_DE_COLOMBIA_DIGITAL_2022_cleaned',\n",
       "  'Link': 'https://www.comisiondelaverdad.co/hay-futuro-si-hay-verdad',\n",
       "  'page_number': 445,\n",
       "  'page_char_count': 3467,\n",
       "  'page_word_count': 634,\n",
       "  'page_sentence_count': 19,\n",
       "  'page_token_count': 634},\n",
       " {'text': 'otros servicios, pese a hay al menos 20 fallos judiciales que ordenan reparar el daño. Queremos que nos cumplan y no nos olviden»321. Si bien la explotación petrolera continuaba en Norte de Santander, la intensidad del conflicto fue mucho menor que la vivida en Arauca. No obstante, en este depar- tamento, las guerrillas efectuaron ataques similares a la infraestructura petrolera y bienes asociados y se contabilizaron 224 hechos de esta naturaleza entre 1989 y 1998. Pero mientras en Arauca la financiación de los grupos armados se configuró en torno a las rentas del petróleo, en Norte de Santander se dio principalmente alrededor de la economía cocalera. Regulación social y violencia contra la población civil Además de mantener el dominio de las fuentes de financiación, las guerrillas conti- nuaron ejerciendo control sobre la población, a través de rígidos códigos de conducta. Un líder comunal araucano recuerda así las acciones del ELN en cuanto al control social y de la vida cotidiana de la comunidad: «Su presencia inicialmente se destacó por mantener la convivencia, por buscar que las comunidades se organizaran, que lograran la paz y la tranquilidad. A las perso- nas que robaban, que afectaban a la comunidad, las ajusticiaban públicamente y no necesariamente para asesinarla. Había tareas comunitarias obligatorias, dependiendo el tipo de afectación a la comunidad. En algunos casos obligaron a ciertas personas a irse del territorio e incluso las asesinaron como última medida. [...] Que robaban, que robaban animales o que atracaban, que cualquier cosa, pues los mataban. O si alguna persona también iba y le decía al Ejército o a la Policía que ellos estaban por ahí, pues también lo mataban. Entonces así mataron a muchas personas. [...] Yo me acuerdo que por ahí del 90 al 97 fue muy fuerte»322. Además, las guerrillas incrementaron las tomas a poblaciones y los ataques a estaciones de Policía. Entre 1992 y 2002, las FARC protagonizaron 12 acciones de este tipo en Norte de Santander y 19 en Arauca; el ELN perpetró 22 en Norte de 321 Comisión de la Verdad, «Sobreviviente relató a la Comisión de la Verdad cómo fue la Masacre de Santo Domingo». 322 Entrevista 168-VI-00059. Víctima, hombre, líder comunal.',\n",
       "  'ID': 5843,\n",
       "  'Title': 'Frontera nororiental. (2022). Colombia. Comisión de la Verdad. ISBN 978-958-53874-3-0.',\n",
       "  'Page': 109,\n",
       "  'Type': 'Book',\n",
       "  'Original_Title': 'CEV_TERRITORIAL_FRONTERA_DIGITAL_2022_cleaned',\n",
       "  'Link': 'https://www.comisiondelaverdad.co/hay-futuro-si-hay-verdad',\n",
       "  'page_number': 109,\n",
       "  'page_char_count': 2232,\n",
       "  'page_word_count': 415,\n",
       "  'page_sentence_count': 18,\n",
       "  'page_token_count': 415}]"
      ]
     },
     "execution_count": 4,
     "metadata": {},
     "output_type": "execute_result"
    }
   ],
   "execution_count": 4
  },
  {
   "cell_type": "code",
   "metadata": {
    "id": "pWskiHFPhiH4",
    "ExecuteTime": {
     "end_time": "2025-07-07T15:05:31.908922Z",
     "start_time": "2025-07-07T15:05:31.888817Z"
    }
   },
   "source": [
    "import pandas as pd\n",
    "\n",
    "df = pd.DataFrame(datos_enrich)\n",
    "df.head()"
   ],
   "outputs": [
    {
     "data": {
      "text/plain": [
       "                                                text  ID  \\\n",
       "0  CONVOCATORIA A LA PAZ GRANDE Declaración de la...   0   \n",
       "1  CONVOCATORIA A LA PAZ GRANDE DECLARACIÓN DE LA...   1   \n",
       "2  Colombia. Comisión de la Verdad, autor Hay fut...   2   \n",
       "3  Hay futuro si hay verdad. Informe Final de la ...   3   \n",
       "4  Convocatoria a la paz grande. Declaración de l...   4   \n",
       "\n",
       "                                               Title  Page  Type  \\\n",
       "0  Convocatoria a la paz grande: Declaración de l...     1  Book   \n",
       "1  Convocatoria a la paz grande: Declaración de l...     3  Book   \n",
       "2  Convocatoria a la paz grande: Declaración de l...     4  Book   \n",
       "3  Convocatoria a la paz grande: Declaración de l...     5  Book   \n",
       "4  Convocatoria a la paz grande: Declaración de l...     6  Book   \n",
       "\n",
       "                                      Original_Title  \\\n",
       "0  IF_CONVOCATORIA-A-LA-PAZ-GRANDE_DIGITAL_2022_c...   \n",
       "1  IF_CONVOCATORIA-A-LA-PAZ-GRANDE_DIGITAL_2022_c...   \n",
       "2  IF_CONVOCATORIA-A-LA-PAZ-GRANDE_DIGITAL_2022_c...   \n",
       "3  IF_CONVOCATORIA-A-LA-PAZ-GRANDE_DIGITAL_2022_c...   \n",
       "4  IF_CONVOCATORIA-A-LA-PAZ-GRANDE_DIGITAL_2022_c...   \n",
       "\n",
       "                                                Link  page_number  \\\n",
       "0  https://www.comisiondelaverdad.co/hay-futuro-s...            1   \n",
       "1  https://www.comisiondelaverdad.co/hay-futuro-s...            3   \n",
       "2  https://www.comisiondelaverdad.co/hay-futuro-s...            4   \n",
       "3  https://www.comisiondelaverdad.co/hay-futuro-s...            5   \n",
       "4  https://www.comisiondelaverdad.co/hay-futuro-s...            6   \n",
       "\n",
       "   page_char_count  page_word_count  page_sentence_count  page_token_count  \n",
       "0              246               43                    1                43  \n",
       "1              166               29                    1                29  \n",
       "2             2712              568                   56               568  \n",
       "3             1027              159                    2               159  \n",
       "4              871              132                    2               132  "
      ],
      "text/html": [
       "<div>\n",
       "<style scoped>\n",
       "    .dataframe tbody tr th:only-of-type {\n",
       "        vertical-align: middle;\n",
       "    }\n",
       "\n",
       "    .dataframe tbody tr th {\n",
       "        vertical-align: top;\n",
       "    }\n",
       "\n",
       "    .dataframe thead th {\n",
       "        text-align: right;\n",
       "    }\n",
       "</style>\n",
       "<table border=\"1\" class=\"dataframe\">\n",
       "  <thead>\n",
       "    <tr style=\"text-align: right;\">\n",
       "      <th></th>\n",
       "      <th>text</th>\n",
       "      <th>ID</th>\n",
       "      <th>Title</th>\n",
       "      <th>Page</th>\n",
       "      <th>Type</th>\n",
       "      <th>Original_Title</th>\n",
       "      <th>Link</th>\n",
       "      <th>page_number</th>\n",
       "      <th>page_char_count</th>\n",
       "      <th>page_word_count</th>\n",
       "      <th>page_sentence_count</th>\n",
       "      <th>page_token_count</th>\n",
       "    </tr>\n",
       "  </thead>\n",
       "  <tbody>\n",
       "    <tr>\n",
       "      <th>0</th>\n",
       "      <td>CONVOCATORIA A LA PAZ GRANDE Declaración de la...</td>\n",
       "      <td>0</td>\n",
       "      <td>Convocatoria a la paz grande: Declaración de l...</td>\n",
       "      <td>1</td>\n",
       "      <td>Book</td>\n",
       "      <td>IF_CONVOCATORIA-A-LA-PAZ-GRANDE_DIGITAL_2022_c...</td>\n",
       "      <td>https://www.comisiondelaverdad.co/hay-futuro-s...</td>\n",
       "      <td>1</td>\n",
       "      <td>246</td>\n",
       "      <td>43</td>\n",
       "      <td>1</td>\n",
       "      <td>43</td>\n",
       "    </tr>\n",
       "    <tr>\n",
       "      <th>1</th>\n",
       "      <td>CONVOCATORIA A LA PAZ GRANDE DECLARACIÓN DE LA...</td>\n",
       "      <td>1</td>\n",
       "      <td>Convocatoria a la paz grande: Declaración de l...</td>\n",
       "      <td>3</td>\n",
       "      <td>Book</td>\n",
       "      <td>IF_CONVOCATORIA-A-LA-PAZ-GRANDE_DIGITAL_2022_c...</td>\n",
       "      <td>https://www.comisiondelaverdad.co/hay-futuro-s...</td>\n",
       "      <td>3</td>\n",
       "      <td>166</td>\n",
       "      <td>29</td>\n",
       "      <td>1</td>\n",
       "      <td>29</td>\n",
       "    </tr>\n",
       "    <tr>\n",
       "      <th>2</th>\n",
       "      <td>Colombia. Comisión de la Verdad, autor Hay fut...</td>\n",
       "      <td>2</td>\n",
       "      <td>Convocatoria a la paz grande: Declaración de l...</td>\n",
       "      <td>4</td>\n",
       "      <td>Book</td>\n",
       "      <td>IF_CONVOCATORIA-A-LA-PAZ-GRANDE_DIGITAL_2022_c...</td>\n",
       "      <td>https://www.comisiondelaverdad.co/hay-futuro-s...</td>\n",
       "      <td>4</td>\n",
       "      <td>2712</td>\n",
       "      <td>568</td>\n",
       "      <td>56</td>\n",
       "      <td>568</td>\n",
       "    </tr>\n",
       "    <tr>\n",
       "      <th>3</th>\n",
       "      <td>Hay futuro si hay verdad. Informe Final de la ...</td>\n",
       "      <td>3</td>\n",
       "      <td>Convocatoria a la paz grande: Declaración de l...</td>\n",
       "      <td>5</td>\n",
       "      <td>Book</td>\n",
       "      <td>IF_CONVOCATORIA-A-LA-PAZ-GRANDE_DIGITAL_2022_c...</td>\n",
       "      <td>https://www.comisiondelaverdad.co/hay-futuro-s...</td>\n",
       "      <td>5</td>\n",
       "      <td>1027</td>\n",
       "      <td>159</td>\n",
       "      <td>2</td>\n",
       "      <td>159</td>\n",
       "    </tr>\n",
       "    <tr>\n",
       "      <th>4</th>\n",
       "      <td>Convocatoria a la paz grande. Declaración de l...</td>\n",
       "      <td>4</td>\n",
       "      <td>Convocatoria a la paz grande: Declaración de l...</td>\n",
       "      <td>6</td>\n",
       "      <td>Book</td>\n",
       "      <td>IF_CONVOCATORIA-A-LA-PAZ-GRANDE_DIGITAL_2022_c...</td>\n",
       "      <td>https://www.comisiondelaverdad.co/hay-futuro-s...</td>\n",
       "      <td>6</td>\n",
       "      <td>871</td>\n",
       "      <td>132</td>\n",
       "      <td>2</td>\n",
       "      <td>132</td>\n",
       "    </tr>\n",
       "  </tbody>\n",
       "</table>\n",
       "</div>"
      ]
     },
     "execution_count": 5,
     "metadata": {},
     "output_type": "execute_result"
    }
   ],
   "execution_count": 5
  },
  {
   "cell_type": "code",
   "metadata": {
    "id": "LAw35BtWxKzh",
    "ExecuteTime": {
     "end_time": "2025-07-07T15:05:33.754136Z",
     "start_time": "2025-07-07T15:05:33.737621Z"
    }
   },
   "source": [
    "df.describe().round(2)"
   ],
   "outputs": [
    {
     "data": {
      "text/plain": [
       "             ID      Page  page_number  page_char_count  page_word_count  \\\n",
       "count  10000.00  10000.00     10000.00         10000.00         10000.00   \n",
       "mean    4999.50    193.22       193.22          2710.97           529.24   \n",
       "std     2886.90    213.00       213.00           883.35           175.68   \n",
       "min        0.00      1.00         1.00             1.00             1.00   \n",
       "25%     2499.75     27.00        27.00          2476.00           483.00   \n",
       "50%     4999.50    119.00       119.00          2971.00           565.00   \n",
       "75%     7499.25    289.25       289.25          3230.00           621.00   \n",
       "max     9999.00   1144.00      1144.00          5003.00           978.00   \n",
       "\n",
       "       page_sentence_count  page_token_count  \n",
       "count             10000.00          10000.00  \n",
       "mean                 19.43            529.24  \n",
       "std                  10.50            175.68  \n",
       "min                   1.00              1.00  \n",
       "25%                  14.00            483.00  \n",
       "50%                  18.00            565.00  \n",
       "75%                  24.00            621.00  \n",
       "max                  98.00            978.00  "
      ],
      "text/html": [
       "<div>\n",
       "<style scoped>\n",
       "    .dataframe tbody tr th:only-of-type {\n",
       "        vertical-align: middle;\n",
       "    }\n",
       "\n",
       "    .dataframe tbody tr th {\n",
       "        vertical-align: top;\n",
       "    }\n",
       "\n",
       "    .dataframe thead th {\n",
       "        text-align: right;\n",
       "    }\n",
       "</style>\n",
       "<table border=\"1\" class=\"dataframe\">\n",
       "  <thead>\n",
       "    <tr style=\"text-align: right;\">\n",
       "      <th></th>\n",
       "      <th>ID</th>\n",
       "      <th>Page</th>\n",
       "      <th>page_number</th>\n",
       "      <th>page_char_count</th>\n",
       "      <th>page_word_count</th>\n",
       "      <th>page_sentence_count</th>\n",
       "      <th>page_token_count</th>\n",
       "    </tr>\n",
       "  </thead>\n",
       "  <tbody>\n",
       "    <tr>\n",
       "      <th>count</th>\n",
       "      <td>10000.00</td>\n",
       "      <td>10000.00</td>\n",
       "      <td>10000.00</td>\n",
       "      <td>10000.00</td>\n",
       "      <td>10000.00</td>\n",
       "      <td>10000.00</td>\n",
       "      <td>10000.00</td>\n",
       "    </tr>\n",
       "    <tr>\n",
       "      <th>mean</th>\n",
       "      <td>4999.50</td>\n",
       "      <td>193.22</td>\n",
       "      <td>193.22</td>\n",
       "      <td>2710.97</td>\n",
       "      <td>529.24</td>\n",
       "      <td>19.43</td>\n",
       "      <td>529.24</td>\n",
       "    </tr>\n",
       "    <tr>\n",
       "      <th>std</th>\n",
       "      <td>2886.90</td>\n",
       "      <td>213.00</td>\n",
       "      <td>213.00</td>\n",
       "      <td>883.35</td>\n",
       "      <td>175.68</td>\n",
       "      <td>10.50</td>\n",
       "      <td>175.68</td>\n",
       "    </tr>\n",
       "    <tr>\n",
       "      <th>min</th>\n",
       "      <td>0.00</td>\n",
       "      <td>1.00</td>\n",
       "      <td>1.00</td>\n",
       "      <td>1.00</td>\n",
       "      <td>1.00</td>\n",
       "      <td>1.00</td>\n",
       "      <td>1.00</td>\n",
       "    </tr>\n",
       "    <tr>\n",
       "      <th>25%</th>\n",
       "      <td>2499.75</td>\n",
       "      <td>27.00</td>\n",
       "      <td>27.00</td>\n",
       "      <td>2476.00</td>\n",
       "      <td>483.00</td>\n",
       "      <td>14.00</td>\n",
       "      <td>483.00</td>\n",
       "    </tr>\n",
       "    <tr>\n",
       "      <th>50%</th>\n",
       "      <td>4999.50</td>\n",
       "      <td>119.00</td>\n",
       "      <td>119.00</td>\n",
       "      <td>2971.00</td>\n",
       "      <td>565.00</td>\n",
       "      <td>18.00</td>\n",
       "      <td>565.00</td>\n",
       "    </tr>\n",
       "    <tr>\n",
       "      <th>75%</th>\n",
       "      <td>7499.25</td>\n",
       "      <td>289.25</td>\n",
       "      <td>289.25</td>\n",
       "      <td>3230.00</td>\n",
       "      <td>621.00</td>\n",
       "      <td>24.00</td>\n",
       "      <td>621.00</td>\n",
       "    </tr>\n",
       "    <tr>\n",
       "      <th>max</th>\n",
       "      <td>9999.00</td>\n",
       "      <td>1144.00</td>\n",
       "      <td>1144.00</td>\n",
       "      <td>5003.00</td>\n",
       "      <td>978.00</td>\n",
       "      <td>98.00</td>\n",
       "      <td>978.00</td>\n",
       "    </tr>\n",
       "  </tbody>\n",
       "</table>\n",
       "</div>"
      ]
     },
     "execution_count": 6,
     "metadata": {},
     "output_type": "execute_result"
    }
   ],
   "execution_count": 6
  },
  {
   "metadata": {
    "ExecuteTime": {
     "end_time": "2025-07-07T15:05:45.662276Z",
     "start_time": "2025-07-07T15:05:37.298635Z"
    }
   },
   "cell_type": "code",
   "source": [
    "!pip install -U pip setuptools wheel\n",
    "!pip install -U spacy\n",
    "!python -m spacy download es_core_news_sm"
   ],
   "outputs": [
    {
     "name": "stdout",
     "output_type": "stream",
     "text": [
      "Requirement already satisfied: pip in c:\\project\\javeriana\\repos\\cev-rag\\.venv\\lib\\site-packages (25.0.1)\n",
      "Collecting pip\n",
      "  Using cached pip-25.1.1-py3-none-any.whl.metadata (3.6 kB)\n",
      "Requirement already satisfied: setuptools in c:\\project\\javeriana\\repos\\cev-rag\\.venv\\lib\\site-packages (80.9.0)\n",
      "Collecting wheel\n",
      "  Using cached wheel-0.45.1-py3-none-any.whl.metadata (2.3 kB)\n",
      "Using cached pip-25.1.1-py3-none-any.whl (1.8 MB)\n",
      "Using cached wheel-0.45.1-py3-none-any.whl (72 kB)\n"
     ]
    },
    {
     "name": "stderr",
     "output_type": "stream",
     "text": [
      "\n",
      "[notice] A new release of pip is available: 25.0.1 -> 25.1.1\n",
      "[notice] To update, run: python.exe -m pip install --upgrade pip\n",
      "ERROR: To modify pip, please run the following command:\n",
      "C:\\project\\javeriana\\repos\\cev-rag\\.venv\\Scripts\\python.exe -m pip install -U pip setuptools wheel\n"
     ]
    },
    {
     "name": "stdout",
     "output_type": "stream",
     "text": [
      "Requirement already satisfied: spacy in c:\\project\\javeriana\\repos\\cev-rag\\.venv\\lib\\site-packages (3.8.7)\n",
      "Requirement already satisfied: spacy-legacy<3.1.0,>=3.0.11 in c:\\project\\javeriana\\repos\\cev-rag\\.venv\\lib\\site-packages (from spacy) (3.0.12)\n",
      "Requirement already satisfied: spacy-loggers<2.0.0,>=1.0.0 in c:\\project\\javeriana\\repos\\cev-rag\\.venv\\lib\\site-packages (from spacy) (1.0.5)\n",
      "Requirement already satisfied: murmurhash<1.1.0,>=0.28.0 in c:\\project\\javeriana\\repos\\cev-rag\\.venv\\lib\\site-packages (from spacy) (1.0.13)\n",
      "Requirement already satisfied: cymem<2.1.0,>=2.0.2 in c:\\project\\javeriana\\repos\\cev-rag\\.venv\\lib\\site-packages (from spacy) (2.0.11)\n",
      "Requirement already satisfied: preshed<3.1.0,>=3.0.2 in c:\\project\\javeriana\\repos\\cev-rag\\.venv\\lib\\site-packages (from spacy) (3.0.10)\n",
      "Requirement already satisfied: thinc<8.4.0,>=8.3.4 in c:\\project\\javeriana\\repos\\cev-rag\\.venv\\lib\\site-packages (from spacy) (8.3.6)\n",
      "Requirement already satisfied: wasabi<1.2.0,>=0.9.1 in c:\\project\\javeriana\\repos\\cev-rag\\.venv\\lib\\site-packages (from spacy) (1.1.3)\n",
      "Requirement already satisfied: srsly<3.0.0,>=2.4.3 in c:\\project\\javeriana\\repos\\cev-rag\\.venv\\lib\\site-packages (from spacy) (2.5.1)\n",
      "Requirement already satisfied: catalogue<2.1.0,>=2.0.6 in c:\\project\\javeriana\\repos\\cev-rag\\.venv\\lib\\site-packages (from spacy) (2.0.10)\n",
      "Requirement already satisfied: weasel<0.5.0,>=0.1.0 in c:\\project\\javeriana\\repos\\cev-rag\\.venv\\lib\\site-packages (from spacy) (0.4.1)\n",
      "Requirement already satisfied: typer<1.0.0,>=0.3.0 in c:\\project\\javeriana\\repos\\cev-rag\\.venv\\lib\\site-packages (from spacy) (0.16.0)\n",
      "Requirement already satisfied: tqdm<5.0.0,>=4.38.0 in c:\\project\\javeriana\\repos\\cev-rag\\.venv\\lib\\site-packages (from spacy) (4.67.1)\n",
      "Requirement already satisfied: numpy>=1.19.0 in c:\\project\\javeriana\\repos\\cev-rag\\.venv\\lib\\site-packages (from spacy) (2.3.1)\n",
      "Requirement already satisfied: requests<3.0.0,>=2.13.0 in c:\\project\\javeriana\\repos\\cev-rag\\.venv\\lib\\site-packages (from spacy) (2.32.4)\n",
      "Requirement already satisfied: pydantic!=1.8,!=1.8.1,<3.0.0,>=1.7.4 in c:\\project\\javeriana\\repos\\cev-rag\\.venv\\lib\\site-packages (from spacy) (2.11.7)\n",
      "Requirement already satisfied: jinja2 in c:\\project\\javeriana\\repos\\cev-rag\\.venv\\lib\\site-packages (from spacy) (3.1.6)\n",
      "Requirement already satisfied: setuptools in c:\\project\\javeriana\\repos\\cev-rag\\.venv\\lib\\site-packages (from spacy) (80.9.0)\n",
      "Requirement already satisfied: packaging>=20.0 in c:\\project\\javeriana\\repos\\cev-rag\\.venv\\lib\\site-packages (from spacy) (25.0)\n",
      "Requirement already satisfied: langcodes<4.0.0,>=3.2.0 in c:\\project\\javeriana\\repos\\cev-rag\\.venv\\lib\\site-packages (from spacy) (3.5.0)\n",
      "Requirement already satisfied: language-data>=1.2 in c:\\project\\javeriana\\repos\\cev-rag\\.venv\\lib\\site-packages (from langcodes<4.0.0,>=3.2.0->spacy) (1.3.0)\n",
      "Requirement already satisfied: annotated-types>=0.6.0 in c:\\project\\javeriana\\repos\\cev-rag\\.venv\\lib\\site-packages (from pydantic!=1.8,!=1.8.1,<3.0.0,>=1.7.4->spacy) (0.7.0)\n",
      "Requirement already satisfied: pydantic-core==2.33.2 in c:\\project\\javeriana\\repos\\cev-rag\\.venv\\lib\\site-packages (from pydantic!=1.8,!=1.8.1,<3.0.0,>=1.7.4->spacy) (2.33.2)\n",
      "Requirement already satisfied: typing-extensions>=4.12.2 in c:\\project\\javeriana\\repos\\cev-rag\\.venv\\lib\\site-packages (from pydantic!=1.8,!=1.8.1,<3.0.0,>=1.7.4->spacy) (4.14.1)\n",
      "Requirement already satisfied: typing-inspection>=0.4.0 in c:\\project\\javeriana\\repos\\cev-rag\\.venv\\lib\\site-packages (from pydantic!=1.8,!=1.8.1,<3.0.0,>=1.7.4->spacy) (0.4.1)\n",
      "Requirement already satisfied: charset_normalizer<4,>=2 in c:\\project\\javeriana\\repos\\cev-rag\\.venv\\lib\\site-packages (from requests<3.0.0,>=2.13.0->spacy) (3.4.2)\n",
      "Requirement already satisfied: idna<4,>=2.5 in c:\\project\\javeriana\\repos\\cev-rag\\.venv\\lib\\site-packages (from requests<3.0.0,>=2.13.0->spacy) (3.10)\n",
      "Requirement already satisfied: urllib3<3,>=1.21.1 in c:\\project\\javeriana\\repos\\cev-rag\\.venv\\lib\\site-packages (from requests<3.0.0,>=2.13.0->spacy) (2.5.0)\n",
      "Requirement already satisfied: certifi>=2017.4.17 in c:\\project\\javeriana\\repos\\cev-rag\\.venv\\lib\\site-packages (from requests<3.0.0,>=2.13.0->spacy) (2025.6.15)\n",
      "Requirement already satisfied: blis<1.4.0,>=1.3.0 in c:\\project\\javeriana\\repos\\cev-rag\\.venv\\lib\\site-packages (from thinc<8.4.0,>=8.3.4->spacy) (1.3.0)\n",
      "Requirement already satisfied: confection<1.0.0,>=0.0.1 in c:\\project\\javeriana\\repos\\cev-rag\\.venv\\lib\\site-packages (from thinc<8.4.0,>=8.3.4->spacy) (0.1.5)\n",
      "Requirement already satisfied: colorama in c:\\project\\javeriana\\repos\\cev-rag\\.venv\\lib\\site-packages (from tqdm<5.0.0,>=4.38.0->spacy) (0.4.6)\n",
      "Requirement already satisfied: click>=8.0.0 in c:\\project\\javeriana\\repos\\cev-rag\\.venv\\lib\\site-packages (from typer<1.0.0,>=0.3.0->spacy) (8.2.1)\n",
      "Requirement already satisfied: shellingham>=1.3.0 in c:\\project\\javeriana\\repos\\cev-rag\\.venv\\lib\\site-packages (from typer<1.0.0,>=0.3.0->spacy) (1.5.4)\n",
      "Requirement already satisfied: rich>=10.11.0 in c:\\project\\javeriana\\repos\\cev-rag\\.venv\\lib\\site-packages (from typer<1.0.0,>=0.3.0->spacy) (14.0.0)\n",
      "Requirement already satisfied: cloudpathlib<1.0.0,>=0.7.0 in c:\\project\\javeriana\\repos\\cev-rag\\.venv\\lib\\site-packages (from weasel<0.5.0,>=0.1.0->spacy) (0.21.1)\n",
      "Requirement already satisfied: smart-open<8.0.0,>=5.2.1 in c:\\project\\javeriana\\repos\\cev-rag\\.venv\\lib\\site-packages (from weasel<0.5.0,>=0.1.0->spacy) (7.3.0.post1)\n",
      "Requirement already satisfied: MarkupSafe>=2.0 in c:\\project\\javeriana\\repos\\cev-rag\\.venv\\lib\\site-packages (from jinja2->spacy) (3.0.2)\n",
      "Requirement already satisfied: marisa-trie>=1.1.0 in c:\\project\\javeriana\\repos\\cev-rag\\.venv\\lib\\site-packages (from language-data>=1.2->langcodes<4.0.0,>=3.2.0->spacy) (1.2.1)\n",
      "Requirement already satisfied: markdown-it-py>=2.2.0 in c:\\project\\javeriana\\repos\\cev-rag\\.venv\\lib\\site-packages (from rich>=10.11.0->typer<1.0.0,>=0.3.0->spacy) (3.0.0)\n",
      "Requirement already satisfied: pygments<3.0.0,>=2.13.0 in c:\\project\\javeriana\\repos\\cev-rag\\.venv\\lib\\site-packages (from rich>=10.11.0->typer<1.0.0,>=0.3.0->spacy) (2.19.2)\n",
      "Requirement already satisfied: wrapt in c:\\project\\javeriana\\repos\\cev-rag\\.venv\\lib\\site-packages (from smart-open<8.0.0,>=5.2.1->weasel<0.5.0,>=0.1.0->spacy) (1.17.2)\n",
      "Requirement already satisfied: mdurl~=0.1 in c:\\project\\javeriana\\repos\\cev-rag\\.venv\\lib\\site-packages (from markdown-it-py>=2.2.0->rich>=10.11.0->typer<1.0.0,>=0.3.0->spacy) (0.1.2)\n"
     ]
    },
    {
     "name": "stderr",
     "output_type": "stream",
     "text": [
      "\n",
      "[notice] A new release of pip is available: 25.0.1 -> 25.1.1\n",
      "[notice] To update, run: python.exe -m pip install --upgrade pip\n"
     ]
    },
    {
     "name": "stdout",
     "output_type": "stream",
     "text": [
      "Collecting es-core-news-sm==3.8.0\n",
      "  Downloading https://github.com/explosion/spacy-models/releases/download/es_core_news_sm-3.8.0/es_core_news_sm-3.8.0-py3-none-any.whl (12.9 MB)\n",
      "     ---------------------------------------- 0.0/12.9 MB ? eta -:--:--\n",
      "     --------------------- ------------------ 6.8/12.9 MB 34.9 MB/s eta 0:00:01\n",
      "     --------------------------------------- 12.9/12.9 MB 36.7 MB/s eta 0:00:00\n",
      "\u001B[38;5;2m✔ Download and installation successful\u001B[0m\n",
      "You can now load the package via spacy.load('es_core_news_sm')\n"
     ]
    },
    {
     "name": "stderr",
     "output_type": "stream",
     "text": [
      "\n",
      "[notice] A new release of pip is available: 25.0.1 -> 25.1.1\n",
      "[notice] To update, run: python.exe -m pip install --upgrade pip\n"
     ]
    }
   ],
   "execution_count": 7
  },
  {
   "cell_type": "code",
   "metadata": {
    "id": "S1bQjUGHRdLg",
    "ExecuteTime": {
     "end_time": "2025-07-07T15:05:47.444545Z",
     "start_time": "2025-07-07T15:05:45.688759Z"
    }
   },
   "source": [
    "#apartado con frases.\n",
    "from spacy.lang.es import Spanish # see https://spacy.io/usage for install instructions\n",
    "\n",
    "nlp = Spanish()\n",
    "\n",
    "# Add a sentencizer pipeline, see https://spacy.io/api/sentencizer/\n",
    "nlp.add_pipe(\"sentencizer\")\n",
    "\n",
    "# Create a document instance as an example\n",
    "doc = nlp(\"Esto es una frase. Esta es otra frase.\")\n",
    "assert len(list(doc.sents)) == 2\n",
    "\n",
    "# Access the sentences of the document\n",
    "list(doc.sents)\n",
    "#datos_enrich"
   ],
   "outputs": [
    {
     "data": {
      "text/plain": [
       "[Esto es una frase., Esta es otra frase.]"
      ]
     },
     "execution_count": 8,
     "metadata": {},
     "output_type": "execute_result"
    }
   ],
   "execution_count": 8
  },
  {
   "cell_type": "code",
   "metadata": {
    "id": "zdni3P8OUCQM",
    "ExecuteTime": {
     "end_time": "2025-07-07T15:05:59.764282Z",
     "start_time": "2025-07-07T15:05:47.470197Z"
    }
   },
   "source": [
    "for item in tqdm(datos_enrich):\n",
    "    item[\"sentences\"] = list(nlp(item[\"text\"]).sents)\n",
    "\n",
    "    # Make sure all sentences are strings\n",
    "    item[\"sentences\"] = [str(sentence) for sentence in item[\"sentences\"]]\n",
    "\n",
    "    # Count the sentences\n",
    "    item[\"page_sentence_count_spacy\"] = len(item[\"sentences\"])"
   ],
   "outputs": [
    {
     "name": "stderr",
     "output_type": "stream",
     "text": [
      "100%|██████████| 10000/10000 [00:12<00:00, 813.74it/s]\n"
     ]
    }
   ],
   "execution_count": 9
  },
  {
   "cell_type": "code",
   "metadata": {
    "id": "EsC2YtThULn1",
    "ExecuteTime": {
     "end_time": "2025-07-07T15:05:59.796316Z",
     "start_time": "2025-07-07T15:05:59.791863Z"
    }
   },
   "source": [
    "# Inspect an example\n",
    "random.sample(datos_enrich, k=1)"
   ],
   "outputs": [
    {
     "data": {
      "text/plain": [
       "[{'text': 'parte iii: violencias, daños y resistencias de los pueblos étnicos en el conflicto armado 593 cartas, pronunciamientos y denuncias públicas con solicitudes a las autoridades del orden nacional, departamental y local, donde se evidencian graves violaciones a dere- chos humanos e infracciones al derecho internacional humanitario y reclamaciones de protección a las autoridades del Estado colombiano. Así puede leerse en una carta abierta al presidente de la República, dirigida por varias organizaciones del Chocó: De nuevo alertamos señor presidente Dr. Andrés Pastrana a fin de que se tomen los mecanismos necesarios para que se garantice la atención a las poblaciones afectadas en el medio Atrato y se eviten nuevos enfrentamientos militares y se eviten esas connivencias con los grupos paramilitares1541 . El clamor desde la resistencia volvió a ser visto durante el desarrollo la política de Seguridad Democrática del presidente Álvaro Uribe Vélez, que involucraba a la población civil en el conflicto armado, las organizaciones afrocolombianas del Pacifico manifestaron su oposición y dirigieron una carta abierta al presidente: «En el medio Atrato han perdido la vida más de 800 personas en menos de siete años por el conflicto armado y el abandono del Estado, no queremos morirnos a bala, de hambre o por falta de Salud, sino de viejos». En la misma misiva las poblaciones terminan afirmando que «los negros de Colombia, especialmente los que tenemos identidad de negros, reiteramos que no compartimos una salida militar al conflicto armado, sino más bien una salida negociada y donde se tenga en cuenta las propuestas de la población»1542 . En una carta abierta a las guerrillas de la FARC-EP de una organización del Medio Atrato puede verse la posición política de las comunidades: Como organización étnico territorial respetamos todas las formas de reivindica- ción de derechos de pueblos, pero también exigimos que se nos respete nuestra propuesta comunitaria y trabajo organizativo. Hemos sido claros y reiteramos en afirmar y sostener que para nosotros la lucha armada venga de donde venga no es la solución para resolver el sin número de problemas que tiene Colombia, por eso, siempre hemos sido hombres y mujeres de dialogo franco y abierto y sobre todo buscarle salidas políticas y pacificas a nuestros problemas. Nosotros respetamos sus convicciones, aunque no las compartamos; respeten ustedes las nuestras, aunque no las compartan1543 . 1541 «Carta abierta al presidente de la República, Dr. Andrés Pastrana.» Organizaciones étnico-territoriales y eclesiales del Medio Atrato (Noviembre de 2001). 1542 Carta abierta dirigida al presidente de la República, Dr. Álvaro Uribe Vélez. Organizaciones étni- co-territoriales y eclesiales del Pacífico colombiano (abril de 2007). 1543 Carta dirigida a las Fuerzas Armadas Revolucionarias de Colombia (FARC-EP) por la Cocomacia (diciembre de 2010).',\n",
       "  'ID': 1939,\n",
       "  'Title': 'Hasta la guerra tiene límites: Violaciones de los derechos humanos, infracciones al derecho internacional humanitario y responsabilidades colectivas. (2022). Colombia. Comisión de la Verdad. ISBN 978-958-53874-3-0.',\n",
       "  'Page': 593,\n",
       "  'Type': 'Book',\n",
       "  'Original_Title': 'CEV_ETNICO_DIGITAL_2022_cleaned',\n",
       "  'Link': 'https://www.comisiondelaverdad.co/hay-futuro-si-hay-verdad',\n",
       "  'page_number': 593,\n",
       "  'page_char_count': 2909,\n",
       "  'page_word_count': 493,\n",
       "  'page_sentence_count': 11,\n",
       "  'page_token_count': 493,\n",
       "  'sentences': ['parte iii: violencias, daños y resistencias de los pueblos étnicos en el conflicto armado 593 cartas, pronunciamientos y denuncias públicas con solicitudes a las autoridades del orden nacional, departamental y local, donde se evidencian graves violaciones a dere- chos humanos e infracciones al derecho internacional humanitario y reclamaciones de protección a las autoridades del Estado colombiano.',\n",
       "   'Así puede leerse en una carta abierta al presidente de la República, dirigida por varias organizaciones del Chocó: De nuevo alertamos señor presidente Dr. Andrés Pastrana a fin de que se tomen los mecanismos necesarios para que se garantice la atención a las poblaciones afectadas en el medio Atrato y se eviten nuevos enfrentamientos militares y se eviten esas connivencias con los grupos paramilitares1541 .',\n",
       "   'El clamor desde la resistencia volvió a ser visto durante el desarrollo la política de Seguridad Democrática del presidente Álvaro Uribe Vélez, que involucraba a la población civil en el conflicto armado, las organizaciones afrocolombianas del Pacifico manifestaron su oposición y dirigieron una carta abierta al presidente: «En el medio Atrato han perdido la vida más de 800 personas en menos de siete años por el conflicto armado y el abandono del Estado, no queremos morirnos a bala, de hambre o por falta de Salud, sino de viejos».',\n",
       "   'En la misma misiva las poblaciones terminan afirmando que «los negros de Colombia, especialmente los que tenemos identidad de negros, reiteramos que no compartimos una salida militar al conflicto armado, sino más bien una salida negociada y donde se tenga en cuenta las propuestas de la población»1542 .',\n",
       "   'En una carta abierta a las guerrillas de la FARC-EP de una organización del Medio Atrato puede verse la posición política de las comunidades: Como organización étnico territorial respetamos todas las formas de reivindica- ción de derechos de pueblos, pero también exigimos que se nos respete nuestra propuesta comunitaria y trabajo organizativo.',\n",
       "   'Hemos sido claros y reiteramos en afirmar y sostener que para nosotros la lucha armada venga de donde venga no es la solución para resolver el sin número de problemas que tiene Colombia, por eso, siempre hemos sido hombres y mujeres de dialogo franco y abierto y sobre todo buscarle salidas políticas y pacificas a nuestros problemas.',\n",
       "   'Nosotros respetamos sus convicciones, aunque no las compartamos; respeten ustedes las nuestras, aunque no las compartan1543 .',\n",
       "   '1541 «Carta abierta al presidente de la República, Dr. Andrés Pastrana.»',\n",
       "   'Organizaciones étnico-territoriales y eclesiales del Medio Atrato (Noviembre de 2001).',\n",
       "   '1542 Carta abierta dirigida al presidente de la República, Dr. Álvaro Uribe Vélez.',\n",
       "   'Organizaciones étni- co-territoriales y eclesiales del Pacífico colombiano (abril de 2007).',\n",
       "   '1543 Carta dirigida a las Fuerzas Armadas Revolucionarias de Colombia (FARC-EP) por la Cocomacia (diciembre de 2010).'],\n",
       "  'page_sentence_count_spacy': 12}]"
      ]
     },
     "execution_count": 10,
     "metadata": {},
     "output_type": "execute_result"
    }
   ],
   "execution_count": 10
  },
  {
   "cell_type": "code",
   "metadata": {
    "id": "dICn38mERgbM",
    "ExecuteTime": {
     "end_time": "2025-07-07T15:05:59.950135Z",
     "start_time": "2025-07-07T15:05:59.917978Z"
    }
   },
   "source": [
    "df = pd.DataFrame(datos_enrich)\n",
    "df.describe().round(2)"
   ],
   "outputs": [
    {
     "data": {
      "text/plain": [
       "             ID      Page  page_number  page_char_count  page_word_count  \\\n",
       "count  10000.00  10000.00     10000.00         10000.00         10000.00   \n",
       "mean    4999.50    193.22       193.22          2710.97           529.24   \n",
       "std     2886.90    213.00       213.00           883.35           175.68   \n",
       "min        0.00      1.00         1.00             1.00             1.00   \n",
       "25%     2499.75     27.00        27.00          2476.00           483.00   \n",
       "50%     4999.50    119.00       119.00          2971.00           565.00   \n",
       "75%     7499.25    289.25       289.25          3230.00           621.00   \n",
       "max     9999.00   1144.00      1144.00          5003.00           978.00   \n",
       "\n",
       "       page_sentence_count  page_token_count  page_sentence_count_spacy  \n",
       "count             10000.00          10000.00                   10000.00  \n",
       "mean                 19.43            529.24                      19.77  \n",
       "std                  10.50            175.68                      10.65  \n",
       "min                   1.00              1.00                       1.00  \n",
       "25%                  14.00            483.00                      14.00  \n",
       "50%                  18.00            565.00                      19.00  \n",
       "75%                  24.00            621.00                      24.00  \n",
       "max                  98.00            978.00                      99.00  "
      ],
      "text/html": [
       "<div>\n",
       "<style scoped>\n",
       "    .dataframe tbody tr th:only-of-type {\n",
       "        vertical-align: middle;\n",
       "    }\n",
       "\n",
       "    .dataframe tbody tr th {\n",
       "        vertical-align: top;\n",
       "    }\n",
       "\n",
       "    .dataframe thead th {\n",
       "        text-align: right;\n",
       "    }\n",
       "</style>\n",
       "<table border=\"1\" class=\"dataframe\">\n",
       "  <thead>\n",
       "    <tr style=\"text-align: right;\">\n",
       "      <th></th>\n",
       "      <th>ID</th>\n",
       "      <th>Page</th>\n",
       "      <th>page_number</th>\n",
       "      <th>page_char_count</th>\n",
       "      <th>page_word_count</th>\n",
       "      <th>page_sentence_count</th>\n",
       "      <th>page_token_count</th>\n",
       "      <th>page_sentence_count_spacy</th>\n",
       "    </tr>\n",
       "  </thead>\n",
       "  <tbody>\n",
       "    <tr>\n",
       "      <th>count</th>\n",
       "      <td>10000.00</td>\n",
       "      <td>10000.00</td>\n",
       "      <td>10000.00</td>\n",
       "      <td>10000.00</td>\n",
       "      <td>10000.00</td>\n",
       "      <td>10000.00</td>\n",
       "      <td>10000.00</td>\n",
       "      <td>10000.00</td>\n",
       "    </tr>\n",
       "    <tr>\n",
       "      <th>mean</th>\n",
       "      <td>4999.50</td>\n",
       "      <td>193.22</td>\n",
       "      <td>193.22</td>\n",
       "      <td>2710.97</td>\n",
       "      <td>529.24</td>\n",
       "      <td>19.43</td>\n",
       "      <td>529.24</td>\n",
       "      <td>19.77</td>\n",
       "    </tr>\n",
       "    <tr>\n",
       "      <th>std</th>\n",
       "      <td>2886.90</td>\n",
       "      <td>213.00</td>\n",
       "      <td>213.00</td>\n",
       "      <td>883.35</td>\n",
       "      <td>175.68</td>\n",
       "      <td>10.50</td>\n",
       "      <td>175.68</td>\n",
       "      <td>10.65</td>\n",
       "    </tr>\n",
       "    <tr>\n",
       "      <th>min</th>\n",
       "      <td>0.00</td>\n",
       "      <td>1.00</td>\n",
       "      <td>1.00</td>\n",
       "      <td>1.00</td>\n",
       "      <td>1.00</td>\n",
       "      <td>1.00</td>\n",
       "      <td>1.00</td>\n",
       "      <td>1.00</td>\n",
       "    </tr>\n",
       "    <tr>\n",
       "      <th>25%</th>\n",
       "      <td>2499.75</td>\n",
       "      <td>27.00</td>\n",
       "      <td>27.00</td>\n",
       "      <td>2476.00</td>\n",
       "      <td>483.00</td>\n",
       "      <td>14.00</td>\n",
       "      <td>483.00</td>\n",
       "      <td>14.00</td>\n",
       "    </tr>\n",
       "    <tr>\n",
       "      <th>50%</th>\n",
       "      <td>4999.50</td>\n",
       "      <td>119.00</td>\n",
       "      <td>119.00</td>\n",
       "      <td>2971.00</td>\n",
       "      <td>565.00</td>\n",
       "      <td>18.00</td>\n",
       "      <td>565.00</td>\n",
       "      <td>19.00</td>\n",
       "    </tr>\n",
       "    <tr>\n",
       "      <th>75%</th>\n",
       "      <td>7499.25</td>\n",
       "      <td>289.25</td>\n",
       "      <td>289.25</td>\n",
       "      <td>3230.00</td>\n",
       "      <td>621.00</td>\n",
       "      <td>24.00</td>\n",
       "      <td>621.00</td>\n",
       "      <td>24.00</td>\n",
       "    </tr>\n",
       "    <tr>\n",
       "      <th>max</th>\n",
       "      <td>9999.00</td>\n",
       "      <td>1144.00</td>\n",
       "      <td>1144.00</td>\n",
       "      <td>5003.00</td>\n",
       "      <td>978.00</td>\n",
       "      <td>98.00</td>\n",
       "      <td>978.00</td>\n",
       "      <td>99.00</td>\n",
       "    </tr>\n",
       "  </tbody>\n",
       "</table>\n",
       "</div>"
      ]
     },
     "execution_count": 11,
     "metadata": {},
     "output_type": "execute_result"
    }
   ],
   "execution_count": 11
  },
  {
   "cell_type": "code",
   "metadata": {
    "id": "9N1SKpNMUu2O",
    "ExecuteTime": {
     "end_time": "2025-07-07T15:06:13.608172Z",
     "start_time": "2025-07-07T15:06:13.594993Z"
    }
   },
   "source": [
    "# Define split size to turn groups of sentences into chunks\n",
    "num_sentence_chunk_size = 10\n",
    "\n",
    "# Create a function that recursively splits a list into desired sizes\n",
    "def split_list(input_list: list,\n",
    "               slice_size: int) -> list[list[str]]:\n",
    "    \"\"\"\n",
    "    Splits the input_list into sublists of size slice_size (or as close as possible).\n",
    "\n",
    "    For example, a list of 17 sentences would be split into two lists of [[10], [7]]\n",
    "    \"\"\"\n",
    "    return [input_list[i:i + slice_size] for i in range(0, len(input_list), slice_size)]\n",
    "\n",
    "# Loop through pages and texts and split sentences into chunks\n",
    "for item in tqdm(datos_enrich):\n",
    "    item[\"sentence_chunks\"] = split_list(input_list=item[\"sentences\"],\n",
    "                                         slice_size=num_sentence_chunk_size)\n",
    "    item[\"num_chunks\"] = len(item[\"sentence_chunks\"])"
   ],
   "outputs": [
    {
     "name": "stderr",
     "output_type": "stream",
     "text": [
      "100%|██████████| 10000/10000 [00:00<00:00, 1325926.72it/s]\n"
     ]
    }
   ],
   "execution_count": 13
  },
  {
   "cell_type": "code",
   "metadata": {
    "id": "civDncntU13b",
    "ExecuteTime": {
     "end_time": "2025-07-07T15:06:18.430164Z",
     "start_time": "2025-07-07T15:06:18.424164Z"
    }
   },
   "source": [
    "# Sample an example from the group (note: many samples have only 1 chunk as they have <=10 sentences total)\n",
    "random.sample(datos_enrich, k=1)"
   ],
   "outputs": [
    {
     "data": {
      "text/plain": [
       "[{'text': '«esto no puede estar pasando»: relatos y dimensiones… 393 Los trabajos en cultivos tuvieron la función de suplir las necesidades alimentarias básicas y el financiamiento de los grupos armados. Se forzó a comunidades enteras a sembrar, cui- dar y cosechar plantas de coca en varios departamentos. Por ejemplo, en Agustín Codazzi, Cesar, el Bloque Norte de las AUC les exigió a los campesinos sembrar una hectárea de coca por cada tres hectáreas de cultivos de pancoger 1179 . Hechos similares a lo largo de la década se registraron por el Sistema de Alertas T empranas de la Defensoría del Pueblo (SAT) 1180 . T odas estas obligaciones agravaron la vulnerabilidad de las comunidades que estaban en territorios en disputa. En algunos casos se identificó que ambos actores ilegales, tanto la guerrilla como los paramilitares, ordenaron la ejecución de tareas suponiendo que la no colaboración significaba que la víctima era integrante o miliciano del grupo armado contrario. Incluso, en muchos casos, las personas se vieron obligadas a trabajar para los dos bandos paralelamente, como lo muestra la siguiente narración según la cual el Frente 34 de las FARC-EP y los paramilitares imponían tareas en Concordia, Antioquia: «Entonces lo empiezan a molestar: que vengan, que llévemen el caballo a tal parte, que vaya a tal parte, tráigame tal otra cosa, que esto. Yo fui muy de malas con esa gente […], con las FARC, nosotros siempre hemos tenido bestia; nosotros teníamos dos bes- tiecitas, entonces llegaron y “¡Hey, pelao! Venga pa que me colabore, para que nos lleve a tal parte en las bestiecitas”. Que tal cosa, “nosotros le damos ahí la liga pa’l fresco”. [...] Luego llegaron los paramilitares allá al cafetal y “¡Hey!, lo necesitamos a usted para que vaya a la casa a ponernos películas”. En ese tiempo [...] existía era el Betamax y nosotros teníamos un Betamax y ahí mismo me tocó irme a ponerles películas y diario, diario, poniéndoles película a esa gente, que los llevara en el caballo a tal parte, que yo no sé qué, que jugáramos balón, ya llegaron los otros me dijeron lo mismo: “A usted que se la pasa con aquellos, que usted ya empezó a andar con los otros”. Les dije: “No, lo mismo que es con ustedes es con ellos y como ustedes son los que mandan, entonces ¿cómo hago? Si yo les digo a ellos de que no y con ustedes sí los atiendo, entonces me matan los otros a mí, si no, lo mismo puede pasar con ustedes”» 1181 . Labores de mantenimiento o construcción de infraestructura Las víctimas tuvieron que usar sus herramientas para ayudar a los actores armados en múltiples tareas; algunas de ellas implicaron la construcción o el acondicionamiento 1179 Defensoría del Pueblo, Sistema de Alertas T empranas, «Informe de riesgo IR N 059-04», 4. 1180 En el municipio de Samaná, Caldas, la Defensoría del Pueblo expuso en 2004 acciones sistemáticas de las AUC entre las que se encontró la «coacción para el cultivo obligatorio de coca» (Defensoría del Pueblo, «Informe de riesgo n. o 048-04», 4). De manera similar, en 2008 la misma entidad manifestó que en el municipio de Miraflores, Guaviare, las FARC-EP «coacciona a los indígenas para la siembra y procesamiento de la hoja de coca y reclutan de manera forzada adolescentes» (Defensoría del Pueblo, Sistema de Alertas T empranas, «Informe de riesgo n. o 002-08», 3). 1181 Entrevista 160-VI-00005. Víctima, campesino.',\n",
       "  'ID': 3975,\n",
       "  'Title': 'Resistir no es aguantar: Violencias y daños contra los pueblos étnicos de Colombia. (2022). Colombia. Comisión de la Verdad. ISBN 978-958-53874-3-0.',\n",
       "  'Page': 393,\n",
       "  'Type': 'Book',\n",
       "  'Original_Title': 'CEV_VIOLACIONES_DIGITAL_2022_cleaned',\n",
       "  'Link': 'https://www.comisiondelaverdad.co/hay-futuro-si-hay-verdad',\n",
       "  'page_number': 393,\n",
       "  'page_char_count': 3376,\n",
       "  'page_word_count': 679,\n",
       "  'page_sentence_count': 19,\n",
       "  'page_token_count': 679,\n",
       "  'sentences': ['«esto no puede estar pasando»: relatos y dimensiones… 393 Los trabajos en cultivos tuvieron la función de suplir las necesidades alimentarias básicas y el financiamiento de los grupos armados.',\n",
       "   'Se forzó a comunidades enteras a sembrar, cui- dar y cosechar plantas de coca en varios departamentos.',\n",
       "   'Por ejemplo, en Agustín Codazzi, Cesar, el Bloque Norte de las AUC les exigió a los campesinos sembrar una hectárea de coca por cada tres hectáreas de cultivos de pancoger 1179 .',\n",
       "   'Hechos similares a lo largo de la década se registraron por el Sistema de Alertas T empranas de la Defensoría del Pueblo (SAT) 1180 .',\n",
       "   'T odas estas obligaciones agravaron la vulnerabilidad de las comunidades que estaban en territorios en disputa.',\n",
       "   'En algunos casos se identificó que ambos actores ilegales, tanto la guerrilla como los paramilitares, ordenaron la ejecución de tareas suponiendo que la no colaboración significaba que la víctima era integrante o miliciano del grupo armado contrario.',\n",
       "   'Incluso, en muchos casos, las personas se vieron obligadas a trabajar para los dos bandos paralelamente, como lo muestra la siguiente narración según la cual el Frente 34 de las FARC-EP y los paramilitares imponían tareas en Concordia, Antioquia: «Entonces lo empiezan a molestar: que vengan, que llévemen el caballo a tal parte, que vaya a tal parte, tráigame tal otra cosa, que esto.',\n",
       "   'Yo fui muy de malas con esa gente […], con las FARC, nosotros siempre hemos tenido bestia; nosotros teníamos dos bes- tiecitas, entonces llegaron y “¡Hey, pelao!',\n",
       "   'Venga pa que me colabore, para que nos lleve a tal parte en las bestiecitas”.',\n",
       "   'Que tal cosa, “nosotros le damos ahí la liga pa’l fresco”. [...]',\n",
       "   'Luego llegaron los paramilitares allá al cafetal y “¡Hey!,',\n",
       "   'lo necesitamos a usted para que vaya a la casa a ponernos películas”.',\n",
       "   'En ese tiempo [...] existía era el Betamax y nosotros teníamos un Betamax y ahí mismo me tocó irme a ponerles películas y diario, diario, poniéndoles película a esa gente, que los llevara en el caballo a tal parte, que yo no sé qué, que jugáramos balón, ya llegaron los otros me dijeron lo mismo: “A usted que se la pasa con aquellos, que usted ya empezó a andar con los otros”.',\n",
       "   'Les dije: “No, lo mismo que es con ustedes es con ellos y como ustedes son los que mandan, entonces ¿cómo hago?',\n",
       "   'Si yo les digo a ellos de que no y con ustedes sí los atiendo, entonces me matan los otros a mí, si no, lo mismo puede pasar con ustedes”» 1181 .',\n",
       "   'Labores de mantenimiento o construcción de infraestructura Las víctimas tuvieron que usar sus herramientas para ayudar a los actores armados en múltiples tareas; algunas de ellas implicaron la construcción o el acondicionamiento 1179 Defensoría del Pueblo, Sistema de Alertas T empranas, «Informe de riesgo IR N 059-04», 4.',\n",
       "   '1180 En el municipio de Samaná, Caldas, la Defensoría del Pueblo expuso en 2004 acciones sistemáticas de las AUC entre las que se encontró la «coacción para el cultivo obligatorio de coca» (Defensoría del Pueblo, «Informe de riesgo n. o 048-04», 4).',\n",
       "   'De manera similar, en 2008 la misma entidad manifestó que en el municipio de Miraflores, Guaviare, las FARC-EP «coacciona a los indígenas para la siembra y procesamiento de la hoja de coca y reclutan de manera forzada adolescentes» (Defensoría del Pueblo, Sistema de Alertas T empranas, «Informe de riesgo n. o 002-08», 3).',\n",
       "   '1181 Entrevista 160-VI-00005.',\n",
       "   'Víctima, campesino.'],\n",
       "  'page_sentence_count_spacy': 20,\n",
       "  'sentence_chunks': [['«esto no puede estar pasando»: relatos y dimensiones… 393 Los trabajos en cultivos tuvieron la función de suplir las necesidades alimentarias básicas y el financiamiento de los grupos armados.',\n",
       "    'Se forzó a comunidades enteras a sembrar, cui- dar y cosechar plantas de coca en varios departamentos.',\n",
       "    'Por ejemplo, en Agustín Codazzi, Cesar, el Bloque Norte de las AUC les exigió a los campesinos sembrar una hectárea de coca por cada tres hectáreas de cultivos de pancoger 1179 .',\n",
       "    'Hechos similares a lo largo de la década se registraron por el Sistema de Alertas T empranas de la Defensoría del Pueblo (SAT) 1180 .',\n",
       "    'T odas estas obligaciones agravaron la vulnerabilidad de las comunidades que estaban en territorios en disputa.',\n",
       "    'En algunos casos se identificó que ambos actores ilegales, tanto la guerrilla como los paramilitares, ordenaron la ejecución de tareas suponiendo que la no colaboración significaba que la víctima era integrante o miliciano del grupo armado contrario.',\n",
       "    'Incluso, en muchos casos, las personas se vieron obligadas a trabajar para los dos bandos paralelamente, como lo muestra la siguiente narración según la cual el Frente 34 de las FARC-EP y los paramilitares imponían tareas en Concordia, Antioquia: «Entonces lo empiezan a molestar: que vengan, que llévemen el caballo a tal parte, que vaya a tal parte, tráigame tal otra cosa, que esto.',\n",
       "    'Yo fui muy de malas con esa gente […], con las FARC, nosotros siempre hemos tenido bestia; nosotros teníamos dos bes- tiecitas, entonces llegaron y “¡Hey, pelao!',\n",
       "    'Venga pa que me colabore, para que nos lleve a tal parte en las bestiecitas”.',\n",
       "    'Que tal cosa, “nosotros le damos ahí la liga pa’l fresco”. [...]'],\n",
       "   ['Luego llegaron los paramilitares allá al cafetal y “¡Hey!,',\n",
       "    'lo necesitamos a usted para que vaya a la casa a ponernos películas”.',\n",
       "    'En ese tiempo [...] existía era el Betamax y nosotros teníamos un Betamax y ahí mismo me tocó irme a ponerles películas y diario, diario, poniéndoles película a esa gente, que los llevara en el caballo a tal parte, que yo no sé qué, que jugáramos balón, ya llegaron los otros me dijeron lo mismo: “A usted que se la pasa con aquellos, que usted ya empezó a andar con los otros”.',\n",
       "    'Les dije: “No, lo mismo que es con ustedes es con ellos y como ustedes son los que mandan, entonces ¿cómo hago?',\n",
       "    'Si yo les digo a ellos de que no y con ustedes sí los atiendo, entonces me matan los otros a mí, si no, lo mismo puede pasar con ustedes”» 1181 .',\n",
       "    'Labores de mantenimiento o construcción de infraestructura Las víctimas tuvieron que usar sus herramientas para ayudar a los actores armados en múltiples tareas; algunas de ellas implicaron la construcción o el acondicionamiento 1179 Defensoría del Pueblo, Sistema de Alertas T empranas, «Informe de riesgo IR N 059-04», 4.',\n",
       "    '1180 En el municipio de Samaná, Caldas, la Defensoría del Pueblo expuso en 2004 acciones sistemáticas de las AUC entre las que se encontró la «coacción para el cultivo obligatorio de coca» (Defensoría del Pueblo, «Informe de riesgo n. o 048-04», 4).',\n",
       "    'De manera similar, en 2008 la misma entidad manifestó que en el municipio de Miraflores, Guaviare, las FARC-EP «coacciona a los indígenas para la siembra y procesamiento de la hoja de coca y reclutan de manera forzada adolescentes» (Defensoría del Pueblo, Sistema de Alertas T empranas, «Informe de riesgo n. o 002-08», 3).',\n",
       "    '1181 Entrevista 160-VI-00005.',\n",
       "    'Víctima, campesino.']],\n",
       "  'num_chunks': 2}]"
      ]
     },
     "execution_count": 14,
     "metadata": {},
     "output_type": "execute_result"
    }
   ],
   "execution_count": 14
  },
  {
   "cell_type": "code",
   "metadata": {
    "id": "pYEq10_7VFVR",
    "ExecuteTime": {
     "end_time": "2025-07-07T15:06:22.048205Z",
     "start_time": "2025-07-07T15:06:22.012705Z"
    }
   },
   "source": [
    "# Create a DataFrame to get stats\n",
    "df = pd.DataFrame(datos_enrich)\n",
    "df.describe().round(2)"
   ],
   "outputs": [
    {
     "data": {
      "text/plain": [
       "             ID      Page  page_number  page_char_count  page_word_count  \\\n",
       "count  10000.00  10000.00     10000.00         10000.00         10000.00   \n",
       "mean    4999.50    193.22       193.22          2710.97           529.24   \n",
       "std     2886.90    213.00       213.00           883.35           175.68   \n",
       "min        0.00      1.00         1.00             1.00             1.00   \n",
       "25%     2499.75     27.00        27.00          2476.00           483.00   \n",
       "50%     4999.50    119.00       119.00          2971.00           565.00   \n",
       "75%     7499.25    289.25       289.25          3230.00           621.00   \n",
       "max     9999.00   1144.00      1144.00          5003.00           978.00   \n",
       "\n",
       "       page_sentence_count  page_token_count  page_sentence_count_spacy  \\\n",
       "count             10000.00          10000.00                   10000.00   \n",
       "mean                 19.43            529.24                      19.77   \n",
       "std                  10.50            175.68                      10.65   \n",
       "min                   1.00              1.00                       1.00   \n",
       "25%                  14.00            483.00                      14.00   \n",
       "50%                  18.00            565.00                      19.00   \n",
       "75%                  24.00            621.00                      24.00   \n",
       "max                  98.00            978.00                      99.00   \n",
       "\n",
       "       num_chunks  \n",
       "count    10000.00  \n",
       "mean         2.44  \n",
       "std          1.07  \n",
       "min          1.00  \n",
       "25%          2.00  \n",
       "50%          2.00  \n",
       "75%          3.00  \n",
       "max         10.00  "
      ],
      "text/html": [
       "<div>\n",
       "<style scoped>\n",
       "    .dataframe tbody tr th:only-of-type {\n",
       "        vertical-align: middle;\n",
       "    }\n",
       "\n",
       "    .dataframe tbody tr th {\n",
       "        vertical-align: top;\n",
       "    }\n",
       "\n",
       "    .dataframe thead th {\n",
       "        text-align: right;\n",
       "    }\n",
       "</style>\n",
       "<table border=\"1\" class=\"dataframe\">\n",
       "  <thead>\n",
       "    <tr style=\"text-align: right;\">\n",
       "      <th></th>\n",
       "      <th>ID</th>\n",
       "      <th>Page</th>\n",
       "      <th>page_number</th>\n",
       "      <th>page_char_count</th>\n",
       "      <th>page_word_count</th>\n",
       "      <th>page_sentence_count</th>\n",
       "      <th>page_token_count</th>\n",
       "      <th>page_sentence_count_spacy</th>\n",
       "      <th>num_chunks</th>\n",
       "    </tr>\n",
       "  </thead>\n",
       "  <tbody>\n",
       "    <tr>\n",
       "      <th>count</th>\n",
       "      <td>10000.00</td>\n",
       "      <td>10000.00</td>\n",
       "      <td>10000.00</td>\n",
       "      <td>10000.00</td>\n",
       "      <td>10000.00</td>\n",
       "      <td>10000.00</td>\n",
       "      <td>10000.00</td>\n",
       "      <td>10000.00</td>\n",
       "      <td>10000.00</td>\n",
       "    </tr>\n",
       "    <tr>\n",
       "      <th>mean</th>\n",
       "      <td>4999.50</td>\n",
       "      <td>193.22</td>\n",
       "      <td>193.22</td>\n",
       "      <td>2710.97</td>\n",
       "      <td>529.24</td>\n",
       "      <td>19.43</td>\n",
       "      <td>529.24</td>\n",
       "      <td>19.77</td>\n",
       "      <td>2.44</td>\n",
       "    </tr>\n",
       "    <tr>\n",
       "      <th>std</th>\n",
       "      <td>2886.90</td>\n",
       "      <td>213.00</td>\n",
       "      <td>213.00</td>\n",
       "      <td>883.35</td>\n",
       "      <td>175.68</td>\n",
       "      <td>10.50</td>\n",
       "      <td>175.68</td>\n",
       "      <td>10.65</td>\n",
       "      <td>1.07</td>\n",
       "    </tr>\n",
       "    <tr>\n",
       "      <th>min</th>\n",
       "      <td>0.00</td>\n",
       "      <td>1.00</td>\n",
       "      <td>1.00</td>\n",
       "      <td>1.00</td>\n",
       "      <td>1.00</td>\n",
       "      <td>1.00</td>\n",
       "      <td>1.00</td>\n",
       "      <td>1.00</td>\n",
       "      <td>1.00</td>\n",
       "    </tr>\n",
       "    <tr>\n",
       "      <th>25%</th>\n",
       "      <td>2499.75</td>\n",
       "      <td>27.00</td>\n",
       "      <td>27.00</td>\n",
       "      <td>2476.00</td>\n",
       "      <td>483.00</td>\n",
       "      <td>14.00</td>\n",
       "      <td>483.00</td>\n",
       "      <td>14.00</td>\n",
       "      <td>2.00</td>\n",
       "    </tr>\n",
       "    <tr>\n",
       "      <th>50%</th>\n",
       "      <td>4999.50</td>\n",
       "      <td>119.00</td>\n",
       "      <td>119.00</td>\n",
       "      <td>2971.00</td>\n",
       "      <td>565.00</td>\n",
       "      <td>18.00</td>\n",
       "      <td>565.00</td>\n",
       "      <td>19.00</td>\n",
       "      <td>2.00</td>\n",
       "    </tr>\n",
       "    <tr>\n",
       "      <th>75%</th>\n",
       "      <td>7499.25</td>\n",
       "      <td>289.25</td>\n",
       "      <td>289.25</td>\n",
       "      <td>3230.00</td>\n",
       "      <td>621.00</td>\n",
       "      <td>24.00</td>\n",
       "      <td>621.00</td>\n",
       "      <td>24.00</td>\n",
       "      <td>3.00</td>\n",
       "    </tr>\n",
       "    <tr>\n",
       "      <th>max</th>\n",
       "      <td>9999.00</td>\n",
       "      <td>1144.00</td>\n",
       "      <td>1144.00</td>\n",
       "      <td>5003.00</td>\n",
       "      <td>978.00</td>\n",
       "      <td>98.00</td>\n",
       "      <td>978.00</td>\n",
       "      <td>99.00</td>\n",
       "      <td>10.00</td>\n",
       "    </tr>\n",
       "  </tbody>\n",
       "</table>\n",
       "</div>"
      ]
     },
     "execution_count": 15,
     "metadata": {},
     "output_type": "execute_result"
    }
   ],
   "execution_count": 15
  },
  {
   "cell_type": "code",
   "metadata": {
    "id": "gUshAy_SV1FR",
    "ExecuteTime": {
     "end_time": "2025-07-07T15:06:29.982054Z",
     "start_time": "2025-07-07T15:06:29.623569Z"
    }
   },
   "source": [
    "pages_and_texts = datos_enrich\n",
    "import re\n",
    "\n",
    "# Split each chunk into its own item\n",
    "pages_and_chunks = []\n",
    "for item in tqdm(pages_and_texts):\n",
    "    for sentence_chunk in item[\"sentence_chunks\"]:\n",
    "        chunk_dict = {}\n",
    "        chunk_dict[\"page_number\"] = item[\"page_number\"]\n",
    "\n",
    "        # Join the sentences together into a paragraph-like structure, aka a chunk (so they are a single string)\n",
    "        joined_sentence_chunk = \"\".join(sentence_chunk).replace(\"  \", \" \").strip()\n",
    "        joined_sentence_chunk = re.sub(r'\\.([A-Z])', r'. \\1', joined_sentence_chunk) # \".A\" -> \". A\" for any full-stop/capital letter combo\n",
    "        chunk_dict[\"sentence_chunk\"] = joined_sentence_chunk\n",
    "\n",
    "        # Get stats about the chunk\n",
    "        chunk_dict[\"chunk_char_count\"] = len(joined_sentence_chunk)\n",
    "        chunk_dict[\"chunk_word_count\"] = len([word for word in joined_sentence_chunk.split(\" \")])\n",
    "        chunk_dict[\"chunk_token_count\"] = len(joined_sentence_chunk) / 4 # 1 token = ~4 characters\n",
    "\n",
    "        pages_and_chunks.append(chunk_dict)\n",
    "\n",
    "# How many chunks do we have?\n",
    "len(pages_and_chunks)"
   ],
   "outputs": [
    {
     "name": "stderr",
     "output_type": "stream",
     "text": [
      "100%|██████████| 10000/10000 [00:00<00:00, 28551.60it/s]\n"
     ]
    },
    {
     "data": {
      "text/plain": [
       "24432"
      ]
     },
     "execution_count": 16,
     "metadata": {},
     "output_type": "execute_result"
    }
   ],
   "execution_count": 16
  },
  {
   "cell_type": "code",
   "metadata": {
    "id": "QRu7w5hoWAOw",
    "ExecuteTime": {
     "end_time": "2025-07-07T15:06:36.206537Z",
     "start_time": "2025-07-07T15:06:36.201694Z"
    }
   },
   "source": [
    "# View a random sample\n",
    "random.sample(pages_and_chunks, k=1)"
   ],
   "outputs": [
    {
     "data": {
      "text/plain": [
       "[{'page_number': 257,\n",
       "  'sentence_chunk': '717 El término «juntanza» se refiere a los procesos de agrupación solidaria, comunitaria y de base, desarrollados por mujeres y personas LGBTIQ+ en la movilización de proyectos y agendas colectivas para impulsar cambios sociales en favor de ellas y grupos históricamente oprimidos.718 Entrevista 1068-VI-00038. Hombre gay, activista, trabajador social.719 Según las cifras del RUV, municipios como Turbo y Apartadó están entre los diez primeros donde más se reportaron víctimas LGBTIQ+ en el país. Información con fecha de corte el 28 de febrero de 2022. Uariv, respuesta a solicitud de información de la Comisión de la Verdad, 21 de abril de 2022.',\n",
       "  'chunk_char_count': 648,\n",
       "  'chunk_word_count': 101,\n",
       "  'chunk_token_count': 162.0}]"
      ]
     },
     "execution_count": 17,
     "metadata": {},
     "output_type": "execute_result"
    }
   ],
   "execution_count": 17
  },
  {
   "cell_type": "code",
   "metadata": {
    "id": "ghDEBwwxWRe_",
    "ExecuteTime": {
     "end_time": "2025-07-07T15:06:39.983617Z",
     "start_time": "2025-07-07T15:06:39.957264Z"
    }
   },
   "source": [
    "# Get stats about our chunks\n",
    "df = pd.DataFrame(pages_and_chunks)\n",
    "df.describe().round(2)"
   ],
   "outputs": [
    {
     "data": {
      "text/plain": [
       "       page_number  chunk_char_count  chunk_word_count  chunk_token_count\n",
       "count     24432.00          24432.00          24432.00           24432.00\n",
       "mean        193.56           1107.67            183.93             276.92\n",
       "std         206.97            716.70            118.33             179.18\n",
       "min           1.00              1.00              1.00               0.25\n",
       "25%          28.00            554.00             94.00             138.50\n",
       "50%         124.00           1014.50            171.00             253.62\n",
       "75%         294.00           1583.00            262.00             395.75\n",
       "max        1144.00           4199.00            743.00            1049.75"
      ],
      "text/html": [
       "<div>\n",
       "<style scoped>\n",
       "    .dataframe tbody tr th:only-of-type {\n",
       "        vertical-align: middle;\n",
       "    }\n",
       "\n",
       "    .dataframe tbody tr th {\n",
       "        vertical-align: top;\n",
       "    }\n",
       "\n",
       "    .dataframe thead th {\n",
       "        text-align: right;\n",
       "    }\n",
       "</style>\n",
       "<table border=\"1\" class=\"dataframe\">\n",
       "  <thead>\n",
       "    <tr style=\"text-align: right;\">\n",
       "      <th></th>\n",
       "      <th>page_number</th>\n",
       "      <th>chunk_char_count</th>\n",
       "      <th>chunk_word_count</th>\n",
       "      <th>chunk_token_count</th>\n",
       "    </tr>\n",
       "  </thead>\n",
       "  <tbody>\n",
       "    <tr>\n",
       "      <th>count</th>\n",
       "      <td>24432.00</td>\n",
       "      <td>24432.00</td>\n",
       "      <td>24432.00</td>\n",
       "      <td>24432.00</td>\n",
       "    </tr>\n",
       "    <tr>\n",
       "      <th>mean</th>\n",
       "      <td>193.56</td>\n",
       "      <td>1107.67</td>\n",
       "      <td>183.93</td>\n",
       "      <td>276.92</td>\n",
       "    </tr>\n",
       "    <tr>\n",
       "      <th>std</th>\n",
       "      <td>206.97</td>\n",
       "      <td>716.70</td>\n",
       "      <td>118.33</td>\n",
       "      <td>179.18</td>\n",
       "    </tr>\n",
       "    <tr>\n",
       "      <th>min</th>\n",
       "      <td>1.00</td>\n",
       "      <td>1.00</td>\n",
       "      <td>1.00</td>\n",
       "      <td>0.25</td>\n",
       "    </tr>\n",
       "    <tr>\n",
       "      <th>25%</th>\n",
       "      <td>28.00</td>\n",
       "      <td>554.00</td>\n",
       "      <td>94.00</td>\n",
       "      <td>138.50</td>\n",
       "    </tr>\n",
       "    <tr>\n",
       "      <th>50%</th>\n",
       "      <td>124.00</td>\n",
       "      <td>1014.50</td>\n",
       "      <td>171.00</td>\n",
       "      <td>253.62</td>\n",
       "    </tr>\n",
       "    <tr>\n",
       "      <th>75%</th>\n",
       "      <td>294.00</td>\n",
       "      <td>1583.00</td>\n",
       "      <td>262.00</td>\n",
       "      <td>395.75</td>\n",
       "    </tr>\n",
       "    <tr>\n",
       "      <th>max</th>\n",
       "      <td>1144.00</td>\n",
       "      <td>4199.00</td>\n",
       "      <td>743.00</td>\n",
       "      <td>1049.75</td>\n",
       "    </tr>\n",
       "  </tbody>\n",
       "</table>\n",
       "</div>"
      ]
     },
     "execution_count": 18,
     "metadata": {},
     "output_type": "execute_result"
    }
   ],
   "execution_count": 18
  },
  {
   "cell_type": "code",
   "metadata": {
    "id": "KAOlJ2d_WWjb",
    "ExecuteTime": {
     "end_time": "2025-07-07T15:06:43.346029Z",
     "start_time": "2025-07-07T15:06:43.341313Z"
    }
   },
   "source": [
    "# Show random chunks with under 30 tokens in length\n",
    "min_token_length = 30\n",
    "for row in df[df[\"chunk_token_count\"] <= min_token_length].sample(5).iterrows():\n",
    "    print(f'Chunk token count: {row[1][\"chunk_token_count\"]} | Text: {row[1][\"sentence_chunk\"]}')"
   ],
   "outputs": [
    {
     "name": "stdout",
     "output_type": "stream",
     "text": [
      "Chunk token count: 20.25 | Text: 522 Entrevista 240-AA-00015. Actor armado, hombre, paramilitares Magdalena Medio.\n",
      "Chunk token count: 2.0 | Text: Yo ya me\n",
      "Chunk token count: 11.5 | Text: 276 Castellanos, ¿Cuánto nos cuesta la guerra?\n",
      "Chunk token count: 18.25 | Text: La paradoja de la coca: economía campesina y conflicto armado (1978–1996)\n",
      "Chunk token count: 15.0 | Text: 1165 Entrevista 812-VI-00005, Mujer afrocolombiana, víctima.\n"
     ]
    }
   ],
   "execution_count": 19
  },
  {
   "cell_type": "code",
   "metadata": {
    "id": "Pji4ecKPWoED",
    "ExecuteTime": {
     "end_time": "2025-07-07T15:20:24.632002Z",
     "start_time": "2025-07-07T15:20:24.598654Z"
    }
   },
   "source": [
    "pages_and_chunks_over_min_token_len = df[df[\"chunk_token_count\"] > min_token_length].to_dict(orient=\"records\")\n",
    "pages_and_chunks_over_min_token_len[:2]"
   ],
   "outputs": [
    {
     "data": {
      "text/plain": [
       "[{'page_number': 1,\n",
       "  'sentence_chunk': 'CONVOCATORIA A LA PAZ GRANDE Declaración de la Comisión para el Esclarecimiento de la Verdad, la Convivencia y la No Repetición HAY FUTURO si hay verdad INFORME FINAL Comisión para el Esclarecimieto de la Verdad, la Convivencia y la No Repetición',\n",
       "  'chunk_char_count': 246,\n",
       "  'chunk_word_count': 41,\n",
       "  'chunk_token_count': 61.5},\n",
       " {'page_number': 3,\n",
       "  'sentence_chunk': 'CONVOCATORIA A LA PAZ GRANDE DECLARACIÓN DE LA COMISIÓN PARA EL ESCLARECIMIENTO DE LA VERDAD, LA CONVIVENCIA Y LA NO REPETICIÓN HAY FUTURO si hay verdad INFORME FINAL',\n",
       "  'chunk_char_count': 166,\n",
       "  'chunk_word_count': 28,\n",
       "  'chunk_token_count': 41.5}]"
      ]
     },
     "execution_count": 27,
     "metadata": {},
     "output_type": "execute_result"
    }
   ],
   "execution_count": 27
  },
  {
   "cell_type": "code",
   "metadata": {
    "id": "XAm-NTJeZmzZ",
    "ExecuteTime": {
     "end_time": "2025-07-07T13:57:53.655441Z",
     "start_time": "2025-07-07T13:56:47.868395Z"
    }
   },
   "source": "# !pip install sentence-transformers",
   "outputs": [
    {
     "name": "stdout",
     "output_type": "stream",
     "text": [
      "Collecting sentence-transformers\n",
      "  Downloading sentence_transformers-5.0.0-py3-none-any.whl.metadata (16 kB)\n",
      "Collecting transformers<5.0.0,>=4.41.0 (from sentence-transformers)\n",
      "  Downloading transformers-4.53.1-py3-none-any.whl.metadata (40 kB)\n",
      "Requirement already satisfied: tqdm in c:\\project\\javeriana\\repos\\cev-rag\\.venv\\lib\\site-packages (from sentence-transformers) (4.67.1)\n",
      "Collecting torch>=1.11.0 (from sentence-transformers)\n",
      "  Downloading torch-2.7.1-cp312-cp312-win_amd64.whl.metadata (28 kB)\n",
      "Collecting scikit-learn (from sentence-transformers)\n",
      "  Downloading scikit_learn-1.7.0-cp312-cp312-win_amd64.whl.metadata (14 kB)\n",
      "Collecting scipy (from sentence-transformers)\n",
      "  Using cached scipy-1.16.0-cp312-cp312-win_amd64.whl.metadata (60 kB)\n",
      "Collecting huggingface-hub>=0.20.0 (from sentence-transformers)\n",
      "  Downloading huggingface_hub-0.33.2-py3-none-any.whl.metadata (14 kB)\n",
      "Collecting Pillow (from sentence-transformers)\n",
      "  Downloading pillow-11.3.0-cp312-cp312-win_amd64.whl.metadata (9.2 kB)\n",
      "Requirement already satisfied: typing_extensions>=4.5.0 in c:\\project\\javeriana\\repos\\cev-rag\\.venv\\lib\\site-packages (from sentence-transformers) (4.14.1)\n",
      "Requirement already satisfied: filelock in c:\\project\\javeriana\\repos\\cev-rag\\.venv\\lib\\site-packages (from huggingface-hub>=0.20.0->sentence-transformers) (3.18.0)\n",
      "Requirement already satisfied: fsspec>=2023.5.0 in c:\\project\\javeriana\\repos\\cev-rag\\.venv\\lib\\site-packages (from huggingface-hub>=0.20.0->sentence-transformers) (2025.5.1)\n",
      "Requirement already satisfied: packaging>=20.9 in c:\\project\\javeriana\\repos\\cev-rag\\.venv\\lib\\site-packages (from huggingface-hub>=0.20.0->sentence-transformers) (25.0)\n",
      "Requirement already satisfied: pyyaml>=5.1 in c:\\project\\javeriana\\repos\\cev-rag\\.venv\\lib\\site-packages (from huggingface-hub>=0.20.0->sentence-transformers) (6.0.2)\n",
      "Requirement already satisfied: requests in c:\\project\\javeriana\\repos\\cev-rag\\.venv\\lib\\site-packages (from huggingface-hub>=0.20.0->sentence-transformers) (2.32.4)\n",
      "Collecting sympy>=1.13.3 (from torch>=1.11.0->sentence-transformers)\n",
      "  Downloading sympy-1.14.0-py3-none-any.whl.metadata (12 kB)\n",
      "Collecting networkx (from torch>=1.11.0->sentence-transformers)\n",
      "  Downloading networkx-3.5-py3-none-any.whl.metadata (6.3 kB)\n",
      "Requirement already satisfied: jinja2 in c:\\project\\javeriana\\repos\\cev-rag\\.venv\\lib\\site-packages (from torch>=1.11.0->sentence-transformers) (3.1.6)\n",
      "Requirement already satisfied: setuptools in c:\\project\\javeriana\\repos\\cev-rag\\.venv\\lib\\site-packages (from torch>=1.11.0->sentence-transformers) (80.9.0)\n",
      "Requirement already satisfied: colorama in c:\\project\\javeriana\\repos\\cev-rag\\.venv\\lib\\site-packages (from tqdm->sentence-transformers) (0.4.6)\n",
      "Requirement already satisfied: numpy>=1.17 in c:\\project\\javeriana\\repos\\cev-rag\\.venv\\lib\\site-packages (from transformers<5.0.0,>=4.41.0->sentence-transformers) (2.3.1)\n",
      "Requirement already satisfied: regex!=2019.12.17 in c:\\project\\javeriana\\repos\\cev-rag\\.venv\\lib\\site-packages (from transformers<5.0.0,>=4.41.0->sentence-transformers) (2024.11.6)\n",
      "Collecting tokenizers<0.22,>=0.21 (from transformers<5.0.0,>=4.41.0->sentence-transformers)\n",
      "  Downloading tokenizers-0.21.2-cp39-abi3-win_amd64.whl.metadata (6.9 kB)\n",
      "Collecting safetensors>=0.4.3 (from transformers<5.0.0,>=4.41.0->sentence-transformers)\n",
      "  Downloading safetensors-0.5.3-cp38-abi3-win_amd64.whl.metadata (3.9 kB)\n",
      "Requirement already satisfied: joblib>=1.2.0 in c:\\project\\javeriana\\repos\\cev-rag\\.venv\\lib\\site-packages (from scikit-learn->sentence-transformers) (1.5.1)\n",
      "Collecting threadpoolctl>=3.1.0 (from scikit-learn->sentence-transformers)\n",
      "  Downloading threadpoolctl-3.6.0-py3-none-any.whl.metadata (13 kB)\n",
      "Collecting mpmath<1.4,>=1.1.0 (from sympy>=1.13.3->torch>=1.11.0->sentence-transformers)\n",
      "  Using cached mpmath-1.3.0-py3-none-any.whl.metadata (8.6 kB)\n",
      "Requirement already satisfied: MarkupSafe>=2.0 in c:\\project\\javeriana\\repos\\cev-rag\\.venv\\lib\\site-packages (from jinja2->torch>=1.11.0->sentence-transformers) (3.0.2)\n",
      "Requirement already satisfied: charset_normalizer<4,>=2 in c:\\project\\javeriana\\repos\\cev-rag\\.venv\\lib\\site-packages (from requests->huggingface-hub>=0.20.0->sentence-transformers) (3.4.2)\n",
      "Requirement already satisfied: idna<4,>=2.5 in c:\\project\\javeriana\\repos\\cev-rag\\.venv\\lib\\site-packages (from requests->huggingface-hub>=0.20.0->sentence-transformers) (3.10)\n",
      "Requirement already satisfied: urllib3<3,>=1.21.1 in c:\\project\\javeriana\\repos\\cev-rag\\.venv\\lib\\site-packages (from requests->huggingface-hub>=0.20.0->sentence-transformers) (2.5.0)\n",
      "Requirement already satisfied: certifi>=2017.4.17 in c:\\project\\javeriana\\repos\\cev-rag\\.venv\\lib\\site-packages (from requests->huggingface-hub>=0.20.0->sentence-transformers) (2025.6.15)\n",
      "Downloading sentence_transformers-5.0.0-py3-none-any.whl (470 kB)\n",
      "Downloading huggingface_hub-0.33.2-py3-none-any.whl (515 kB)\n",
      "Downloading torch-2.7.1-cp312-cp312-win_amd64.whl (216.1 MB)\n",
      "   ---------------------------------------- 0.0/216.1 MB ? eta -:--:--\n",
      "   - -------------------------------------- 7.1/216.1 MB 36.3 MB/s eta 0:00:06\n",
      "   -- ------------------------------------- 14.4/216.1 MB 36.2 MB/s eta 0:00:06\n",
      "   ---- ----------------------------------- 23.3/216.1 MB 36.9 MB/s eta 0:00:06\n",
      "   ----- ---------------------------------- 30.9/216.1 MB 37.0 MB/s eta 0:00:06\n",
      "   ------- -------------------------------- 38.8/216.1 MB 36.8 MB/s eta 0:00:05\n",
      "   -------- ------------------------------- 46.7/216.1 MB 37.1 MB/s eta 0:00:05\n",
      "   ---------- ----------------------------- 54.8/216.1 MB 37.1 MB/s eta 0:00:05\n",
      "   ----------- ---------------------------- 63.2/216.1 MB 37.3 MB/s eta 0:00:05\n",
      "   ------------- -------------------------- 71.8/216.1 MB 37.8 MB/s eta 0:00:04\n",
      "   -------------- ------------------------- 79.4/216.1 MB 37.5 MB/s eta 0:00:04\n",
      "   ---------------- ----------------------- 87.8/216.1 MB 37.6 MB/s eta 0:00:04\n",
      "   ----------------- ---------------------- 95.7/216.1 MB 37.5 MB/s eta 0:00:04\n",
      "   ------------------ -------------------- 103.3/216.1 MB 37.5 MB/s eta 0:00:04\n",
      "   -------------------- ------------------ 111.4/216.1 MB 37.4 MB/s eta 0:00:03\n",
      "   --------------------- ----------------- 119.5/216.1 MB 37.6 MB/s eta 0:00:03\n",
      "   ---------------------- ---------------- 126.9/216.1 MB 37.3 MB/s eta 0:00:03\n",
      "   ------------------------ -------------- 133.4/216.1 MB 36.9 MB/s eta 0:00:03\n",
      "   ------------------------- ------------- 141.6/216.1 MB 36.9 MB/s eta 0:00:03\n",
      "   --------------------------- ----------- 150.2/216.1 MB 37.2 MB/s eta 0:00:02\n",
      "   ---------------------------- ---------- 158.9/216.1 MB 37.3 MB/s eta 0:00:02\n",
      "   ------------------------------ -------- 167.5/216.1 MB 37.4 MB/s eta 0:00:02\n",
      "   ------------------------------- ------- 175.1/216.1 MB 37.4 MB/s eta 0:00:02\n",
      "   --------------------------------- ----- 183.0/216.1 MB 37.5 MB/s eta 0:00:01\n",
      "   ---------------------------------- ---- 191.4/216.1 MB 37.5 MB/s eta 0:00:01\n",
      "   ------------------------------------ -- 199.8/216.1 MB 37.7 MB/s eta 0:00:01\n",
      "   ------------------------------------- - 207.1/216.1 MB 37.5 MB/s eta 0:00:01\n",
      "   --------------------------------------  215.2/216.1 MB 37.5 MB/s eta 0:00:01\n",
      "   --------------------------------------  216.0/216.1 MB 37.5 MB/s eta 0:00:01\n",
      "   --------------------------------------- 216.1/216.1 MB 36.1 MB/s eta 0:00:00\n",
      "Downloading transformers-4.53.1-py3-none-any.whl (10.8 MB)\n",
      "   ---------------------------------------- 0.0/10.8 MB ? eta -:--:--\n",
      "   --------------------------------- ------ 9.2/10.8 MB 47.4 MB/s eta 0:00:01\n",
      "   ---------------------------------------- 10.8/10.8 MB 39.7 MB/s eta 0:00:00\n",
      "Downloading pillow-11.3.0-cp312-cp312-win_amd64.whl (7.0 MB)\n",
      "   ---------------------------------------- 0.0/7.0 MB ? eta -:--:--\n",
      "   ---------------------------------------- 7.0/7.0 MB 39.1 MB/s eta 0:00:00\n",
      "Downloading scikit_learn-1.7.0-cp312-cp312-win_amd64.whl (10.7 MB)\n",
      "   ---------------------------------------- 0.0/10.7 MB ? eta -:--:--\n",
      "   -------------------------------- ------- 8.7/10.7 MB 44.6 MB/s eta 0:00:01\n",
      "   ---------------------------------------- 10.7/10.7 MB 41.6 MB/s eta 0:00:00\n",
      "Using cached scipy-1.16.0-cp312-cp312-win_amd64.whl (38.4 MB)\n",
      "Downloading safetensors-0.5.3-cp38-abi3-win_amd64.whl (308 kB)\n",
      "Downloading sympy-1.14.0-py3-none-any.whl (6.3 MB)\n",
      "   ---------------------------------------- 0.0/6.3 MB ? eta -:--:--\n",
      "   ---------------------------------------- 6.3/6.3 MB 35.3 MB/s eta 0:00:00\n",
      "Downloading threadpoolctl-3.6.0-py3-none-any.whl (18 kB)\n",
      "Downloading tokenizers-0.21.2-cp39-abi3-win_amd64.whl (2.5 MB)\n",
      "   ---------------------------------------- 0.0/2.5 MB ? eta -:--:--\n",
      "   ---------------------------------------- 2.5/2.5 MB 47.8 MB/s eta 0:00:00\n",
      "Downloading networkx-3.5-py3-none-any.whl (2.0 MB)\n",
      "   ---------------------------------------- 0.0/2.0 MB ? eta -:--:--\n",
      "   ---------------------------------------- 2.0/2.0 MB 37.7 MB/s eta 0:00:00\n",
      "Using cached mpmath-1.3.0-py3-none-any.whl (536 kB)\n",
      "Installing collected packages: mpmath, threadpoolctl, sympy, scipy, safetensors, Pillow, networkx, torch, scikit-learn, huggingface-hub, tokenizers, transformers, sentence-transformers\n",
      "Successfully installed Pillow-11.3.0 huggingface-hub-0.33.2 mpmath-1.3.0 networkx-3.5 safetensors-0.5.3 scikit-learn-1.7.0 scipy-1.16.0 sentence-transformers-5.0.0 sympy-1.14.0 threadpoolctl-3.6.0 tokenizers-0.21.2 torch-2.7.1 transformers-4.53.1\n"
     ]
    },
    {
     "name": "stderr",
     "output_type": "stream",
     "text": [
      "\n",
      "[notice] A new release of pip is available: 25.0.1 -> 25.1.1\n",
      "[notice] To update, run: python.exe -m pip install --upgrade pip\n"
     ]
    }
   ],
   "execution_count": 35
  },
  {
   "cell_type": "code",
   "metadata": {
    "id": "iSW9oMXkW0xQ",
    "ExecuteTime": {
     "end_time": "2025-07-07T15:20:33.248388Z",
     "start_time": "2025-07-07T15:20:31.414191Z"
    }
   },
   "source": [
    "# Requires !pip install sentence-transformers\n",
    "from sentence_transformers import SentenceTransformer\n",
    "#embedding_model = SentenceTransformer(model_name_or_path=\"all-mpnet-base-v2\",\n",
    "embedding_model = SentenceTransformer(model_name_or_path=\"intfloat/multilingual-e5-small\",\n",
    "                                      device=\"cuda\") # cpu choose the device to load the model to (note: GPU will often be *much* faster than CPU)\n",
    "#embedding_model = SentenceTransformer(\"intfloat/multilingual-e5-small\", device=\"cpu\")\n",
    "\n",
    "# Create a list of sentences to turn into numbers\n",
    "sentences = [\n",
    "    \"La verdad es un bien público que permite sanar las heridas del pasado y construir un futuro en paz.\",\n",
    "    \"Escuchar a las víctimas es el primer paso para reconocer el sufrimiento causado por el conflicto armado.\",\n",
    "    \"No repetir significa transformar las causas profundas de la violencia.\",\n",
    "    \"La memoria no es para quedarse en el dolor, sino para dignificar a quienes resistieron y para aprender como sociedad.\"\n",
    "]\n",
    "\n",
    "# Sentences are encoded/embedded by calling model.encode()\n",
    "embeddings = embedding_model.encode(sentences)\n",
    "embeddings_dict = dict(zip(sentences, embeddings))\n",
    "\n",
    "# See the embeddings\n",
    "for sentence, embedding in embeddings_dict.items():\n",
    "    print(\"Sentence:\", sentence)\n",
    "    print(\"Embedding:\", embedding)\n",
    "    print(\"\")"
   ],
   "outputs": [
    {
     "name": "stdout",
     "output_type": "stream",
     "text": [
      "Sentence: La verdad es un bien público que permite sanar las heridas del pasado y construir un futuro en paz.\n",
      "Embedding: [ 0.03428737  0.00487183 -0.0175189  -0.08754956  0.04465368 -0.03870318\n",
      "  0.06808978  0.00479778  0.07510029 -0.00668349  0.03830749  0.01265513\n",
      "  0.10351615 -0.01738597 -0.05415159  0.03881928  0.07312605 -0.03884611\n",
      " -0.07984982 -0.02704423  0.00486125  0.02495448 -0.04304083  0.07953832\n",
      "  0.05879121  0.0791415  -0.0117946   0.02924803  0.07506862 -0.02599456\n",
      " -0.04477451 -0.03005438  0.06504887 -0.08467419  0.09627812  0.0765537\n",
      " -0.01913944 -0.05229321  0.02175024 -0.05177734 -0.06178514 -0.00815048\n",
      "  0.00319304  0.09296995  0.05435953  0.06906728 -0.06120611  0.05667885\n",
      " -0.04999745 -0.01985153 -0.02855441  0.05782646  0.02198639  0.0707174\n",
      " -0.00408259 -0.10659654 -0.06324435 -0.07978304 -0.04740124  0.05916703\n",
      "  0.06295753  0.01844816 -0.00359922  0.04749462  0.06854684  0.01944723\n",
      "  0.00890638  0.04109114 -0.00919911 -0.00551653 -0.06889705  0.07054865\n",
      " -0.02681963 -0.02322788  0.01612789  0.02457305  0.00213802 -0.08207297\n",
      "  0.06804884 -0.02734721 -0.06361388 -0.06236169 -0.02601773  0.04642876\n",
      " -0.02332757  0.07046672  0.04213775 -0.09042607  0.07463754 -0.01846801\n",
      "  0.10742791  0.03346089 -0.03384785 -0.04561726 -0.02915595 -0.02526375\n",
      " -0.05127509  0.07665155  0.08238521 -0.07976802  0.09677544 -0.07025233\n",
      "  0.04949176 -0.06194611 -0.03740506  0.03861625  0.01426183 -0.01285893\n",
      "  0.06555666 -0.08011826  0.02553371  0.02045435  0.02900281  0.02037329\n",
      " -0.06904104  0.00130135 -0.03006944 -0.08928907  0.03219832 -0.10035482\n",
      "  0.05509629 -0.04997449 -0.0356699  -0.05895449 -0.05999402 -0.08096678\n",
      "  0.04335118  0.03316317  0.07728846  0.04358648  0.04966303  0.0047125\n",
      "  0.04528075  0.0223812   0.06195676  0.10064124 -0.02143595 -0.01622601\n",
      "  0.01016096 -0.04682918 -0.02237074  0.04780282  0.00656464  0.01585981\n",
      "  0.01156232  0.05199414  0.06134692 -0.02894299  0.06367461 -0.06055044\n",
      "  0.01899723 -0.04126886  0.04225477  0.03457956  0.0793229  -0.04361402\n",
      " -0.06339202 -0.04409865  0.0471027   0.02128739 -0.06981884 -0.04066952\n",
      " -0.09276956 -0.00609918 -0.06277204 -0.07405851  0.01323513  0.04700547\n",
      " -0.08965652 -0.05006507 -0.0270348   0.04536853 -0.01267484  0.07228239\n",
      " -0.02336494  0.05157791 -0.07530911  0.06598356  0.05140635  0.03573711\n",
      "  0.02813108  0.00063778 -0.02482499 -0.04791898 -0.06190657 -0.00159578\n",
      " -0.04599847  0.04110792 -0.00376672 -0.06395439 -0.02394749  0.02517017\n",
      " -0.00626887 -0.01800822 -0.04452569  0.04989256 -0.07263271  0.06059904\n",
      "  0.06289177  0.02102419 -0.02365265  0.01399522  0.04586853  0.01212384\n",
      "  0.02162705 -0.02126582 -0.0150953   0.06369453 -0.06109244 -0.00336398\n",
      "  0.04047026 -0.09037592 -0.06043345  0.04846919 -0.03580804 -0.05669942\n",
      " -0.01231694  0.07185978 -0.05890917 -0.04577024  0.06997221 -0.02524883\n",
      "  0.04310134 -0.07862779 -0.01969792  0.03368427  0.01328332 -0.05654053\n",
      " -0.07351217 -0.01232592 -0.05045605 -0.01486488 -0.02899845 -0.07770785\n",
      " -0.04333345 -0.07881355 -0.02538284  0.01280116  0.05786993 -0.06369647\n",
      " -0.01315586 -0.05203979  0.04605626 -0.07718523  0.05820545 -0.00482238\n",
      " -0.04430733  0.03010653  0.0168812   0.04371991  0.03809878 -0.05443692\n",
      " -0.07749394 -0.08144069 -0.0404974   0.00725885  0.03861056  0.0408205\n",
      " -0.08463954  0.05963928  0.03403853 -0.0735158   0.02602853  0.05121958\n",
      "  0.04122544  0.0025978  -0.05265698  0.02517537 -0.08201435 -0.06573052\n",
      " -0.02046701 -0.0108123   0.03980485 -0.04436028 -0.02040578 -0.04179171\n",
      "  0.03732222  0.0390196  -0.03135991 -0.07115276  0.07320589  0.04817853\n",
      "  0.0785249   0.04732541 -0.00530342  0.00503218  0.00192926  0.05525632\n",
      " -0.04173511 -0.02739542 -0.03320969 -0.05920887  0.0702384  -0.02562312\n",
      "  0.00208065  0.04235772 -0.01620052  0.04458647 -0.01504466  0.07739719\n",
      "  0.03038316 -0.04816846  0.00024016  0.01001826 -0.04119222  0.00354257\n",
      " -0.00635982 -0.02392128  0.02529778  0.07297575  0.05982514  0.08028083\n",
      " -0.047043   -0.0348257   0.05815488  0.06867585 -0.05835036  0.02469428\n",
      " -0.01918214 -0.04174327 -0.06747568 -0.02723917  0.01064725 -0.04442599\n",
      "  0.08573413  0.06860179 -0.04526505 -0.00481751  0.04156052 -0.05303623\n",
      "  0.03582446 -0.05061011 -0.08970023  0.04890716 -0.10098995  0.01679463\n",
      " -0.04986116  0.00343483 -0.00665141 -0.07727197  0.01799219  0.09366164\n",
      " -0.03759721  0.07897898 -0.01497816 -0.03843309  0.0589699  -0.0934513\n",
      " -0.02999618  0.01278627  0.03915228 -0.11591238  0.00680214  0.06280004\n",
      " -0.02572576 -0.00414364 -0.07418469 -0.02089226  0.06110022  0.07246388\n",
      " -0.04256669 -0.05010057  0.03806561  0.03618343  0.09670274 -0.00406935\n",
      " -0.02896024 -0.02317382  0.0240855   0.0002812   0.03151723  0.03980197\n",
      " -0.01036452 -0.01501846  0.01152835 -0.09126643 -0.06443731  0.07655711\n",
      " -0.06131799 -0.02672448  0.07086147  0.05298835  0.05762158  0.08259754]\n",
      "\n",
      "Sentence: Escuchar a las víctimas es el primer paso para reconocer el sufrimiento causado por el conflicto armado.\n",
      "Embedding: [ 9.54234675e-02 -3.64458896e-02 -3.60293351e-02 -1.08692512e-01\n",
      "  2.80146822e-02 -2.09522881e-02  4.69522849e-02  2.40095798e-02\n",
      "  4.84945737e-02  3.01591810e-02  4.15992215e-02  9.82983317e-03\n",
      "  6.63717389e-02 -2.87030358e-02 -5.51046617e-02  2.04634424e-02\n",
      "  7.41955787e-02 -8.04619491e-02 -7.57121518e-02 -4.28282702e-03\n",
      "  1.42312245e-02  2.76970435e-02 -1.61803365e-02  1.00391217e-01\n",
      "  7.67284483e-02  4.25395034e-02 -2.45886613e-02  5.73985167e-02\n",
      "  4.73604314e-02 -1.74536835e-02 -4.88232411e-02 -3.33430730e-02\n",
      "  6.08211458e-02 -8.19639415e-02  9.19319168e-02  4.35581729e-02\n",
      " -1.72745921e-02 -5.06013036e-02  7.45935217e-02 -1.00216866e-01\n",
      " -3.09061613e-02  3.55185382e-02  1.95866730e-03  8.39618593e-02\n",
      "  9.41812918e-02  8.12799335e-02 -9.44266692e-02  6.50178492e-02\n",
      " -8.08120146e-02  5.81914028e-05 -4.32295687e-02  6.48533553e-02\n",
      "  3.38648334e-02  8.71525854e-02  6.21854030e-02 -1.05948053e-01\n",
      " -3.13625783e-02 -5.49642667e-02 -7.30438083e-02  4.07625325e-02\n",
      "  1.80434808e-02  1.45268824e-03 -2.34662145e-02 -1.34774419e-02\n",
      "  3.96848843e-02  6.96250945e-02  2.33353153e-02  7.26458337e-03\n",
      " -3.05180885e-02  1.69999730e-02 -4.32163738e-02  1.04320191e-01\n",
      " -2.77069919e-02 -2.03524227e-03  4.11799960e-02  4.09704559e-02\n",
      "  1.51614286e-02 -6.94690645e-02  7.09718987e-02 -3.17584909e-02\n",
      " -2.92212144e-02 -8.70819539e-02 -2.15970669e-02  4.96972837e-02\n",
      " -4.25006635e-02  7.12957755e-02  5.08762896e-02 -6.71827942e-02\n",
      "  8.93877447e-02 -3.55384983e-02  8.08009803e-02  5.70105836e-02\n",
      " -9.66432691e-02 -4.86909933e-02 -3.72779891e-02 -4.25297469e-02\n",
      " -5.38870692e-02  7.24608973e-02  8.17743093e-02 -7.31291771e-02\n",
      "  4.38738912e-02 -2.88330037e-02  8.00699368e-02 -5.93403168e-02\n",
      " -4.60482873e-02  3.40466350e-02 -3.89721505e-02 -5.15523255e-02\n",
      "  1.07325606e-01 -9.42213014e-02 -1.47650931e-02  3.26659977e-02\n",
      "  4.96484376e-02  4.76926342e-02 -5.55134267e-02 -5.49106076e-02\n",
      "  2.00621001e-02 -8.25386867e-02  4.35584448e-02 -9.13608298e-02\n",
      "  3.99423465e-02 -3.55554968e-02 -5.37758358e-02 -6.77243695e-02\n",
      " -4.33396697e-02 -5.67322709e-02  6.29526153e-02  3.44538577e-02\n",
      "  4.64891605e-02  4.84295934e-02  3.82999741e-02  2.54457127e-02\n",
      "  5.10791317e-02  5.95279150e-02  5.97781129e-02  1.08372681e-01\n",
      " -1.98957082e-02 -8.70529853e-04 -1.38022173e-02 -7.33365491e-02\n",
      " -6.14270866e-02  7.13725910e-02  3.52205858e-02  1.64171327e-02\n",
      "  2.43616998e-02  1.37892086e-02  4.79471311e-02 -4.83542606e-02\n",
      "  6.48358017e-02 -3.03346012e-02  3.42869833e-02 -3.91320959e-02\n",
      "  6.93251491e-02  1.46002052e-02  4.45974022e-02 -1.33735994e-02\n",
      " -9.56038609e-02 -3.91071551e-02 -1.13578187e-02  4.71668243e-02\n",
      " -6.02123551e-02 -6.58408552e-02 -6.27525151e-02 -4.76421528e-02\n",
      " -8.36537629e-02 -6.31655604e-02  4.46136184e-02  5.13308607e-02\n",
      " -6.76981434e-02 -7.54186809e-02  1.35081103e-02  2.96605881e-02\n",
      "  2.09808983e-02  5.00615723e-02 -3.34219635e-02  5.91690578e-02\n",
      " -6.32806420e-02  3.54270041e-02  3.01937070e-02  4.36550118e-02\n",
      " -2.06907606e-03 -9.84209590e-03  1.02612991e-02 -4.19237502e-02\n",
      " -7.97366351e-02 -3.33537944e-02 -1.44172879e-02  2.02877354e-02\n",
      "  3.59779522e-02 -6.36096150e-02 -2.92668622e-02  5.84418923e-02\n",
      " -2.67493408e-02 -2.17865929e-02 -5.32623902e-02  3.58487405e-02\n",
      " -6.48884475e-02  7.33701661e-02  3.48031484e-02  1.07727479e-02\n",
      " -2.01823842e-02  1.79898716e-03  9.46834609e-02  5.82662709e-02\n",
      "  3.89177762e-02 -1.46172242e-02 -3.28973569e-02  3.12152617e-02\n",
      " -3.49939391e-02  1.52534377e-02  2.16619689e-02 -9.55138355e-02\n",
      " -3.62867378e-02  5.86294346e-02 -2.56915055e-02  1.67092104e-02\n",
      " -2.73391400e-02  7.50549510e-02 -4.34879847e-02 -3.95367034e-02\n",
      "  1.26867024e-02  5.47939632e-03  7.28316307e-02 -7.17532635e-02\n",
      " -1.89335402e-02  4.48304228e-02  4.38647857e-03 -1.63351465e-02\n",
      " -6.28461614e-02 -3.60868196e-03 -4.76526171e-02 -8.73974711e-03\n",
      " -4.00410108e-02 -8.31677020e-02 -7.53526688e-02 -7.58286268e-02\n",
      "  1.38934283e-02  3.53540890e-02  1.70550700e-02 -9.05430913e-02\n",
      " -4.40960936e-02 -5.95570579e-02  3.08351871e-02 -8.39211047e-02\n",
      "  6.24557175e-02 -2.90367100e-03 -5.77676632e-02  3.65580730e-02\n",
      " -5.10048233e-02  3.72502916e-02  1.87302455e-02 -5.48057184e-02\n",
      " -4.88044880e-02 -5.76032214e-02 -3.92078273e-02  3.33537273e-02\n",
      "  1.59626529e-02  4.91762832e-02 -4.26681824e-02  5.97822629e-02\n",
      "  2.79983580e-02 -2.96630878e-02  1.01190716e-01  5.41447513e-02\n",
      "  4.00350355e-02  5.23604155e-02 -6.71275854e-02 -1.33866407e-02\n",
      " -6.71018288e-02 -3.23532820e-02 -1.25711169e-02 -2.74924096e-02\n",
      "  2.65962984e-02 -5.64762391e-02 -4.72947322e-02 -3.22971232e-02\n",
      "  3.53689529e-02  7.14603439e-02  1.61517728e-02 -5.03251590e-02\n",
      "  6.19877838e-02 -8.80588312e-03  7.42786378e-02  1.47558032e-02\n",
      "  4.91685644e-02 -2.40264554e-02 -1.30118225e-02  5.61487898e-02\n",
      " -5.28804585e-02 -1.02859940e-02 -1.76245477e-02 -6.46519586e-02\n",
      "  7.09675699e-02 -1.65535081e-02  4.22829539e-02  6.21639304e-02\n",
      " -4.61700605e-03  7.04366863e-02 -1.31914793e-02  3.65420096e-02\n",
      "  8.32091179e-03 -1.03495317e-02  1.34259211e-02  2.05686893e-02\n",
      " -4.78486158e-02  4.98946644e-02 -2.18605492e-02  6.65656151e-03\n",
      "  6.98014675e-03  4.78802659e-02  6.21756837e-02  5.13211004e-02\n",
      " -5.77503666e-02 -1.60628147e-02  5.14295623e-02  3.96494120e-02\n",
      " -5.13592698e-02  4.21820171e-02 -3.65748331e-02 -3.57550941e-02\n",
      " -8.92648399e-02 -3.61659639e-02 -2.05020159e-02 -4.58641686e-02\n",
      "  3.12535800e-02  4.37938571e-02 -3.51039544e-02 -5.64527512e-02\n",
      "  5.76502755e-02 -1.84514448e-02  5.58128282e-02 -4.82458174e-02\n",
      " -7.10079595e-02  1.24121774e-02 -1.14744447e-01  1.04224989e-02\n",
      " -3.34754102e-02  3.79789136e-02 -1.92975923e-02 -6.03597052e-02\n",
      "  6.47565797e-02  4.19479385e-02 -4.22336385e-02  9.44846794e-02\n",
      " -5.30117266e-02 -4.83534485e-02  9.55702066e-02 -5.75924143e-02\n",
      " -1.42709482e-02  7.43426988e-03  1.48287667e-02 -1.06401838e-01\n",
      "  1.15708923e-02  2.90989280e-02 -3.59649286e-02  1.41179096e-02\n",
      " -5.93804158e-02 -1.36716748e-02  5.18801212e-02  3.96218384e-03\n",
      " -5.92785962e-02 -4.90895249e-02  2.76839547e-02  3.02930996e-02\n",
      "  8.09838995e-02 -1.25062093e-02 -1.95237771e-02 -5.42806238e-02\n",
      "  8.67302436e-03 -1.06960451e-02  3.54819447e-02  2.32110489e-02\n",
      " -4.18086313e-02 -2.70730313e-02  7.55039603e-03 -4.03481014e-02\n",
      " -3.57918516e-02  7.41427988e-02 -4.26752232e-02 -1.31186377e-02\n",
      "  7.98985586e-02  4.16785181e-02  5.95917227e-03  6.87911510e-02]\n",
      "\n",
      "Sentence: No repetir significa transformar las causas profundas de la violencia.\n",
      "Embedding: [ 0.03567234 -0.03887584 -0.04272478 -0.10416805  0.07059404 -0.03871561\n",
      "  0.06626435 -0.00581838  0.04734129  0.02021648  0.03085809  0.01611734\n",
      "  0.07561892 -0.00676623 -0.07288262 -0.01404883  0.06973085 -0.03279214\n",
      " -0.02856167 -0.00821576  0.00624312 -0.0110913  -0.06718307  0.1118039\n",
      "  0.04487176  0.06837422 -0.01890393  0.01242953  0.10792515 -0.05423749\n",
      " -0.03787136 -0.02185949  0.03111196 -0.08045099  0.05222663  0.03857987\n",
      " -0.04531613 -0.06516962  0.02531238 -0.06864727 -0.06586173  0.01677001\n",
      "  0.02241144  0.11070773  0.09816504  0.01859138 -0.07369851  0.04296067\n",
      " -0.03585108 -0.02941433 -0.07772788  0.06807159 -0.00340348  0.0928726\n",
      "  0.0311144  -0.09224355 -0.08481986 -0.05334359 -0.08454677  0.07922355\n",
      "  0.02985191  0.01792056 -0.01619183 -0.01573171  0.11511919  0.06232892\n",
      "  0.01530513  0.05275598 -0.01207862 -0.0113465  -0.01294796  0.08748046\n",
      " -0.02329641 -0.02845867  0.05398299  0.05673235  0.03556003 -0.08085319\n",
      "  0.05078429 -0.0276819  -0.03061608 -0.0744431  -0.05238436  0.02999239\n",
      " -0.0237833   0.08133169  0.06457958 -0.03561162  0.06984544 -0.02667692\n",
      "  0.03783574  0.02603829 -0.04571403 -0.05535555 -0.06751733 -0.06033722\n",
      " -0.05696472  0.05268345  0.08413936 -0.05587209  0.05443745 -0.03228754\n",
      "  0.06389718 -0.03651408 -0.05791785  0.05587236 -0.02161597 -0.08208767\n",
      "  0.06254933 -0.05401058 -0.00084354  0.02569593  0.04309515  0.05643328\n",
      " -0.05518022 -0.0207895   0.0152445  -0.03360675  0.05469244 -0.09953061\n",
      "  0.05798133 -0.02110846 -0.03583819 -0.06282277 -0.04858368 -0.06072377\n",
      "  0.05221742 -0.000295    0.03499951  0.04600626  0.06309877  0.01833621\n",
      "  0.02522694  0.03853175  0.0632147   0.12499395 -0.06493884  0.00674865\n",
      "  0.0141715  -0.08198193 -0.05764661  0.01017736 -0.02454972  0.01413243\n",
      "  0.02147787  0.04435014  0.05428442 -0.0344692   0.07337973 -0.05577481\n",
      "  0.00577274 -0.04333576  0.08634596  0.02385255  0.06579315 -0.04566598\n",
      " -0.08202928 -0.01105236  0.06108543  0.02198413 -0.0652272  -0.00937424\n",
      " -0.05262521 -0.03150445 -0.05627332 -0.06340948  0.06125275  0.05797473\n",
      " -0.03327195 -0.03386991 -0.06788045  0.00637283 -0.03260701  0.05201586\n",
      " -0.00235251  0.04088263 -0.09379764  0.03512594  0.07181952  0.00650069\n",
      "  0.00682296 -0.03090551 -0.01314113 -0.03640718 -0.04036012 -0.02418275\n",
      " -0.03430226 -0.00531733  0.04308209 -0.01159194 -0.00513209  0.0401902\n",
      " -0.04871972 -0.03131232 -0.0324301   0.00583063 -0.03341255  0.04367308\n",
      "  0.05267939  0.05041599 -0.00981927 -0.05918102  0.03350072  0.02827401\n",
      "  0.0427842   0.01344615 -0.02039096  0.06367105 -0.01009341  0.04493406\n",
      "  0.05133576 -0.08497754 -0.04712237  0.04612313 -0.04323326 -0.03419048\n",
      " -0.00079325  0.05870508 -0.036132    0.01118152  0.01743469 -0.0019078\n",
      "  0.03911457 -0.11443611 -0.0187297   0.04107049  0.0203891  -0.01898063\n",
      " -0.03932754  0.00422044 -0.04347286  0.02882765 -0.06530618 -0.07486088\n",
      " -0.04178725 -0.06367275  0.01174477  0.03523521  0.07353184 -0.03748646\n",
      " -0.02369584 -0.04505955  0.03386868 -0.07159401  0.08216525 -0.04224355\n",
      " -0.04124051  0.03791968 -0.03206621  0.0466275   0.04399559 -0.06845763\n",
      " -0.04219659 -0.05357067 -0.04846607  0.02864866  0.02999205  0.02939578\n",
      " -0.07477844  0.05511288  0.05300941 -0.03486024  0.07990993  0.05774541\n",
      "  0.04172174  0.02377305 -0.07724708 -0.00037474 -0.10055856 -0.07385071\n",
      " -0.0525361  -0.01589324  0.06739607 -0.03822854 -0.03869142 -0.02204864\n",
      "  0.04617598  0.02163565 -0.06797351 -0.03979346  0.06685543  0.00495792\n",
      "  0.06452576  0.05396794  0.04606159 -0.06350494  0.00422238  0.07021704\n",
      " -0.04499583 -0.03657306 -0.01474831 -0.07951002  0.03985506 -0.07691818\n",
      "  0.0410421   0.04901138 -0.00799658  0.05187998 -0.03472326  0.09332618\n",
      "  0.00376643 -0.04056112  0.0529542   0.05734495 -0.08686145  0.05873575\n",
      " -0.00361113 -0.04993806  0.04494131  0.04903074  0.06901108  0.05294146\n",
      " -0.03722728 -0.01136372  0.02775506  0.07457938 -0.02400713  0.05219875\n",
      " -0.04111163 -0.04313888 -0.06962529 -0.0119618  -0.01925914 -0.03813365\n",
      "  0.06390787  0.06317994 -0.0980668  -0.03802229  0.06459047 -0.00017281\n",
      "  0.05494299 -0.07309404 -0.0753607   0.01394913 -0.14160585 -0.03724917\n",
      " -0.07007462  0.04239535 -0.01042026 -0.04620706  0.03812268  0.06564361\n",
      " -0.01984944  0.06748594 -0.01323216 -0.05078983  0.07474773 -0.06033434\n",
      " -0.03364746  0.01773361 -0.01666889 -0.05900355  0.01536212  0.04993988\n",
      " -0.05765167  0.03534712 -0.04221565 -0.03503716  0.03045296  0.0442755\n",
      " -0.09539997 -0.04762406  0.05505266  0.02455755  0.06059159  0.01012369\n",
      "  0.00110962 -0.00160491  0.01432622 -0.02780919  0.05987382  0.02906468\n",
      " -0.05665577 -0.00774398  0.0163715  -0.02568137 -0.05351952  0.06015943\n",
      " -0.04948974 -0.03973291  0.05264427  0.06143829  0.00424037  0.06959502]\n",
      "\n",
      "Sentence: La memoria no es para quedarse en el dolor, sino para dignificar a quienes resistieron y para aprender como sociedad.\n",
      "Embedding: [ 1.94240753e-02 -4.94489595e-02 -1.99126173e-02 -7.15611130e-02\n",
      "  3.85575294e-02 -3.64633873e-02  3.55350263e-02  2.19791383e-02\n",
      "  5.04883975e-02  3.75453345e-02  1.69078335e-02  1.33145992e-02\n",
      "  1.09625928e-01 -3.03792264e-02 -6.01168796e-02  3.66197713e-03\n",
      "  6.98334053e-02 -4.75905910e-02 -5.99615872e-02 -4.55312943e-03\n",
      "  5.27084013e-03 -5.11173531e-03 -4.38644588e-02  9.51358303e-02\n",
      "  5.03599495e-02  7.91321918e-02  1.47519279e-02  5.68414330e-02\n",
      "  9.42404047e-02 -6.23309128e-02 -4.66323234e-02 -6.23752363e-03\n",
      "  7.52917752e-02 -5.24826162e-02  7.36086816e-02  3.37769687e-02\n",
      " -7.06015900e-02 -5.13769016e-02  1.74681824e-02 -4.95079830e-02\n",
      " -3.65155451e-02  4.56905365e-03  4.24003936e-02  1.24039277e-01\n",
      "  9.26353633e-02  3.14335823e-02 -6.21037669e-02  8.75871554e-02\n",
      " -2.74240021e-02 -4.73966412e-02 -3.73811908e-02  5.41217960e-02\n",
      "  1.48877976e-02  1.05809882e-01  4.81095612e-02 -9.47810188e-02\n",
      " -8.07049721e-02 -5.40090948e-02 -4.85853404e-02  7.92085975e-02\n",
      "  1.90586150e-02  6.82863698e-04  5.18140369e-05 -4.31604590e-03\n",
      "  4.41341810e-02  3.68904807e-02  1.54570967e-03  2.17621662e-02\n",
      " -1.81177426e-02 -3.25357504e-02  5.50041767e-03  8.01230371e-02\n",
      " -3.62117849e-02 -3.50759588e-02  6.41834885e-02  6.37235343e-02\n",
      "  6.67833313e-02 -8.69329050e-02  4.40745354e-02 -3.68984193e-02\n",
      " -2.40079053e-02 -4.18257825e-02 -1.82801560e-02  6.73801452e-02\n",
      " -4.59536314e-02  6.43858835e-02  4.85428348e-02 -6.41676560e-02\n",
      "  7.63764307e-02 -1.30888550e-02  6.61520362e-02  4.04363079e-03\n",
      " -6.24901429e-02 -5.80185317e-02 -6.64642528e-02 -5.23714311e-02\n",
      " -3.09661720e-02  5.61017878e-02  6.86976165e-02 -7.84450322e-02\n",
      "  6.66566119e-02 -6.32254109e-02  5.09909503e-02 -3.70980091e-02\n",
      " -6.16630614e-02  4.84994873e-02 -1.22941174e-02 -2.22728010e-02\n",
      "  4.21832092e-02 -9.33937579e-02 -2.04737317e-02  1.84587259e-02\n",
      "  1.15092946e-02  4.98458333e-02 -5.90436906e-02 -1.08009409e-02\n",
      " -7.53889000e-03 -5.38259000e-02  5.72038181e-02 -7.22410008e-02\n",
      "  2.93247867e-02 -2.29387102e-03 -1.63882691e-02 -7.77792111e-02\n",
      " -7.93080032e-02 -6.82840347e-02  4.84154113e-02  2.93942206e-02\n",
      "  4.51648384e-02  6.11146688e-02  5.27689196e-02  2.72284131e-02\n",
      "  3.61432843e-02  3.57265845e-02  5.82296290e-02  1.06264628e-01\n",
      " -3.32877859e-02  5.80138387e-03 -3.80473807e-02 -6.69613853e-02\n",
      " -6.18886799e-02  1.96195561e-02 -2.14375947e-02  1.59085728e-02\n",
      "  3.78190428e-02  4.02406231e-02  3.63440104e-02 -1.39457984e-02\n",
      "  4.36843000e-02 -9.88354981e-02  3.52587667e-03 -1.99745465e-02\n",
      "  6.71421289e-02  4.21163114e-03  6.04379326e-02 -4.68279421e-02\n",
      " -6.19551912e-02 -3.20813209e-02  5.39540239e-02  3.84542719e-02\n",
      " -5.90810739e-02 -3.46004963e-02 -7.09431097e-02 -1.27512952e-02\n",
      " -4.64312024e-02 -1.05909094e-01  7.04530347e-03  2.25107726e-02\n",
      " -3.81643660e-02 -2.85611507e-02 -5.12271486e-02  2.50686705e-02\n",
      " -1.71125066e-02  2.39585564e-02  2.27415073e-03  5.14682494e-02\n",
      " -7.05237016e-02  5.12479469e-02  6.29946813e-02  3.84832136e-02\n",
      "  2.04802211e-02 -5.88521967e-03 -2.46476312e-03 -4.83316071e-02\n",
      " -3.75859477e-02 -1.55040799e-02 -2.28267647e-02  1.17534678e-02\n",
      "  5.14407493e-02 -7.67173395e-02  2.43274937e-03  3.89709845e-02\n",
      "  4.20645159e-03 -2.22898107e-02 -3.14512439e-02  3.76827195e-02\n",
      " -5.77905476e-02  6.34687170e-02  4.44602296e-02  1.39029808e-02\n",
      " -3.13361771e-02  1.74244009e-02  5.26017696e-02  6.85507357e-02\n",
      "  1.10691215e-03 -2.44501326e-02 -7.43345916e-02  6.63747266e-02\n",
      " -3.49304974e-02  2.04981845e-02  2.25512665e-02 -9.16528329e-02\n",
      " -8.27654600e-02  4.44858037e-02 -5.20613790e-02 -3.62004489e-02\n",
      " -7.67443469e-03  7.98706859e-02 -6.88473135e-02 -3.05293985e-02\n",
      "  2.05481630e-02 -2.73604337e-02  9.72201303e-02 -7.49121830e-02\n",
      " -1.95168587e-03  3.58482897e-02  3.93685549e-02 -2.82126758e-02\n",
      " -2.82834005e-02 -1.74281839e-03 -2.40937416e-02 -4.82787285e-03\n",
      " -4.79520820e-02 -9.71065238e-02 -7.72770941e-02 -8.48188251e-02\n",
      " -9.20908060e-03  3.74193564e-02  6.49762079e-02 -9.19447392e-02\n",
      " -4.38835397e-02 -4.68768589e-02  2.47420790e-03 -8.18820000e-02\n",
      "  2.89954152e-02 -1.72369070e-02 -1.47060454e-02  5.09094745e-02\n",
      " -1.58692747e-02  6.88046440e-02  6.04301021e-02 -4.56800312e-02\n",
      " -3.82531546e-02 -7.01101571e-02 -4.39975448e-02  9.51782241e-03\n",
      "  2.94811483e-02  6.16231076e-02 -7.48942792e-02  6.16104342e-02\n",
      "  3.37668397e-02 -5.27018160e-02  1.07418709e-01  8.16720724e-02\n",
      "  5.73635884e-02  1.88289117e-02 -4.52041700e-02  1.92561280e-02\n",
      " -6.58311248e-02 -5.86152337e-02 -1.98621340e-02 -3.39886844e-02\n",
      "  6.22982122e-02 -6.49761632e-02 -4.29111384e-02 -4.37814891e-02\n",
      "  1.97219886e-02  5.79896793e-02 -2.92365085e-02 -5.65189756e-02\n",
      "  4.86170053e-02  4.75755930e-02  7.47522712e-02  6.74750507e-02\n",
      "  2.78428961e-02 -3.99391279e-02 -1.44447917e-02  7.95962214e-02\n",
      " -4.00667191e-02 -3.76016013e-02 -2.54704747e-02 -3.97327170e-02\n",
      "  7.25128278e-02 -2.86949966e-02  5.65276444e-02  4.93934378e-02\n",
      " -3.05387322e-02  5.83649911e-02  1.56502575e-02  9.84759852e-02\n",
      " -9.36498679e-03 -3.01102139e-02  3.02612167e-02  7.58050429e-03\n",
      " -7.51903653e-02  6.13711514e-02 -5.48216794e-03 -2.66849622e-02\n",
      "  2.04669815e-02  2.13882122e-02  5.89929111e-02  4.86339964e-02\n",
      " -5.47921807e-02 -2.99868230e-02  5.29890358e-02  6.01171106e-02\n",
      " -1.48645882e-02  3.68375294e-02 -3.25882398e-02 -6.32002801e-02\n",
      " -7.61662424e-02 -3.57900597e-02 -9.10111237e-03 -4.02405374e-02\n",
      "  5.37501760e-02  3.02554406e-02 -4.23730239e-02 -1.14804059e-02\n",
      "  6.26098514e-02 -3.59996483e-02  6.17948845e-02 -6.26858100e-02\n",
      " -5.62129728e-02  6.59510419e-02 -1.18876651e-01  2.74004061e-02\n",
      " -4.86536212e-02  2.44586878e-02 -9.71550122e-03 -3.35023701e-02\n",
      "  5.76412044e-02  7.11587593e-02 -2.14472506e-02  7.53450617e-02\n",
      " -2.99258791e-02 -5.55262230e-02  7.59616494e-02 -7.77377933e-02\n",
      " -1.51987216e-02  9.70848277e-03 -2.12037452e-02 -7.82823190e-02\n",
      "  2.98741590e-02  6.55848607e-02 -5.07579334e-02  4.40774150e-02\n",
      " -8.80999863e-02 -2.04395931e-02  4.80047278e-02  5.48083857e-02\n",
      " -6.73477054e-02 -7.68409967e-02  2.63044797e-02  1.93127021e-02\n",
      "  8.33459944e-02 -2.17715688e-02 -2.19455026e-02 -5.71114942e-02\n",
      " -4.87340102e-03 -1.38285635e-02  4.11017202e-02  4.31185514e-02\n",
      " -3.55481766e-02 -2.79739089e-02 -5.90217160e-03 -6.08141348e-02\n",
      " -5.66058680e-02  6.02625385e-02 -8.78688768e-02 -3.56051661e-02\n",
      "  5.82528561e-02  7.77800828e-02  3.60439047e-02  6.38228357e-02]\n",
      "\n"
     ]
    }
   ],
   "execution_count": 28
  },
  {
   "cell_type": "code",
   "source": [
    "single_sentence = \"La verdad es un bien público que permite sanar las heridas del pasado y construir un futuro en paz.\"\n",
    "single_embedding = embedding_model.encode(single_sentence)\n",
    "print(f\"Sentence: {single_sentence}\")\n",
    "print(f\"Embedding:\\n{single_embedding}\")\n",
    "print(f\"Embedding size: {single_embedding.shape}\")"
   ],
   "metadata": {
    "id": "UQ1YFblPB66p",
    "ExecuteTime": {
     "end_time": "2025-07-07T15:20:36.324617Z",
     "start_time": "2025-07-07T15:20:36.271107Z"
    }
   },
   "outputs": [
    {
     "name": "stdout",
     "output_type": "stream",
     "text": [
      "Sentence: La verdad es un bien público que permite sanar las heridas del pasado y construir un futuro en paz.\n",
      "Embedding:\n",
      "[ 0.03428737  0.00487185 -0.01751892 -0.08754957  0.04465367 -0.03870318\n",
      "  0.06808978  0.00479779  0.0751003  -0.00668349  0.03830749  0.01265512\n",
      "  0.10351615 -0.01738598 -0.05415161  0.03881927  0.07312606 -0.03884609\n",
      " -0.0798498  -0.02704424  0.00486124  0.0249545  -0.04304085  0.07953835\n",
      "  0.05879122  0.07914148 -0.01179459  0.02924802  0.07506863 -0.02599456\n",
      " -0.04477451 -0.03005438  0.06504887 -0.08467417  0.09627812  0.07655371\n",
      " -0.01913944 -0.05229321  0.02175023 -0.05177733 -0.06178513 -0.00815049\n",
      "  0.00319302  0.09296996  0.05435954  0.0690673  -0.06120611  0.05667887\n",
      " -0.04999744 -0.01985152 -0.0285544   0.05782647  0.02198637  0.07071741\n",
      " -0.00408258 -0.10659655 -0.06324435 -0.07978306 -0.04740125  0.05916703\n",
      "  0.06295753  0.01844817 -0.00359923  0.04749461  0.06854685  0.01944721\n",
      "  0.00890638  0.04109115 -0.00919912 -0.00551652 -0.06889706  0.07054866\n",
      " -0.02681962 -0.02322789  0.0161279   0.02457306  0.00213803 -0.08207299\n",
      "  0.06804884 -0.0273472  -0.06361388 -0.06236169 -0.02601775  0.04642878\n",
      " -0.02332756  0.07046673  0.04213774 -0.09042606  0.07463752 -0.01846802\n",
      "  0.1074279   0.03346088 -0.03384784 -0.04561726 -0.02915595 -0.02526374\n",
      " -0.0512751   0.07665157  0.08238521 -0.07976804  0.09677544 -0.07025234\n",
      "  0.04949175 -0.06194612 -0.03740506  0.03861625  0.01426183 -0.01285893\n",
      "  0.06555665 -0.08011826  0.0255337   0.02045436  0.02900279  0.02037331\n",
      " -0.06904102  0.00130136 -0.03006944 -0.08928908  0.03219832 -0.10035482\n",
      "  0.05509627 -0.04997449 -0.0356699  -0.05895448 -0.05999403 -0.0809668\n",
      "  0.04335117  0.03316317  0.07728847  0.0435865   0.04966305  0.0047125\n",
      "  0.04528074  0.02238118  0.06195676  0.10064123 -0.02143594 -0.01622601\n",
      "  0.01016097 -0.04682918 -0.02237074  0.04780284  0.00656464  0.01585983\n",
      "  0.01156233  0.05199415  0.06134691 -0.02894298  0.06367461 -0.06055044\n",
      "  0.01899725 -0.04126887  0.04225477  0.03457956  0.07932288 -0.04361402\n",
      " -0.06339202 -0.04409866  0.0471027   0.0212874  -0.06981883 -0.04066952\n",
      " -0.09276956 -0.00609921 -0.06277204 -0.07405851  0.01323512  0.04700546\n",
      " -0.08965652 -0.05006507 -0.02703479  0.04536853 -0.01267485  0.0722824\n",
      " -0.02336493  0.05157793 -0.07530911  0.06598356  0.05140634  0.03573711\n",
      "  0.02813109  0.00063777 -0.024825   -0.04791898 -0.06190658 -0.00159578\n",
      " -0.04599847  0.04110792 -0.00376672 -0.06395438 -0.0239475   0.02517015\n",
      " -0.00626886 -0.01800822 -0.04452567  0.04989254 -0.07263269  0.06059903\n",
      "  0.06289179  0.02102419 -0.02365266  0.0139952   0.04586853  0.01212385\n",
      "  0.02162703 -0.02126582 -0.01509528  0.06369453 -0.06109245 -0.00336399\n",
      "  0.04047025 -0.09037592 -0.06043344  0.04846917 -0.03580805 -0.05669944\n",
      " -0.01231694  0.07185979 -0.05890916 -0.04577024  0.0699722  -0.02524885\n",
      "  0.04310136 -0.07862779 -0.01969791  0.03368427  0.0132833  -0.05654054\n",
      " -0.07351217 -0.01232592 -0.05045603 -0.01486488 -0.02899844 -0.07770786\n",
      " -0.04333346 -0.07881355 -0.02538283  0.01280115  0.0578699  -0.06369648\n",
      " -0.01315585 -0.05203977  0.04605626 -0.07718522  0.05820547 -0.00482237\n",
      " -0.0443073   0.03010653  0.01688119  0.04371991  0.03809877 -0.05443693\n",
      " -0.07749395 -0.08144069 -0.0404974   0.00725884  0.03861056  0.04082051\n",
      " -0.08463953  0.05963927  0.03403851 -0.07351578  0.02602854  0.05121958\n",
      "  0.04122541  0.00259781 -0.05265699  0.02517538 -0.08201435 -0.06573051\n",
      " -0.020467   -0.0108123   0.03980482 -0.04436027 -0.02040577 -0.0417917\n",
      "  0.03732223  0.03901961 -0.0313599  -0.07115275  0.0732059   0.04817853\n",
      "  0.0785249   0.04732541 -0.00530343  0.00503219  0.00192926  0.05525633\n",
      " -0.0417351  -0.02739543 -0.03320969 -0.05920886  0.0702384  -0.02562314\n",
      "  0.00208062  0.04235772 -0.01620051  0.04458647 -0.01504467  0.07739722\n",
      "  0.03038316 -0.04816848  0.00024017  0.01001825 -0.04119221  0.00354257\n",
      " -0.00635982 -0.02392128  0.0252978   0.07297573  0.05982514  0.08028084\n",
      " -0.047043   -0.03482572  0.05815486  0.06867584 -0.05835036  0.02469428\n",
      " -0.01918215 -0.04174327 -0.06747568 -0.02723919  0.01064725 -0.04442599\n",
      "  0.08573413  0.06860179 -0.04526505 -0.0048175   0.04156052 -0.05303622\n",
      "  0.03582445 -0.05061009 -0.08970023  0.04890715 -0.10098999  0.01679464\n",
      " -0.04986115  0.00343484 -0.00665141 -0.07727195  0.01799218  0.09366164\n",
      " -0.03759719  0.07897898 -0.01497817 -0.0384331   0.05896989 -0.0934513\n",
      " -0.02999617  0.01278627  0.03915227 -0.11591236  0.00680214  0.06280003\n",
      " -0.02572574 -0.00414362 -0.07418471 -0.02089226  0.06110023  0.07246388\n",
      " -0.04256669 -0.05010057  0.03806561  0.03618344  0.09670274 -0.00406935\n",
      " -0.02896022 -0.02317382  0.02408551  0.00028121  0.03151723  0.03980197\n",
      " -0.01036453 -0.01501847  0.01152836 -0.09126645 -0.06443733  0.07655711\n",
      " -0.06131799 -0.02672447  0.07086147  0.05298835  0.05762158  0.08259753]\n",
      "Embedding size: (384,)\n"
     ]
    }
   ],
   "execution_count": 29
  },
  {
   "cell_type": "code",
   "source": [
    "%%time\n",
    "\n",
    "# Uncomment to see how long it takes to create embeddings on CPU\n",
    "# # Make sure the model is on the CPU\n",
    "# embedding_model.to(\"cpu\")\n",
    "\n",
    "# # Embed each chunk one by one\n",
    "# for item in tqdm(pages_and_chunks_over_min_token_len):\n",
    "#     item[\"embedding\"] = embedding_model.encode(item[\"sentence_chunk\"])"
   ],
   "metadata": {
    "id": "oLNiLKYRDTuF",
    "ExecuteTime": {
     "end_time": "2025-07-07T15:07:42.753139Z",
     "start_time": "2025-07-07T15:07:42.749012Z"
    }
   },
   "outputs": [
    {
     "name": "stdout",
     "output_type": "stream",
     "text": [
      "CPU times: total: 0 ns\n",
      "Wall time: 0 ns\n"
     ]
    }
   ],
   "execution_count": 22
  },
  {
   "metadata": {
    "ExecuteTime": {
     "end_time": "2025-07-07T14:55:08.002141Z",
     "start_time": "2025-07-07T14:55:06.780573Z"
    }
   },
   "cell_type": "code",
   "source": [
    "# !pip install torch torchvision torchaudio --index-url https://download.pytorch.org/whl/cu118\n",
    "# Necesitas tener unstalado PyTorch con soporte para CUDA para usar la GPU."
   ],
   "outputs": [
    {
     "name": "stdout",
     "output_type": "stream",
     "text": [
      "Looking in indexes: https://download.pytorch.org/whl/cu118\n",
      "Requirement already satisfied: torch in c:\\project\\javeriana\\repos\\cev-rag\\.venv\\lib\\site-packages (2.7.1+cu118)\n",
      "Requirement already satisfied: torchvision in c:\\project\\javeriana\\repos\\cev-rag\\.venv\\lib\\site-packages (0.22.1+cu118)\n",
      "Requirement already satisfied: torchaudio in c:\\project\\javeriana\\repos\\cev-rag\\.venv\\lib\\site-packages (2.7.1+cu118)\n",
      "Requirement already satisfied: filelock in c:\\project\\javeriana\\repos\\cev-rag\\.venv\\lib\\site-packages (from torch) (3.18.0)\n",
      "Requirement already satisfied: typing-extensions>=4.10.0 in c:\\project\\javeriana\\repos\\cev-rag\\.venv\\lib\\site-packages (from torch) (4.14.1)\n",
      "Requirement already satisfied: sympy>=1.13.3 in c:\\project\\javeriana\\repos\\cev-rag\\.venv\\lib\\site-packages (from torch) (1.14.0)\n",
      "Requirement already satisfied: networkx in c:\\project\\javeriana\\repos\\cev-rag\\.venv\\lib\\site-packages (from torch) (3.5)\n",
      "Requirement already satisfied: jinja2 in c:\\project\\javeriana\\repos\\cev-rag\\.venv\\lib\\site-packages (from torch) (3.1.6)\n",
      "Requirement already satisfied: fsspec in c:\\project\\javeriana\\repos\\cev-rag\\.venv\\lib\\site-packages (from torch) (2025.5.1)\n",
      "Requirement already satisfied: setuptools in c:\\project\\javeriana\\repos\\cev-rag\\.venv\\lib\\site-packages (from torch) (80.9.0)\n",
      "Requirement already satisfied: numpy in c:\\project\\javeriana\\repos\\cev-rag\\.venv\\lib\\site-packages (from torchvision) (2.3.1)\n",
      "Requirement already satisfied: pillow!=8.3.*,>=5.3.0 in c:\\project\\javeriana\\repos\\cev-rag\\.venv\\lib\\site-packages (from torchvision) (11.3.0)\n",
      "Requirement already satisfied: mpmath<1.4,>=1.1.0 in c:\\project\\javeriana\\repos\\cev-rag\\.venv\\lib\\site-packages (from sympy>=1.13.3->torch) (1.3.0)\n",
      "Requirement already satisfied: MarkupSafe>=2.0 in c:\\project\\javeriana\\repos\\cev-rag\\.venv\\lib\\site-packages (from jinja2->torch) (3.0.2)\n"
     ]
    },
    {
     "name": "stderr",
     "output_type": "stream",
     "text": [
      "\n",
      "[notice] A new release of pip is available: 25.0.1 -> 25.1.1\n",
      "[notice] To update, run: python.exe -m pip install --upgrade pip\n"
     ]
    }
   ],
   "execution_count": 48
  },
  {
   "metadata": {
    "ExecuteTime": {
     "end_time": "2025-07-07T15:20:46.313523Z",
     "start_time": "2025-07-07T15:20:46.306722Z"
    }
   },
   "cell_type": "code",
   "source": "embedding_model.to(\"cuda\")",
   "outputs": [
    {
     "data": {
      "text/plain": [
       "SentenceTransformer(\n",
       "  (0): Transformer({'max_seq_length': 512, 'do_lower_case': False, 'architecture': 'BertModel'})\n",
       "  (1): Pooling({'word_embedding_dimension': 384, 'pooling_mode_cls_token': False, 'pooling_mode_mean_tokens': True, 'pooling_mode_max_tokens': False, 'pooling_mode_mean_sqrt_len_tokens': False, 'pooling_mode_weightedmean_tokens': False, 'pooling_mode_lasttoken': False, 'include_prompt': True})\n",
       "  (2): Normalize()\n",
       ")"
      ]
     },
     "execution_count": 30,
     "metadata": {},
     "output_type": "execute_result"
    }
   ],
   "execution_count": 30
  },
  {
   "metadata": {
    "ExecuteTime": {
     "end_time": "2025-07-07T15:20:52.820191Z",
     "start_time": "2025-07-07T15:20:52.817142Z"
    }
   },
   "cell_type": "code",
   "source": [
    "import torch\n",
    "print(torch.cuda.is_available())  # Debe imprimir: True\n",
    "print(torch.cuda.get_device_name(0))  # Verifica el nombre de tu GPU\n"
   ],
   "outputs": [
    {
     "name": "stdout",
     "output_type": "stream",
     "text": [
      "True\n",
      "NVIDIA GeForce RTX 4070 Laptop GPU\n"
     ]
    }
   ],
   "execution_count": 31
  },
  {
   "metadata": {
    "ExecuteTime": {
     "end_time": "2025-07-07T15:24:50.649018Z",
     "start_time": "2025-07-07T15:21:01.256672Z"
    }
   },
   "cell_type": "code",
   "source": [
    "%%time\n",
    "import torch\n",
    "\n",
    "# Check if CUDA is available and use it, otherwise fallback to CPU\n",
    "device = \"cuda\" if torch.cuda.is_available() else \"cpu\"\n",
    "print(f\"Using device: {device}\")\n",
    "\n",
    "# Send the model to the appropriate device\n",
    "embedding_model.to(device)\n",
    "\n",
    "# Create embeddings one by one\n",
    "for item in tqdm(pages_and_chunks_over_min_token_len):\n",
    "    item[\"embedding\"] = embedding_model.encode(item[\"sentence_chunk\"])\n"
   ],
   "outputs": [
    {
     "name": "stdout",
     "output_type": "stream",
     "text": [
      "Using device: cuda\n"
     ]
    },
    {
     "name": "stderr",
     "output_type": "stream",
     "text": [
      "100%|██████████| 22963/22963 [03:49<00:00, 100.11it/s]"
     ]
    },
    {
     "name": "stdout",
     "output_type": "stream",
     "text": [
      "CPU times: total: 3min 46s\n",
      "Wall time: 3min 49s\n"
     ]
    },
    {
     "name": "stderr",
     "output_type": "stream",
     "text": [
      "\n"
     ]
    }
   ],
   "execution_count": 32
  },
  {
   "cell_type": "code",
   "source": [
    "# Turn text chunks into a single list\n",
    "text_chunks = [item[\"sentence_chunk\"] for item in pages_and_chunks_over_min_token_len]"
   ],
   "metadata": {
    "id": "6rVaqfXQGRad",
    "ExecuteTime": {
     "end_time": "2025-07-07T15:25:14.792313Z",
     "start_time": "2025-07-07T15:25:14.786399Z"
    }
   },
   "outputs": [],
   "execution_count": 34
  },
  {
   "cell_type": "code",
   "source": [
    "%%time\n",
    "\n",
    "# Embed all texts in batches\n",
    "text_chunk_embeddings = embedding_model.encode(text_chunks,\n",
    "                                               batch_size=32, # you can use different batch sizes here for speed/performance, I found 32 works well for this use case\n",
    "                                               convert_to_tensor=True) # optional to return embeddings as tensor instead of array\n",
    "\n",
    "text_chunk_embeddings"
   ],
   "metadata": {
    "id": "YVRF6lwmGUQk",
    "ExecuteTime": {
     "end_time": "2025-07-07T15:26:19.835512Z",
     "start_time": "2025-07-07T15:25:17.441614Z"
    }
   },
   "outputs": [
    {
     "name": "stdout",
     "output_type": "stream",
     "text": [
      "CPU times: total: 2min 23s\n",
      "Wall time: 1min 2s\n"
     ]
    },
    {
     "data": {
      "text/plain": [
       "tensor([[ 0.0545, -0.0306, -0.0147,  ...,  0.0473,  0.0409,  0.0622],\n",
       "        [ 0.0572, -0.0235, -0.0038,  ...,  0.0450,  0.0419,  0.0606],\n",
       "        [-0.0031, -0.0014, -0.0349,  ...,  0.0485,  0.0312,  0.0482],\n",
       "        ...,\n",
       "        [ 0.0544, -0.0493, -0.0556,  ...,  0.0699,  0.0459,  0.0922],\n",
       "        [ 0.0495, -0.0080, -0.0486,  ...,  0.0491,  0.0598,  0.0781],\n",
       "        [ 0.0048, -0.0097, -0.0444,  ...,  0.0391,  0.0249,  0.0569]],\n",
       "       device='cuda:0')"
      ]
     },
     "execution_count": 35,
     "metadata": {},
     "output_type": "execute_result"
    }
   ],
   "execution_count": 35
  },
  {
   "cell_type": "code",
   "source": [
    "# Save embeddings to file\n",
    "text_chunks_and_embeddings_df = pd.DataFrame(pages_and_chunks_over_min_token_len)\n",
    "embeddings_df_save_path = \"text_chunks_and_embeddings_df.csv\"\n",
    "text_chunks_and_embeddings_df.to_csv(embeddings_df_save_path, index=False)"
   ],
   "metadata": {
    "id": "A__fyEtJGn_2",
    "ExecuteTime": {
     "end_time": "2025-07-07T15:26:42.266180Z",
     "start_time": "2025-07-07T15:26:19.897912Z"
    }
   },
   "outputs": [],
   "execution_count": 36
  },
  {
   "cell_type": "code",
   "source": [
    "# Import saved file and view\n",
    "text_chunks_and_embedding_df_load = pd.read_csv(embeddings_df_save_path)\n",
    "text_chunks_and_embedding_df_load.head()"
   ],
   "metadata": {
    "id": "khSWAjtjG2S0",
    "ExecuteTime": {
     "end_time": "2025-07-07T15:26:56.186033Z",
     "start_time": "2025-07-07T15:26:55.213117Z"
    }
   },
   "outputs": [
    {
     "data": {
      "text/plain": [
       "   page_number  \\\n",
       "0            1   \n",
       "1            3   \n",
       "2            4   \n",
       "3            4   \n",
       "4            4   \n",
       "\n",
       "                                                                                                                                                                                                                                                                                                                                                                                                                                                                                                                                                                                                                                                                                                                                                                                                                                                                                                                                                                                                                   sentence_chunk  \\\n",
       "0                                                                                                                                                                                                                                                                                                                                                                                                                                                                                                                                                                                                                                                                                                                                                                          CONVOCATORIA A LA PAZ GRANDE Declaración de la Comisión para el Esclarecimiento de la Verdad, la Convivencia y la No Repetición HAY FUTURO si hay verdad INFORME FINAL Comisión para el Esclarecimieto de la Verdad, la Convivencia y la No Repetición   \n",
       "1                                                                                                                                                                                                                                                                                                                                                                                                                                                                                                                                                                                                                                                                                                                                                                                                                                                          CONVOCATORIA A LA PAZ GRANDE DECLARACIÓN DE LA COMISIÓN PARA EL ESCLARECIMIENTO DE LA VERDAD, LA CONVIVENCIA Y LA NO REPETICIÓN HAY FUTURO si hay verdad INFORME FINAL   \n",
       "2  Colombia. Comisión de la Verdad, autor Hay futuro si hay verdad : Informe Final de la Comisión para el Esclarecimiento de la Verdad, la Convivencia y la No Repetición. --Primera edición. --Bogotá : Comisión de la Verdad, 2022.11 tomos en 24 volúmenes : ilustraciones, diagramas, fotografías y mapas a color. Incluye referencias bibliográficas ISBN 78-958-53874-3-0 (Obra completa impreso) ISBN 978-958-53874-4-7 (T omo 1 impreso) ISBN 978-628-7590-18-2 (Obra completa digital) ISBN 978-628-7590-19-9 (T omo 1 digital) T omo 1. Convocatoria a la paz grande: declaración de la Comisión para el Esclarecimiento de la Verdad, la Convivencia y la No Repetición -- T omo 2. Hallazgos y recomendaciones de la Comisión de la Verdad de Colombia -- T omo 3. No matarás: relato histórico del conflicto armado interno en Colombia -- T omo 4. Hasta la guerra tiene límites: violaciones de los derechos humanos, infracciones al derecho internacional humanitario y responsabilidades colectivas -- T omo 5.   \n",
       "3                                                                                                                                                                                                                                                                                                                                    Sufrir la guerra y rehacer la vida: impactos, afrontamientos y resistencias -- T omo 6. Cuando los pájaros no cantaban: historias del conflicto armado en Colombia, tomo testimonial -- T omo 7. Mi cuerpo es la verdad: experiencias de mujeres y personas LGBTIQ+ en el conflicto armado -- T omo 8. No es un mal menor: niñas, niños y adolescentes en el conflicto armado -- T omo 9. Resistir no es aguantar: violencias y daños contra los pueblos étnicos de Colombia -- T omo 10. La Colombia fuera de Colombia: las verdades del exilio -- T omo 11. Colombia adentro: relatos territoriales sobre el conflicto armado -- T omo 11.vol. 1. Ensayo introductorio -- T omo 11.vol. 2.   \n",
       "4                                                                                                                                                                                                                                                                                                                                                                                                                                                                                                                                                                                                                                                                                                                                                                                             Amazonía -- T omo 11.vol. 3. Antioquia, sur de Córdoba y Bajo Atrato chocoano -- T omo 11.vol. 4. Caribe -- T omo 11.vol. 5. Eje Cafetero -- T omo 11.vol. 6. Frontera nororiental -- T omo 11 vol. 7. Magdalena Medio -- T omo 11.   \n",
       "\n",
       "   chunk_char_count  chunk_word_count  chunk_token_count  \\\n",
       "0               246                41              61.50   \n",
       "1               166                28              41.50   \n",
       "2               990               154             247.50   \n",
       "3               668               118             167.00   \n",
       "4               227                46              56.75   \n",
       "\n",
       "                                                                                                                                                                                                                                                                                                                                                                                                                                                                                                                                                                                                                                                                                                                                                                                                                                                                                                                                                                                                                                                                                                                                                                                                                                                                                                                                                                                                                                                                                                                                                                                                                                                                                                                                                                                                                                                                                                                                                                                                                                                                                                                                                                                                                                                                                                                                                                                                                                                                                                                                                                                                                                                                                                                                                                                                                                                                                                                                                                                                                                                                                                                                                                                                                                                                                                                                                                                                                                                                                                                                                                                                                                                                                                                                                                                                                                                                                                                                                                                                                                                                                                                                                                                                                                                                                                                                                                                                                                                                                                                                                                                                                                                                                                                                                                                                                                                                                                                                                                                                                                                                                                                                                                                                                                                                                                                                                                                                                                                                                                                                                                                                                                                                                                                                                                                                                                                                                                                                                                                                                                                                                                                                                                                                                                                                                                                                                                                                                                                                                                                                                                                         embedding  \n",
       "0  [ 5.45445830e-02 -3.05698626e-02 -1.47332065e-02 -8.76460299e-02\\n  5.14577776e-02 -3.69293727e-02  6.29916489e-02  1.90981440e-02\\n  5.02568260e-02 -9.25450772e-03  5.01125790e-02  3.06189153e-02\\n  9.55730751e-02 -5.13730161e-02 -7.16407970e-02  3.92933041e-02\\n  5.75271621e-02 -5.13946265e-02 -4.19153199e-02 -5.21836951e-02\\n -2.38637836e-03 -1.43839819e-02 -5.88041283e-02  4.75510210e-02\\n  7.12912455e-02  5.15542217e-02 -1.04561383e-02  2.75732074e-02\\n  8.09945017e-02 -6.38215095e-02 -5.24784848e-02 -4.36107777e-02\\n  2.35532075e-02 -7.21463189e-02  5.49632087e-02  4.51139510e-02\\n -1.10084666e-02 -8.07763729e-03  6.69876710e-02 -7.08252713e-02\\n -5.60910404e-02  4.83264551e-02  1.66522469e-02  8.21114108e-02\\n  9.98474509e-02  9.95736495e-02 -5.60776629e-02  9.01174322e-02\\n  5.66136977e-03 -7.94472732e-03 -5.30328490e-02  3.92442197e-02\\n  9.36623476e-03  4.92326058e-02  5.39242849e-03 -7.63363168e-02\\n -4.30026464e-02 -5.05377464e-02 -1.81750432e-02  6.83801994e-02\\n  3.19287330e-02  2.74546929e-02 -1.70384962e-02  3.42210941e-02\\n  7.47781545e-02  3.66027914e-02  1.17146131e-02  3.34655605e-02\\n -2.77754422e-02 -3.22086550e-02 -5.53734414e-02  6.24219961e-02\\n -1.40580414e-02 -2.34924089e-02  8.09977390e-03  4.46227863e-02\\n -3.23499949e-03 -5.84510043e-02  6.57979101e-02 -3.77123132e-02\\n -5.32850996e-02 -5.92261478e-02 -5.91939911e-02  4.85597290e-02\\n -4.15665796e-03  5.89893125e-02  5.00637554e-02 -6.54141903e-02\\n  6.83691353e-02 -2.21633054e-02  3.13288867e-02  4.31989394e-02\\n -4.53857966e-02 -7.13768527e-02 -4.66885082e-02 -6.36169836e-02\\n -4.55872528e-02  4.16023508e-02  8.44624862e-02 -3.65205109e-02\\n  7.03483671e-02 -8.70741382e-02  3.52358110e-02 -8.03804696e-02\\n -3.34321670e-02  4.58607301e-02 -2.83011328e-02 -4.86975424e-02\\n  7.36394525e-02 -3.33867855e-02 -9.04288143e-03  1.40629513e-02\\n  2.95280647e-02  4.70961817e-02 -3.99408117e-02 -4.56363074e-02\\n  1.33083221e-02 -9.57445055e-02  5.48175350e-02 -5.13536781e-02\\n  9.91437361e-02  1.98491253e-02 -3.25629041e-02 -5.09984642e-02\\n -4.97739241e-02 -3.56711596e-02  4.56854329e-02  5.10170124e-02\\n  3.11009437e-02  5.76886199e-02  6.20845594e-02  3.95367555e-02\\n  4.20465544e-02  4.56366837e-02  7.27967918e-02  1.15385294e-01\\n -8.06464106e-02  3.90237616e-03  2.47128145e-03 -5.36177270e-02\\n -6.23992085e-02  4.04944606e-02 -2.90363114e-02  3.23215835e-02\\n  1.04161175e-02  4.13000733e-02  6.57731220e-02  7.39559619e-05\\n  6.37444556e-02 -7.80886635e-02  3.76830287e-02 -4.88078259e-02\\n  4.59930487e-03  5.10010794e-02  4.05216403e-02 -2.94937789e-02\\n -3.20490077e-02 -3.28451395e-02  5.01379184e-02  5.66303395e-02\\n -5.49226403e-02 -5.05921319e-02 -8.03446621e-02 -4.45140153e-02\\n -5.83925918e-02 -5.60435094e-02  1.68530699e-02  5.18535487e-02\\n -8.40380117e-02 -5.89082129e-02 -4.91107032e-02  6.84547871e-02\\n -5.55489846e-02  6.24989010e-02 -2.97237895e-02  5.28948642e-02\\n -6.37827292e-02  2.60174796e-02  5.32201380e-02  5.13053685e-02\\n -1.47872511e-02 -2.39835512e-02 -2.11932641e-02 -4.36030962e-02\\n -8.02175999e-02 -1.83253158e-02 -1.26660252e-02 -1.48140965e-02\\n  3.34599242e-03 -4.89570387e-02 -2.83808988e-02  1.39406938e-02\\n -5.74470237e-02 -4.79103960e-02 -8.96130428e-02  5.81928492e-02\\n -2.22277101e-02  6.92197010e-02  2.23727562e-02  4.39705253e-02\\n -2.45469064e-02  2.30660429e-03  5.80548421e-02  2.13545635e-02\\n  5.30553758e-02 -6.47722464e-03 -4.78857243e-03  5.08708553e-03\\n -6.40750304e-02  1.57665666e-02  1.60207208e-02 -4.44827750e-02\\n -7.03931972e-02  7.67738819e-02 -4.97622639e-02 -2.74016615e-02\\n -4.18386748e-03  3.92452925e-02 -5.53332679e-02  1.54743921e-02\\n  4.82950769e-02  6.96235895e-03  1.97236557e-02 -6.09940328e-02\\n -1.21922456e-02  5.91302589e-02  2.12728474e-02 -2.52794325e-02\\n -9.64250490e-02 -7.32127763e-03 -5.29533140e-02 -4.57597859e-02\\n -2.33447980e-02 -9.56332684e-02 -4.59512919e-02 -1.09845243e-01\\n  1.46036046e-02  3.34165506e-02  7.05057308e-02 -6.31969720e-02\\n -1.98336113e-02 -3.63636911e-02  6.96531758e-02 -5.49646355e-02\\n  7.48285055e-02 -1.75713133e-02 -5.14783375e-02  5.63448593e-02\\n -2.42642015e-02  4.95672412e-02  3.22461277e-02 -6.26171231e-02\\n -6.15352653e-02 -9.34853330e-02 -4.07447517e-02  5.64642772e-02\\n  1.35315843e-02  5.98498359e-02 -8.40005353e-02  5.37436642e-02\\n  2.11833324e-02 -3.60316634e-02  8.27059969e-02  4.19058502e-02\\n  2.82983296e-02  2.84569710e-02 -5.28651699e-02  3.15359496e-02\\n -4.32587154e-02 -4.85336110e-02 -5.02062961e-02  9.64326391e-05\\n  5.51353246e-02 -5.17120063e-02 -7.05724955e-02 -2.61670724e-02\\n  1.37184924e-02  6.70552552e-02 -6.15031272e-02 -3.04108337e-02\\n  9.23192427e-02 -2.55236495e-02  7.38611892e-02  3.68049368e-02\\n  4.77637760e-02 -4.84030321e-03 -2.27163527e-02  4.93142642e-02\\n -2.94679534e-02  4.65525407e-03 -2.57288869e-02 -6.47954568e-02\\n  4.89654317e-02 -4.14539389e-02  2.03261077e-02  5.06905019e-02\\n -1.48645034e-02  6.32282048e-02 -2.15417128e-02  4.19059880e-02\\n -6.45451481e-03 -5.25530800e-02  2.48752031e-02  7.15227425e-02\\n -9.74714682e-02 -2.14863606e-02  2.84180418e-03  2.59998953e-03\\n  4.28857729e-02  8.93326849e-02  5.27258404e-02  5.72606772e-02\\n -5.68660721e-02 -1.58672798e-02  3.82663235e-02  5.00735939e-02\\n -2.02001445e-02  7.87708983e-02 -7.44479448e-02 -5.52901849e-02\\n -1.14854977e-01 -3.90026160e-02 -2.03174055e-02 -4.27849777e-02\\n  7.74032325e-02  5.78504391e-02 -3.17929089e-02 -3.26044187e-02\\n  4.48632464e-02 -2.30669454e-02  7.09725022e-02 -3.21668014e-02\\n -7.27556348e-02  4.20933515e-02 -6.56699911e-02  5.40946261e-04\\n -2.51712240e-02  3.30647603e-02 -4.06925827e-02 -5.61308973e-02\\n  5.58260381e-02  8.06344301e-02 -2.67244279e-02  8.38499516e-02\\n -4.64256853e-02 -3.79251391e-02  2.97873802e-02 -3.59326899e-02\\n -3.96547951e-02  2.41825990e-02  5.52803539e-02 -1.37369975e-01\\n  6.63651619e-03  6.83719218e-02 -7.70496354e-02  5.00141345e-02\\n -5.54965585e-02 -2.52604783e-02  5.95553555e-02  2.90437285e-02\\n -6.96940795e-02 -2.84200087e-02  6.35549277e-02  5.41007146e-02\\n  7.95948654e-02 -7.68931769e-03 -8.46070796e-03 -2.49679219e-02\\n  4.50927541e-02 -3.11491229e-02  3.15604024e-02  6.73319250e-02\\n -4.85381261e-02  1.09715841e-03 -1.39204701e-02 -6.32500723e-02\\n -7.25290403e-02  6.46375045e-02 -6.96364567e-02 -6.07160777e-02\\n  5.07068336e-02  4.72890884e-02  4.09366004e-02  6.22273907e-02]  \n",
       "1                                                                                                                                                                                                                                                                                                                                                                                                                                                                                                                                                                                                                                                                                                                                                                                                                                                                                                                                                                                                                                                                                                                                                                                                                                                                                                                                                                                                                                                                                                                                                                                                                                                                         [ 0.05722642 -0.02348239 -0.00379216 -0.08383928  0.04167465 -0.02343217\\n  0.06779027  0.02007096  0.04476066  0.00512364  0.0541854   0.03528871\\n  0.09124656 -0.06376433 -0.07725991  0.04055487  0.05268047 -0.05263355\\n -0.04359716 -0.05806509 -0.01503354 -0.00897129 -0.05729976  0.04774727\\n  0.07305452  0.06733178 -0.01753112  0.0175347   0.08232471 -0.06017032\\n -0.04756224 -0.05270529  0.02559695 -0.0656747   0.05832184  0.0401049\\n -0.01359195 -0.01090067  0.05831478 -0.07104331 -0.07226815  0.04824624\\n  0.01301463  0.08234797  0.09528693  0.09629964 -0.0705405   0.09215511\\n  0.01215349  0.00579001 -0.05148226  0.0332392   0.02290021  0.04931461\\n  0.01040563 -0.07624569 -0.03703625 -0.04792013 -0.02373423  0.06832269\\n  0.04034891  0.03958405 -0.00250533  0.03990287  0.07125162  0.03575627\\n  0.01600623  0.04163025 -0.03450909 -0.03160069 -0.05199289  0.07115954\\n -0.0184343  -0.02079045 -0.00095989  0.03547022 -0.00708181 -0.04258776\\n  0.06085002 -0.02820026 -0.06159686 -0.06424065 -0.05238286  0.05067859\\n -0.00480119  0.06562432  0.04932638 -0.06782414  0.07874397 -0.014806\\n  0.04746247  0.0390923  -0.04236174 -0.0681073  -0.03264464 -0.05811317\\n -0.04765419  0.04730307  0.06602591 -0.03450665  0.06410438 -0.07111907\\n  0.03930067 -0.07918541 -0.03656726  0.05060895 -0.02407484 -0.04293543\\n  0.07033177 -0.04170067 -0.00246012  0.00815961  0.02918316  0.04246126\\n -0.03547395 -0.0565491  -0.01119457 -0.08324098  0.0452035  -0.03812009\\n  0.10519867 -0.00611565 -0.03293131 -0.05205025 -0.04794686 -0.04018068\\n  0.05046054  0.03761309  0.04111324  0.04438723  0.060455    0.0284584\\n  0.0377452   0.05010235  0.08335302  0.11258584 -0.08242024 -0.01153341\\n -0.00733927 -0.06358553 -0.06525099  0.04187287 -0.02300404  0.02492943\\n  0.01750184  0.03480454  0.0763545   0.00370939  0.06746611 -0.07521865\\n  0.04309712 -0.05370856  0.01555238  0.0342514   0.05168809 -0.0296862\\n -0.04385054 -0.03829298  0.04039124  0.06100274 -0.05076781 -0.03322929\\n -0.07661912 -0.04730954 -0.05298491 -0.06641437  0.02068071  0.05790684\\n -0.07326467 -0.06098133 -0.04328089  0.07753545 -0.06129963  0.06001898\\n -0.02506239  0.04565453 -0.0555429   0.03153323  0.04278451  0.05240398\\n -0.01123604 -0.01417732 -0.03102245 -0.04692358 -0.07254981 -0.01518276\\n -0.00949694 -0.00380816  0.00238012 -0.05434329 -0.02471983  0.01594324\\n -0.06416322 -0.04358419 -0.07197542  0.06978954 -0.04217852  0.0770717\\n  0.01405354  0.03101747 -0.03395274  0.00985462  0.06634127  0.02220335\\n  0.04928431 -0.00357232  0.0025568   0.01335807 -0.07191154  0.02253744\\n  0.00998173 -0.04929591 -0.06562618  0.07700442 -0.06122474 -0.03631105\\n -0.00590471  0.0530224  -0.06132172  0.02196345  0.04537568  0.01471413\\n  0.02553733 -0.05584333 -0.00631413  0.04772521  0.010307   -0.03228429\\n -0.10151589  0.00943659 -0.04743472 -0.0507579  -0.00868806 -0.09308107\\n -0.05345518 -0.11360844  0.01682348  0.03469766  0.07332079 -0.05285348\\n -0.02300405 -0.0351548   0.07408212 -0.06818938  0.06722608 -0.01238844\\n -0.04579309  0.05938577 -0.01548063  0.04611874  0.03930607 -0.06396932\\n -0.06534403 -0.1024373  -0.03638534  0.04475024  0.02222651  0.06016567\\n -0.07730622  0.05787412  0.01643999 -0.04246147  0.07580112  0.05047113\\n  0.02419407  0.05124813 -0.05760881  0.02120751 -0.05969277 -0.06241361\\n -0.05636715  0.00490705  0.04860714 -0.04650271 -0.07461432 -0.02339328\\n  0.01017123  0.0697179  -0.06967307 -0.03859827  0.08234312 -0.03054914\\n  0.07564518  0.03134831  0.03116755 -0.00975648 -0.02525811  0.05557507\\n -0.03772256  0.00294735 -0.01829796 -0.05311011  0.04894967 -0.04140337\\n  0.02030212  0.06373153 -0.00274445  0.04642742 -0.02543424  0.04872277\\n -0.01351125 -0.05376086  0.0255249   0.06453333 -0.10232281 -0.02342825\\n -0.00022338  0.00789363  0.03187974  0.09379836  0.04445585  0.05719422\\n -0.07041916 -0.0089403   0.0339959   0.04293249 -0.01711567  0.06400108\\n -0.05254959 -0.0592946  -0.107912   -0.04208043 -0.02530152 -0.0548344\\n  0.08903773  0.049705   -0.02637268 -0.03592599  0.04221079 -0.02475036\\n  0.05955513 -0.02156448 -0.08173189  0.04507095 -0.06846955  0.00397328\\n -0.01730189  0.03041888 -0.02705505 -0.05119061  0.05629057  0.07693018\\n -0.02064717  0.08549511 -0.03953391 -0.03511946  0.02857918 -0.04585991\\n -0.03717159  0.02712952  0.05654721 -0.13485816  0.01909927  0.07304601\\n -0.08176943  0.05741869 -0.04487695 -0.01521232  0.06182924  0.03427604\\n -0.06770518 -0.03815939  0.05320345  0.05093105  0.07740461 -0.00533896\\n -0.00481008 -0.0280441   0.04838447 -0.02785167  0.02817059  0.05638093\\n -0.05597648 -0.01114887 -0.01414656 -0.06774037 -0.0881659   0.05793955\\n -0.06632432 -0.05599692  0.06063292  0.04501481  0.04191079  0.06061617]  \n",
       "2                                                                                                                                                                                                                                                                                                                                                                                                                                                                                                                                                                                                                                                                                                                                                                                                                                                                                                                                                                                                                                                                                                                                                                                                                                                                                                                                                                                                                                                                                                                                                                                                                                                                          [-0.00306266 -0.00142874 -0.03494273 -0.08379728  0.04442536 -0.03479797\\n  0.06490885  0.03924652  0.0498319  -0.0004254   0.01789415  0.03778847\\n  0.0395234  -0.02724014 -0.05216924  0.03443564  0.04911456 -0.0400909\\n -0.0369646  -0.00635658  0.00982744  0.00823861 -0.03353712  0.05915103\\n  0.05552579  0.06344363 -0.04204533  0.04830735  0.10518305 -0.02374873\\n -0.04675655 -0.03915523  0.00806646 -0.07935042  0.0751425   0.02086177\\n -0.02307189 -0.03149092  0.06328224 -0.05349987 -0.08356564  0.01318463\\n  0.03376833  0.08240806  0.05793719  0.08381847 -0.02493167  0.04362293\\n -0.00340363 -0.00737266 -0.04858121  0.02749231  0.02781435  0.02000369\\n  0.01998606 -0.08375365 -0.06658598 -0.02826638 -0.04668547  0.02028009\\n  0.03735768 -0.01738561 -0.01257792  0.01762706  0.02684363  0.02067816\\n  0.03383968  0.05072993 -0.03844784 -0.01920847 -0.03041708  0.08605762\\n -0.02194311 -0.02958839  0.00546046  0.04398729 -0.00428314 -0.03086381\\n  0.02516891 -0.08556458 -0.05097705 -0.06559138 -0.03360556  0.03457967\\n -0.04279698  0.11739347  0.07240123 -0.06942865  0.07467292 -0.02655\\n  0.02727919  0.05930616 -0.07549697 -0.10686524 -0.01377212 -0.05934265\\n -0.0391679   0.0176386   0.07452914 -0.03538009  0.05719461 -0.07954735\\n  0.05380959 -0.11162987 -0.01513093  0.03548064  0.00398844 -0.05091209\\n  0.05721138 -0.05306282  0.01633961 -0.01221061  0.04970969  0.0491324\\n -0.02320061 -0.04152092 -0.0163141  -0.1325851   0.07482801 -0.0608074\\n  0.0840188  -0.01436069 -0.03342827 -0.036688   -0.0751544  -0.04472372\\n  0.06950254  0.03132603  0.01875279  0.05679949  0.06477097  0.05093056\\n  0.05403541  0.09740017  0.08159278  0.07684173 -0.04499495 -0.00061559\\n  0.01400575 -0.06359762 -0.0545491   0.03004579  0.00170434  0.03415278\\n  0.01225744  0.05184678  0.07444586 -0.05968032  0.04984553 -0.03334983\\n  0.04322245 -0.04003688  0.03978783  0.04463195  0.03143747 -0.01346803\\n -0.03404691 -0.01279612  0.04684311  0.03523766 -0.07616574 -0.09572611\\n -0.05469705 -0.03219449 -0.03189    -0.03024067  0.00539474  0.05633537\\n -0.10047636 -0.06067996 -0.03057223  0.06477263 -0.06481342  0.03449576\\n -0.00628783  0.06321079 -0.04286193  0.06793707  0.07608556  0.04409074\\n -0.04074532 -0.0081521  -0.02200308 -0.04116067 -0.04518559 -0.06690206\\n -0.02794718  0.01522178  0.03312505 -0.06469572 -0.04720753  0.03686854\\n -0.07991817 -0.04102203 -0.06173715  0.07520907 -0.04593233  0.07890109\\n  0.04112621  0.03245609 -0.0229692  -0.01868837  0.0492424   0.03913773\\n  0.05640272 -0.01967113  0.00281888  0.03708363 -0.04560428 -0.00433137\\n  0.01615076 -0.03988297 -0.06455705  0.07166225 -0.02450288 -0.08911229\\n  0.02873649  0.03008353 -0.06458641  0.07106984  0.02708033 -0.00117795\\n  0.05792512 -0.0833119   0.01176033  0.0376551   0.02078264 -0.03805726\\n -0.09957222  0.00162589 -0.05552894 -0.01258753 -0.04221406 -0.06670869\\n -0.06335416 -0.08705986 -0.00891955  0.03190337  0.07131084 -0.05558677\\n -0.0841031  -0.00414037  0.07527286 -0.05774596  0.09214067  0.00335072\\n -0.01971991  0.03624244 -0.03825441  0.01940338  0.05270058 -0.08680965\\n -0.05372362 -0.04215908 -0.07524443  0.04210395  0.00437243  0.0711337\\n -0.05980914  0.05420918  0.05520124 -0.02525692  0.08001484  0.04026093\\n  0.02150498  0.02275294 -0.03589101 -0.02342432 -0.06118579 -0.07648372\\n -0.0234637   0.00331421  0.04561003 -0.03722708 -0.01180219 -0.05742741\\n  0.01903298  0.06663934 -0.04908602 -0.03410248  0.08667024  0.02132649\\n  0.0680981   0.04150684  0.06654153 -0.01044827 -0.01826754  0.06917328\\n -0.0365651  -0.01376161 -0.0289319  -0.06439707  0.05332508 -0.06948128\\n  0.03807743  0.06478409 -0.01798666  0.04047053 -0.03481824  0.03293995\\n -0.05485318 -0.05113713  0.00462792  0.07668877 -0.06675066  0.01441802\\n  0.03261536 -0.02049849  0.03292348  0.03061504  0.0559996   0.03401861\\n -0.06803945 -0.00508746  0.05791351  0.04221614 -0.01447879  0.08564187\\n -0.03190296 -0.0512034  -0.12260831 -0.01635403 -0.03503089 -0.07838102\\n  0.08664108  0.07315782 -0.05332213 -0.00705406  0.05499412  0.00530517\\n  0.07628949 -0.06605338 -0.07172701  0.0653332  -0.06666693 -0.03440031\\n -0.04223729  0.04425595 -0.04122592 -0.02384809  0.06786403  0.06014617\\n -0.04052535  0.05606641 -0.04019711 -0.0711043   0.04809655 -0.07438131\\n -0.04734708  0.05303269  0.01870582 -0.07993612  0.00600093  0.03349956\\n -0.05939157  0.03464335 -0.04483221 -0.03774246  0.06019646  0.01201889\\n -0.05476164 -0.04831474  0.08841804  0.04471791  0.05824682  0.01153706\\n -0.01188011 -0.00755106  0.03069746 -0.02732122 -0.02041837  0.0579965\\n -0.02819509  0.04796007  0.01067161 -0.09745135 -0.06327409  0.08434723\\n -0.05852856 -0.02650063  0.05968699  0.0484779   0.03120318  0.04824771]  \n",
       "3  [ 2.74554696e-02 -1.48987845e-02 -3.27237844e-02 -6.74961805e-02\\n  4.37336974e-02 -4.66919504e-02  5.08215763e-02  3.06583010e-02\\n  4.75660414e-02  1.31810422e-03  2.52792779e-02  3.03637870e-02\\n  4.82488126e-02  7.22285360e-03 -4.27992158e-02  5.17467149e-02\\n  5.54383695e-02 -6.87257499e-02 -3.86134088e-02 -1.65109299e-02\\n  1.47068808e-02 -1.57368556e-02 -3.27705145e-02  7.07696751e-02\\n  4.31685001e-02  3.23112756e-02 -2.05712672e-02  5.92344031e-02\\n  6.47776872e-02 -6.15765937e-02 -5.78751648e-03 -1.50521826e-02\\n  9.65883397e-03 -8.51904079e-02  8.89028460e-02  1.24509782e-02\\n -5.52886650e-02 -4.05533575e-02  5.40871359e-02 -6.81156293e-02\\n -7.00177774e-02 -4.35600057e-03  5.96322417e-02  8.66408646e-02\\n  3.02330032e-02  7.27137029e-02 -8.97631835e-05  9.04016644e-02\\n -4.57447842e-02 -4.14294079e-02 -4.65779789e-02  3.45043540e-02\\n  3.45775895e-02  6.20460622e-02  4.81686294e-02 -8.16803053e-02\\n -6.94669038e-02 -3.38795856e-02 -8.80490839e-02  3.84286270e-02\\n  4.34794985e-02 -7.38806603e-03  1.95340067e-03  3.24630663e-02\\n  6.42773956e-02  3.65679786e-02  4.79812101e-02  5.04243448e-02\\n -3.12095378e-02 -1.45311235e-02 -1.75213311e-02  9.63408947e-02\\n -2.49375738e-02 -2.06544093e-04  1.60064455e-02  4.23320197e-02\\n  8.28582421e-03 -4.81206924e-02  5.16718477e-02 -5.40406555e-02\\n -5.83070777e-02 -6.54039085e-02 -5.23829907e-02  3.72206606e-02\\n -4.09981012e-02  1.02748364e-01  6.02755770e-02 -8.18497837e-02\\n  8.80634487e-02 -4.74527106e-02  4.30278070e-02  3.78306024e-02\\n -7.13657141e-02 -7.20827430e-02 -6.96022511e-02 -5.77824302e-02\\n -5.10532856e-02  5.55546768e-02  7.45531321e-02 -6.91262931e-02\\n  5.92735931e-02 -5.61136268e-02  6.24432266e-02 -8.89061391e-02\\n -6.42489120e-02  7.53163621e-02  1.06351394e-02 -3.29881087e-02\\n  5.82893528e-02 -7.90344477e-02  3.20301671e-03 -8.25663749e-03\\n  2.17300300e-02  2.93221381e-02 -6.77309837e-03 -3.19287144e-02\\n -1.89383999e-02 -6.51161224e-02  8.77050534e-02 -1.03832088e-01\\n  4.81160842e-02 -2.34759096e-02 -6.87200874e-02 -6.11133911e-02\\n -4.90058213e-02 -4.29944098e-02  8.13870728e-02  2.23605409e-02\\n  7.70681677e-03  7.28921369e-02  4.18272801e-02  5.80911711e-02\\n  1.84616502e-02  9.38828513e-02  7.41026029e-02  4.86026034e-02\\n -3.07285115e-02  8.87011737e-03  3.05129588e-02 -7.86301866e-02\\n -4.59661447e-02  2.92131212e-02  2.96722096e-03  1.93477049e-02\\n  4.12307754e-02  2.67526042e-02  9.77537781e-02 -4.25756313e-02\\n  6.54532984e-02 -2.94468924e-02  4.24872153e-02 -3.28667015e-02\\n  6.56861290e-02  4.68098000e-02  5.06989146e-03 -1.64276753e-02\\n -6.60138205e-02 -1.62061043e-02  3.12539861e-02  6.32010177e-02\\n -6.24163970e-02 -6.36781752e-02 -5.09750731e-02 -3.00251879e-02\\n -4.53445427e-02 -7.14087039e-02  3.45482305e-02  4.91816364e-02\\n -5.39977588e-02 -3.78807969e-02 -3.89853418e-02  5.95851578e-02\\n -4.12954427e-02  3.02115455e-02 -2.84053828e-03  6.14114478e-02\\n -2.60439236e-02  9.69914496e-02  8.28995183e-02  1.65093001e-02\\n -4.28945124e-02 -1.67997424e-02 -1.01112286e-02 -2.37866528e-02\\n -6.59067109e-02 -5.33897616e-02 -7.52156153e-02  4.36090864e-02\\n  6.07918650e-02 -5.87954745e-02 -2.76279729e-02  4.26257886e-02\\n -8.11967552e-02 -5.63042127e-02 -2.22978685e-02  4.55115065e-02\\n -8.00255686e-02  6.14965111e-02  4.84548993e-02  3.36814560e-02\\n -2.07937695e-02 -1.27084954e-02  2.75572781e-02  4.24004123e-02\\n  6.21535704e-02 -5.69567038e-03 -3.03828716e-02  2.98827924e-02\\n -3.28681134e-02 -7.68816797e-03  2.84530465e-02 -8.39051306e-02\\n -6.28622174e-02  6.74595535e-02 -4.66460735e-02 -3.61754075e-02\\n -8.75337422e-03  1.29900416e-02 -8.48642662e-02  5.06099164e-02\\n -3.40313721e-03  3.53721553e-03  6.62497729e-02 -1.10200085e-01\\n -4.21262383e-02  5.17415144e-02  1.94540191e-02 -4.71704938e-02\\n -5.91011345e-02  1.38241649e-02 -4.24267873e-02 -2.02153381e-02\\n -2.57367790e-02 -5.80008999e-02 -6.90217912e-02 -8.55504200e-02\\n -1.80763490e-02  1.48098236e-02  3.82059440e-02 -6.26102313e-02\\n -1.01902805e-01 -3.70753258e-02  5.53996973e-02 -7.30177164e-02\\n  8.38946030e-02 -9.48694814e-03 -1.35711972e-02  2.66381502e-02\\n -4.87752557e-02  5.75286001e-02  4.61360477e-02 -5.77292442e-02\\n -6.52835220e-02 -5.26414663e-02 -3.96143049e-02  2.66299751e-02\\n  2.65344214e-02  5.63616343e-02 -6.09044954e-02  5.99001721e-02\\n  5.62501550e-02 -5.16556352e-02  9.37250704e-02  5.34157678e-02\\n  2.02933922e-02  5.44987954e-02 -6.76527843e-02 -2.77391020e-02\\n -5.49000129e-02 -5.08551449e-02 -2.27625798e-02 -6.98806904e-03\\n  2.07186434e-02 -4.42316942e-02  1.75536964e-02 -3.52430642e-02\\n  2.15971246e-02  8.82473439e-02 -3.45714614e-02 -1.65360849e-02\\n  4.73999269e-02 -9.29332431e-03  4.11567837e-02  7.26828054e-02\\n  6.33039698e-02 -1.56193832e-02 -1.32585708e-02  6.43181652e-02\\n -5.46190739e-02 -4.11799327e-02 -1.03835575e-02 -6.00466467e-02\\n  3.13383192e-02 -3.36814262e-02  2.76340991e-02  6.40032515e-02\\n -2.34608334e-02  5.25720865e-02 -3.56324613e-02  4.57978286e-02\\n -5.25692105e-02 -4.11605537e-02  1.12458486e-02  7.73027316e-02\\n -4.33290862e-02  2.13375669e-02  2.91065108e-02 -1.25009203e-02\\n  5.42782731e-02  3.85312513e-02  5.91326989e-02  4.72351126e-02\\n -7.47486949e-02 -5.20782620e-02  8.25083032e-02  9.18600522e-03\\n -1.74871609e-02  4.45327871e-02 -6.52186871e-02 -2.48987768e-02\\n -9.44712907e-02 -1.85491312e-02 -3.11448816e-02 -7.77504519e-02\\n  5.93548082e-02  4.51784879e-02 -5.07767908e-02 -1.70773081e-03\\n  3.75297330e-02  2.74439808e-03  7.11608082e-02 -7.16764927e-02\\n -3.30156982e-02  4.97120619e-02 -6.04487211e-02 -1.77624952e-02\\n -4.70213741e-02  4.82012480e-02 -2.93528996e-02 -6.80262893e-02\\n  6.86995015e-02  6.00082353e-02 -8.40246230e-02  2.39816718e-02\\n -1.83827188e-02 -2.76985168e-02  3.65070775e-02 -5.74543513e-02\\n -3.10076904e-02  5.07538877e-02 -1.01306976e-03 -8.46050903e-02\\n -1.07985176e-02  3.09826545e-02 -5.81132695e-02  2.53536701e-02\\n -3.36443894e-02 -1.77052710e-02  7.22023770e-02  5.94804483e-03\\n -5.38260415e-02 -3.52229998e-02  8.05194974e-02  3.19727287e-02\\n  1.02601200e-01 -5.29983686e-03 -7.27056619e-03 -2.93570179e-02\\n  5.72914779e-02 -2.15675626e-02  2.11416408e-02  6.28425479e-02\\n -6.07133135e-02  5.15039079e-02 -2.15468071e-02 -1.19614489e-01\\n -7.15961829e-02  4.18457501e-02 -6.20013215e-02 -6.92370348e-03\\n  6.70858845e-02  7.98144937e-02  3.53422649e-02  5.30721545e-02]  \n",
       "4                                                                                                                                                                                                                                                                                                                                                                                                                                                                                                                                                                                                                                                                                                                                                                                                                                                                                                                                                                                                                                                                                                                                                                                                                                                                                                                                                                                                                                                                                                                                                                                                                                                                             [ 0.04435137 -0.00612882 -0.06389345 -0.07139049  0.06220633 -0.05654259\\n  0.0289662   0.03640248  0.05852466  0.01240099  0.05475616  0.01956502\\n  0.03643408 -0.00428777 -0.05270023  0.08353875  0.05199188 -0.02627826\\n -0.05541346 -0.04834376  0.0263324  -0.0154305  -0.088261    0.0391211\\n  0.03812011  0.05227423 -0.0207237   0.0508484   0.04425184 -0.08390459\\n -0.01734123  0.00597439  0.02754408 -0.0662314   0.07376437 -0.0061507\\n -0.02641929 -0.01570215  0.02882642 -0.05345957 -0.0573697   0.03387725\\n  0.04430316  0.09060307  0.03218295  0.05988016  0.01724288  0.0531424\\n -0.06025145 -0.03605564 -0.0462219   0.0569348  -0.00397803  0.0661925\\n  0.03924797 -0.03659187 -0.09121815 -0.0400766  -0.05483892  0.04048724\\n  0.02299372  0.00639132  0.00520602  0.04167266  0.07112037  0.05442795\\n  0.04879593  0.07528963 -0.0182203  -0.03090903 -0.01995391  0.0822003\\n -0.00846555 -0.01236436  0.01273426  0.0157553   0.06184711 -0.03354117\\n -0.00844389 -0.04300232 -0.05343782 -0.04979971 -0.05441965  0.01075977\\n -0.01580088  0.08650699  0.03873061 -0.07041404  0.06444906 -0.04170265\\n  0.0478446   0.0411936  -0.07113568 -0.0760679  -0.06274342 -0.0478874\\n -0.07827132  0.06455266  0.05654798 -0.04852873  0.04000577 -0.05762647\\n  0.05837451 -0.0790697  -0.01721267  0.05043298  0.03012124 -0.03402291\\n  0.0833055  -0.06038683 -0.01648594 -0.01997406  0.00706135  0.05798583\\n -0.06977571 -0.02482906  0.01226362 -0.07042329  0.0626416  -0.09362025\\n  0.06445845 -0.04524944 -0.03394692 -0.05594461 -0.02955388 -0.06497998\\n  0.05484518  0.02663272  0.00538614  0.00813577  0.06097193  0.05492278\\n  0.02068442  0.06303643  0.05474682  0.06191516 -0.04344536  0.0027423\\n  0.02824379 -0.06323411 -0.05637437  0.00941557 -0.04872423 -0.00590844\\n  0.03924435  0.04393883  0.07941766 -0.04002697  0.07920306 -0.01720148\\n -0.00737274  0.00095761  0.04023345  0.04847399  0.0341558  -0.03511753\\n -0.04944796  0.00696122 -0.00468362  0.07964976 -0.0436741  -0.05993293\\n -0.05433938 -0.01802151 -0.05689579 -0.06790836  0.01431723  0.03652257\\n -0.05481311 -0.05986648  0.01143073  0.03338563 -0.04922505  0.03408845\\n -0.00098613  0.06501453 -0.04080391  0.04754559  0.07340342  0.00263487\\n -0.03211711 -0.05511817 -0.04407892 -0.0091817  -0.0981146  -0.0181223\\n -0.03884438  0.0241626   0.00534859 -0.0576492  -0.00336439  0.00798437\\n -0.10519587 -0.05537985 -0.05982003  0.03541378 -0.07860015  0.07193604\\n  0.07605782  0.04514314  0.00244405 -0.03817603  0.06498322  0.05519254\\n  0.05859631  0.03520513 -0.06034733  0.08313657 -0.03052162  0.03473164\\n  0.03576833 -0.04927957 -0.04432414  0.05946701 -0.08155078 -0.01920908\\n  0.03295393  0.04736876 -0.07442418  0.06829768  0.02181346  0.00824495\\n  0.04263064 -0.12213358 -0.06201774  0.07920396  0.00628629 -0.03965753\\n -0.05936152  0.01428892 -0.05503177  0.00239404 -0.07270011 -0.07358433\\n -0.05686562 -0.0668308   0.0021099  -0.00268267  0.05460614 -0.06315135\\n -0.05590338 -0.02722572  0.03727368 -0.08857708  0.09435543 -0.00280732\\n  0.00543543  0.05338109 -0.03425545  0.03141649  0.04232091 -0.06375996\\n -0.06689492 -0.03124766 -0.01356449  0.0337045   0.0286974   0.08234135\\n -0.0756262   0.04564991  0.02688707 -0.02825314  0.10279314  0.08270654\\n  0.03393762  0.0184793  -0.01809884 -0.06131465 -0.04671025 -0.01616554\\n -0.03719182  0.00320339  0.00531746 -0.06518465 -0.00837879 -0.02706881\\n  0.0164223   0.09236656 -0.02691601 -0.01994562  0.06309251 -0.00472335\\n  0.0473427   0.058723    0.02383431 -0.01988554  0.00959308  0.04278258\\n -0.05521558 -0.01281346 -0.03891335 -0.05472504  0.0712779  -0.08117087\\n  0.05004686  0.07960074 -0.01439321  0.05676255 -0.03186508  0.02983115\\n -0.07320426 -0.05180119  0.02703931  0.0407216  -0.08763631  0.00190887\\n  0.03116228 -0.0073542   0.03348286  0.05898252  0.0831778   0.02180204\\n -0.0804963  -0.03085515  0.06721574  0.04185614  0.00304994  0.02342206\\n -0.0875148  -0.06153671 -0.09214005 -0.03874008 -0.02477601 -0.07214732\\n  0.04555568  0.05603142 -0.06624957 -0.05658345  0.06261809  0.00346888\\n  0.05122912 -0.03720845 -0.04823702  0.01613303 -0.04952761 -0.02586649\\n -0.08575279  0.043501   -0.0316423  -0.09474353  0.07322203  0.04448079\\n -0.06101347  0.05559711 -0.01622945 -0.05952233  0.01206193 -0.04812925\\n -0.01820954  0.12302604  0.00993164 -0.10324579 -0.00695353  0.04148609\\n -0.00765647  0.02911086 -0.00803187  0.00043583  0.07175583  0.06355\\n -0.03053343 -0.02937415  0.11022481  0.04982672  0.07304808  0.01293123\\n  0.00235831 -0.03386756  0.06703997 -0.02387222  0.01524331  0.03251863\\n -0.05981844  0.03180067  0.00610552 -0.06092584 -0.04591279  0.07817972\\n -0.07961163 -0.08376036  0.05706728  0.07617429  0.05952238  0.0521416 ]  "
      ],
      "text/html": [
       "<div>\n",
       "<style scoped>\n",
       "    .dataframe tbody tr th:only-of-type {\n",
       "        vertical-align: middle;\n",
       "    }\n",
       "\n",
       "    .dataframe tbody tr th {\n",
       "        vertical-align: top;\n",
       "    }\n",
       "\n",
       "    .dataframe thead th {\n",
       "        text-align: right;\n",
       "    }\n",
       "</style>\n",
       "<table border=\"1\" class=\"dataframe\">\n",
       "  <thead>\n",
       "    <tr style=\"text-align: right;\">\n",
       "      <th></th>\n",
       "      <th>page_number</th>\n",
       "      <th>sentence_chunk</th>\n",
       "      <th>chunk_char_count</th>\n",
       "      <th>chunk_word_count</th>\n",
       "      <th>chunk_token_count</th>\n",
       "      <th>embedding</th>\n",
       "    </tr>\n",
       "  </thead>\n",
       "  <tbody>\n",
       "    <tr>\n",
       "      <th>0</th>\n",
       "      <td>1</td>\n",
       "      <td>CONVOCATORIA A LA PAZ GRANDE Declaración de la Comisión para el Esclarecimiento de la Verdad, la Convivencia y la No Repetición HAY FUTURO si hay verdad INFORME FINAL Comisión para el Esclarecimieto de la Verdad, la Convivencia y la No Repetición</td>\n",
       "      <td>246</td>\n",
       "      <td>41</td>\n",
       "      <td>61.50</td>\n",
       "      <td>[ 5.45445830e-02 -3.05698626e-02 -1.47332065e-02 -8.76460299e-02\\n  5.14577776e-02 -3.69293727e-02  6.29916489e-02  1.90981440e-02\\n  5.02568260e-02 -9.25450772e-03  5.01125790e-02  3.06189153e-02\\n  9.55730751e-02 -5.13730161e-02 -7.16407970e-02  3.92933041e-02\\n  5.75271621e-02 -5.13946265e-02 -4.19153199e-02 -5.21836951e-02\\n -2.38637836e-03 -1.43839819e-02 -5.88041283e-02  4.75510210e-02\\n  7.12912455e-02  5.15542217e-02 -1.04561383e-02  2.75732074e-02\\n  8.09945017e-02 -6.38215095e-02 -5.24784848e-02 -4.36107777e-02\\n  2.35532075e-02 -7.21463189e-02  5.49632087e-02  4.51139510e-02\\n -1.10084666e-02 -8.07763729e-03  6.69876710e-02 -7.08252713e-02\\n -5.60910404e-02  4.83264551e-02  1.66522469e-02  8.21114108e-02\\n  9.98474509e-02  9.95736495e-02 -5.60776629e-02  9.01174322e-02\\n  5.66136977e-03 -7.94472732e-03 -5.30328490e-02  3.92442197e-02\\n  9.36623476e-03  4.92326058e-02  5.39242849e-03 -7.63363168e-02\\n -4.30026464e-02 -5.05377464e-02 -1.81750432e-02  6.83801994e-02\\n  3.19287330e-02  2.74546929e-02 -1.70384962e-02  3.42210941e-02\\n  7.47781545e-02  3.66027914e-02  1.17146131e-02  3.34655605e-02\\n -2.77754422e-02 -3.22086550e-02 -5.53734414e-02  6.24219961e-02\\n -1.40580414e-02 -2.34924089e-02  8.09977390e-03  4.46227863e-02\\n -3.23499949e-03 -5.84510043e-02  6.57979101e-02 -3.77123132e-02\\n -5.32850996e-02 -5.92261478e-02 -5.91939911e-02  4.85597290e-02\\n -4.15665796e-03  5.89893125e-02  5.00637554e-02 -6.54141903e-02\\n  6.83691353e-02 -2.21633054e-02  3.13288867e-02  4.31989394e-02\\n -4.53857966e-02 -7.13768527e-02 -4.66885082e-02 -6.36169836e-02\\n -4.55872528e-02  4.16023508e-02  8.44624862e-02 -3.65205109e-02\\n  7.03483671e-02 -8.70741382e-02  3.52358110e-02 -8.03804696e-02\\n -3.34321670e-02  4.58607301e-02 -2.83011328e-02 -4.86975424e-02\\n  7.36394525e-02 -3.33867855e-02 -9.04288143e-03  1.40629513e-02\\n  2.95280647e-02  4.70961817e-02 -3.99408117e-02 -4.56363074e-02\\n  1.33083221e-02 -9.57445055e-02  5.48175350e-02 -5.13536781e-02\\n  9.91437361e-02  1.98491253e-02 -3.25629041e-02 -5.09984642e-02\\n -4.97739241e-02 -3.56711596e-02  4.56854329e-02  5.10170124e-02\\n  3.11009437e-02  5.76886199e-02  6.20845594e-02  3.95367555e-02\\n  4.20465544e-02  4.56366837e-02  7.27967918e-02  1.15385294e-01\\n -8.06464106e-02  3.90237616e-03  2.47128145e-03 -5.36177270e-02\\n -6.23992085e-02  4.04944606e-02 -2.90363114e-02  3.23215835e-02\\n  1.04161175e-02  4.13000733e-02  6.57731220e-02  7.39559619e-05\\n  6.37444556e-02 -7.80886635e-02  3.76830287e-02 -4.88078259e-02\\n  4.59930487e-03  5.10010794e-02  4.05216403e-02 -2.94937789e-02\\n -3.20490077e-02 -3.28451395e-02  5.01379184e-02  5.66303395e-02\\n -5.49226403e-02 -5.05921319e-02 -8.03446621e-02 -4.45140153e-02\\n -5.83925918e-02 -5.60435094e-02  1.68530699e-02  5.18535487e-02\\n -8.40380117e-02 -5.89082129e-02 -4.91107032e-02  6.84547871e-02\\n -5.55489846e-02  6.24989010e-02 -2.97237895e-02  5.28948642e-02\\n -6.37827292e-02  2.60174796e-02  5.32201380e-02  5.13053685e-02\\n -1.47872511e-02 -2.39835512e-02 -2.11932641e-02 -4.36030962e-02\\n -8.02175999e-02 -1.83253158e-02 -1.26660252e-02 -1.48140965e-02\\n  3.34599242e-03 -4.89570387e-02 -2.83808988e-02  1.39406938e-02\\n -5.74470237e-02 -4.79103960e-02 -8.96130428e-02  5.81928492e-02\\n -2.22277101e-02  6.92197010e-02  2.23727562e-02  4.39705253e-02\\n -2.45469064e-02  2.30660429e-03  5.80548421e-02  2.13545635e-02\\n  5.30553758e-02 -6.47722464e-03 -4.78857243e-03  5.08708553e-03\\n -6.40750304e-02  1.57665666e-02  1.60207208e-02 -4.44827750e-02\\n -7.03931972e-02  7.67738819e-02 -4.97622639e-02 -2.74016615e-02\\n -4.18386748e-03  3.92452925e-02 -5.53332679e-02  1.54743921e-02\\n  4.82950769e-02  6.96235895e-03  1.97236557e-02 -6.09940328e-02\\n -1.21922456e-02  5.91302589e-02  2.12728474e-02 -2.52794325e-02\\n -9.64250490e-02 -7.32127763e-03 -5.29533140e-02 -4.57597859e-02\\n -2.33447980e-02 -9.56332684e-02 -4.59512919e-02 -1.09845243e-01\\n  1.46036046e-02  3.34165506e-02  7.05057308e-02 -6.31969720e-02\\n -1.98336113e-02 -3.63636911e-02  6.96531758e-02 -5.49646355e-02\\n  7.48285055e-02 -1.75713133e-02 -5.14783375e-02  5.63448593e-02\\n -2.42642015e-02  4.95672412e-02  3.22461277e-02 -6.26171231e-02\\n -6.15352653e-02 -9.34853330e-02 -4.07447517e-02  5.64642772e-02\\n  1.35315843e-02  5.98498359e-02 -8.40005353e-02  5.37436642e-02\\n  2.11833324e-02 -3.60316634e-02  8.27059969e-02  4.19058502e-02\\n  2.82983296e-02  2.84569710e-02 -5.28651699e-02  3.15359496e-02\\n -4.32587154e-02 -4.85336110e-02 -5.02062961e-02  9.64326391e-05\\n  5.51353246e-02 -5.17120063e-02 -7.05724955e-02 -2.61670724e-02\\n  1.37184924e-02  6.70552552e-02 -6.15031272e-02 -3.04108337e-02\\n  9.23192427e-02 -2.55236495e-02  7.38611892e-02  3.68049368e-02\\n  4.77637760e-02 -4.84030321e-03 -2.27163527e-02  4.93142642e-02\\n -2.94679534e-02  4.65525407e-03 -2.57288869e-02 -6.47954568e-02\\n  4.89654317e-02 -4.14539389e-02  2.03261077e-02  5.06905019e-02\\n -1.48645034e-02  6.32282048e-02 -2.15417128e-02  4.19059880e-02\\n -6.45451481e-03 -5.25530800e-02  2.48752031e-02  7.15227425e-02\\n -9.74714682e-02 -2.14863606e-02  2.84180418e-03  2.59998953e-03\\n  4.28857729e-02  8.93326849e-02  5.27258404e-02  5.72606772e-02\\n -5.68660721e-02 -1.58672798e-02  3.82663235e-02  5.00735939e-02\\n -2.02001445e-02  7.87708983e-02 -7.44479448e-02 -5.52901849e-02\\n -1.14854977e-01 -3.90026160e-02 -2.03174055e-02 -4.27849777e-02\\n  7.74032325e-02  5.78504391e-02 -3.17929089e-02 -3.26044187e-02\\n  4.48632464e-02 -2.30669454e-02  7.09725022e-02 -3.21668014e-02\\n -7.27556348e-02  4.20933515e-02 -6.56699911e-02  5.40946261e-04\\n -2.51712240e-02  3.30647603e-02 -4.06925827e-02 -5.61308973e-02\\n  5.58260381e-02  8.06344301e-02 -2.67244279e-02  8.38499516e-02\\n -4.64256853e-02 -3.79251391e-02  2.97873802e-02 -3.59326899e-02\\n -3.96547951e-02  2.41825990e-02  5.52803539e-02 -1.37369975e-01\\n  6.63651619e-03  6.83719218e-02 -7.70496354e-02  5.00141345e-02\\n -5.54965585e-02 -2.52604783e-02  5.95553555e-02  2.90437285e-02\\n -6.96940795e-02 -2.84200087e-02  6.35549277e-02  5.41007146e-02\\n  7.95948654e-02 -7.68931769e-03 -8.46070796e-03 -2.49679219e-02\\n  4.50927541e-02 -3.11491229e-02  3.15604024e-02  6.73319250e-02\\n -4.85381261e-02  1.09715841e-03 -1.39204701e-02 -6.32500723e-02\\n -7.25290403e-02  6.46375045e-02 -6.96364567e-02 -6.07160777e-02\\n  5.07068336e-02  4.72890884e-02  4.09366004e-02  6.22273907e-02]</td>\n",
       "    </tr>\n",
       "    <tr>\n",
       "      <th>1</th>\n",
       "      <td>3</td>\n",
       "      <td>CONVOCATORIA A LA PAZ GRANDE DECLARACIÓN DE LA COMISIÓN PARA EL ESCLARECIMIENTO DE LA VERDAD, LA CONVIVENCIA Y LA NO REPETICIÓN HAY FUTURO si hay verdad INFORME FINAL</td>\n",
       "      <td>166</td>\n",
       "      <td>28</td>\n",
       "      <td>41.50</td>\n",
       "      <td>[ 0.05722642 -0.02348239 -0.00379216 -0.08383928  0.04167465 -0.02343217\\n  0.06779027  0.02007096  0.04476066  0.00512364  0.0541854   0.03528871\\n  0.09124656 -0.06376433 -0.07725991  0.04055487  0.05268047 -0.05263355\\n -0.04359716 -0.05806509 -0.01503354 -0.00897129 -0.05729976  0.04774727\\n  0.07305452  0.06733178 -0.01753112  0.0175347   0.08232471 -0.06017032\\n -0.04756224 -0.05270529  0.02559695 -0.0656747   0.05832184  0.0401049\\n -0.01359195 -0.01090067  0.05831478 -0.07104331 -0.07226815  0.04824624\\n  0.01301463  0.08234797  0.09528693  0.09629964 -0.0705405   0.09215511\\n  0.01215349  0.00579001 -0.05148226  0.0332392   0.02290021  0.04931461\\n  0.01040563 -0.07624569 -0.03703625 -0.04792013 -0.02373423  0.06832269\\n  0.04034891  0.03958405 -0.00250533  0.03990287  0.07125162  0.03575627\\n  0.01600623  0.04163025 -0.03450909 -0.03160069 -0.05199289  0.07115954\\n -0.0184343  -0.02079045 -0.00095989  0.03547022 -0.00708181 -0.04258776\\n  0.06085002 -0.02820026 -0.06159686 -0.06424065 -0.05238286  0.05067859\\n -0.00480119  0.06562432  0.04932638 -0.06782414  0.07874397 -0.014806\\n  0.04746247  0.0390923  -0.04236174 -0.0681073  -0.03264464 -0.05811317\\n -0.04765419  0.04730307  0.06602591 -0.03450665  0.06410438 -0.07111907\\n  0.03930067 -0.07918541 -0.03656726  0.05060895 -0.02407484 -0.04293543\\n  0.07033177 -0.04170067 -0.00246012  0.00815961  0.02918316  0.04246126\\n -0.03547395 -0.0565491  -0.01119457 -0.08324098  0.0452035  -0.03812009\\n  0.10519867 -0.00611565 -0.03293131 -0.05205025 -0.04794686 -0.04018068\\n  0.05046054  0.03761309  0.04111324  0.04438723  0.060455    0.0284584\\n  0.0377452   0.05010235  0.08335302  0.11258584 -0.08242024 -0.01153341\\n -0.00733927 -0.06358553 -0.06525099  0.04187287 -0.02300404  0.02492943\\n  0.01750184  0.03480454  0.0763545   0.00370939  0.06746611 -0.07521865\\n  0.04309712 -0.05370856  0.01555238  0.0342514   0.05168809 -0.0296862\\n -0.04385054 -0.03829298  0.04039124  0.06100274 -0.05076781 -0.03322929\\n -0.07661912 -0.04730954 -0.05298491 -0.06641437  0.02068071  0.05790684\\n -0.07326467 -0.06098133 -0.04328089  0.07753545 -0.06129963  0.06001898\\n -0.02506239  0.04565453 -0.0555429   0.03153323  0.04278451  0.05240398\\n -0.01123604 -0.01417732 -0.03102245 -0.04692358 -0.07254981 -0.01518276\\n -0.00949694 -0.00380816  0.00238012 -0.05434329 -0.02471983  0.01594324\\n -0.06416322 -0.04358419 -0.07197542  0.06978954 -0.04217852  0.0770717\\n  0.01405354  0.03101747 -0.03395274  0.00985462  0.06634127  0.02220335\\n  0.04928431 -0.00357232  0.0025568   0.01335807 -0.07191154  0.02253744\\n  0.00998173 -0.04929591 -0.06562618  0.07700442 -0.06122474 -0.03631105\\n -0.00590471  0.0530224  -0.06132172  0.02196345  0.04537568  0.01471413\\n  0.02553733 -0.05584333 -0.00631413  0.04772521  0.010307   -0.03228429\\n -0.10151589  0.00943659 -0.04743472 -0.0507579  -0.00868806 -0.09308107\\n -0.05345518 -0.11360844  0.01682348  0.03469766  0.07332079 -0.05285348\\n -0.02300405 -0.0351548   0.07408212 -0.06818938  0.06722608 -0.01238844\\n -0.04579309  0.05938577 -0.01548063  0.04611874  0.03930607 -0.06396932\\n -0.06534403 -0.1024373  -0.03638534  0.04475024  0.02222651  0.06016567\\n -0.07730622  0.05787412  0.01643999 -0.04246147  0.07580112  0.05047113\\n  0.02419407  0.05124813 -0.05760881  0.02120751 -0.05969277 -0.06241361\\n -0.05636715  0.00490705  0.04860714 -0.04650271 -0.07461432 -0.02339328\\n  0.01017123  0.0697179  -0.06967307 -0.03859827  0.08234312 -0.03054914\\n  0.07564518  0.03134831  0.03116755 -0.00975648 -0.02525811  0.05557507\\n -0.03772256  0.00294735 -0.01829796 -0.05311011  0.04894967 -0.04140337\\n  0.02030212  0.06373153 -0.00274445  0.04642742 -0.02543424  0.04872277\\n -0.01351125 -0.05376086  0.0255249   0.06453333 -0.10232281 -0.02342825\\n -0.00022338  0.00789363  0.03187974  0.09379836  0.04445585  0.05719422\\n -0.07041916 -0.0089403   0.0339959   0.04293249 -0.01711567  0.06400108\\n -0.05254959 -0.0592946  -0.107912   -0.04208043 -0.02530152 -0.0548344\\n  0.08903773  0.049705   -0.02637268 -0.03592599  0.04221079 -0.02475036\\n  0.05955513 -0.02156448 -0.08173189  0.04507095 -0.06846955  0.00397328\\n -0.01730189  0.03041888 -0.02705505 -0.05119061  0.05629057  0.07693018\\n -0.02064717  0.08549511 -0.03953391 -0.03511946  0.02857918 -0.04585991\\n -0.03717159  0.02712952  0.05654721 -0.13485816  0.01909927  0.07304601\\n -0.08176943  0.05741869 -0.04487695 -0.01521232  0.06182924  0.03427604\\n -0.06770518 -0.03815939  0.05320345  0.05093105  0.07740461 -0.00533896\\n -0.00481008 -0.0280441   0.04838447 -0.02785167  0.02817059  0.05638093\\n -0.05597648 -0.01114887 -0.01414656 -0.06774037 -0.0881659   0.05793955\\n -0.06632432 -0.05599692  0.06063292  0.04501481  0.04191079  0.06061617]</td>\n",
       "    </tr>\n",
       "    <tr>\n",
       "      <th>2</th>\n",
       "      <td>4</td>\n",
       "      <td>Colombia. Comisión de la Verdad, autor Hay futuro si hay verdad : Informe Final de la Comisión para el Esclarecimiento de la Verdad, la Convivencia y la No Repetición. --Primera edición. --Bogotá : Comisión de la Verdad, 2022.11 tomos en 24 volúmenes : ilustraciones, diagramas, fotografías y mapas a color. Incluye referencias bibliográficas ISBN 78-958-53874-3-0 (Obra completa impreso) ISBN 978-958-53874-4-7 (T omo 1 impreso) ISBN 978-628-7590-18-2 (Obra completa digital) ISBN 978-628-7590-19-9 (T omo 1 digital) T omo 1. Convocatoria a la paz grande: declaración de la Comisión para el Esclarecimiento de la Verdad, la Convivencia y la No Repetición -- T omo 2. Hallazgos y recomendaciones de la Comisión de la Verdad de Colombia -- T omo 3. No matarás: relato histórico del conflicto armado interno en Colombia -- T omo 4. Hasta la guerra tiene límites: violaciones de los derechos humanos, infracciones al derecho internacional humanitario y responsabilidades colectivas -- T omo 5.</td>\n",
       "      <td>990</td>\n",
       "      <td>154</td>\n",
       "      <td>247.50</td>\n",
       "      <td>[-0.00306266 -0.00142874 -0.03494273 -0.08379728  0.04442536 -0.03479797\\n  0.06490885  0.03924652  0.0498319  -0.0004254   0.01789415  0.03778847\\n  0.0395234  -0.02724014 -0.05216924  0.03443564  0.04911456 -0.0400909\\n -0.0369646  -0.00635658  0.00982744  0.00823861 -0.03353712  0.05915103\\n  0.05552579  0.06344363 -0.04204533  0.04830735  0.10518305 -0.02374873\\n -0.04675655 -0.03915523  0.00806646 -0.07935042  0.0751425   0.02086177\\n -0.02307189 -0.03149092  0.06328224 -0.05349987 -0.08356564  0.01318463\\n  0.03376833  0.08240806  0.05793719  0.08381847 -0.02493167  0.04362293\\n -0.00340363 -0.00737266 -0.04858121  0.02749231  0.02781435  0.02000369\\n  0.01998606 -0.08375365 -0.06658598 -0.02826638 -0.04668547  0.02028009\\n  0.03735768 -0.01738561 -0.01257792  0.01762706  0.02684363  0.02067816\\n  0.03383968  0.05072993 -0.03844784 -0.01920847 -0.03041708  0.08605762\\n -0.02194311 -0.02958839  0.00546046  0.04398729 -0.00428314 -0.03086381\\n  0.02516891 -0.08556458 -0.05097705 -0.06559138 -0.03360556  0.03457967\\n -0.04279698  0.11739347  0.07240123 -0.06942865  0.07467292 -0.02655\\n  0.02727919  0.05930616 -0.07549697 -0.10686524 -0.01377212 -0.05934265\\n -0.0391679   0.0176386   0.07452914 -0.03538009  0.05719461 -0.07954735\\n  0.05380959 -0.11162987 -0.01513093  0.03548064  0.00398844 -0.05091209\\n  0.05721138 -0.05306282  0.01633961 -0.01221061  0.04970969  0.0491324\\n -0.02320061 -0.04152092 -0.0163141  -0.1325851   0.07482801 -0.0608074\\n  0.0840188  -0.01436069 -0.03342827 -0.036688   -0.0751544  -0.04472372\\n  0.06950254  0.03132603  0.01875279  0.05679949  0.06477097  0.05093056\\n  0.05403541  0.09740017  0.08159278  0.07684173 -0.04499495 -0.00061559\\n  0.01400575 -0.06359762 -0.0545491   0.03004579  0.00170434  0.03415278\\n  0.01225744  0.05184678  0.07444586 -0.05968032  0.04984553 -0.03334983\\n  0.04322245 -0.04003688  0.03978783  0.04463195  0.03143747 -0.01346803\\n -0.03404691 -0.01279612  0.04684311  0.03523766 -0.07616574 -0.09572611\\n -0.05469705 -0.03219449 -0.03189    -0.03024067  0.00539474  0.05633537\\n -0.10047636 -0.06067996 -0.03057223  0.06477263 -0.06481342  0.03449576\\n -0.00628783  0.06321079 -0.04286193  0.06793707  0.07608556  0.04409074\\n -0.04074532 -0.0081521  -0.02200308 -0.04116067 -0.04518559 -0.06690206\\n -0.02794718  0.01522178  0.03312505 -0.06469572 -0.04720753  0.03686854\\n -0.07991817 -0.04102203 -0.06173715  0.07520907 -0.04593233  0.07890109\\n  0.04112621  0.03245609 -0.0229692  -0.01868837  0.0492424   0.03913773\\n  0.05640272 -0.01967113  0.00281888  0.03708363 -0.04560428 -0.00433137\\n  0.01615076 -0.03988297 -0.06455705  0.07166225 -0.02450288 -0.08911229\\n  0.02873649  0.03008353 -0.06458641  0.07106984  0.02708033 -0.00117795\\n  0.05792512 -0.0833119   0.01176033  0.0376551   0.02078264 -0.03805726\\n -0.09957222  0.00162589 -0.05552894 -0.01258753 -0.04221406 -0.06670869\\n -0.06335416 -0.08705986 -0.00891955  0.03190337  0.07131084 -0.05558677\\n -0.0841031  -0.00414037  0.07527286 -0.05774596  0.09214067  0.00335072\\n -0.01971991  0.03624244 -0.03825441  0.01940338  0.05270058 -0.08680965\\n -0.05372362 -0.04215908 -0.07524443  0.04210395  0.00437243  0.0711337\\n -0.05980914  0.05420918  0.05520124 -0.02525692  0.08001484  0.04026093\\n  0.02150498  0.02275294 -0.03589101 -0.02342432 -0.06118579 -0.07648372\\n -0.0234637   0.00331421  0.04561003 -0.03722708 -0.01180219 -0.05742741\\n  0.01903298  0.06663934 -0.04908602 -0.03410248  0.08667024  0.02132649\\n  0.0680981   0.04150684  0.06654153 -0.01044827 -0.01826754  0.06917328\\n -0.0365651  -0.01376161 -0.0289319  -0.06439707  0.05332508 -0.06948128\\n  0.03807743  0.06478409 -0.01798666  0.04047053 -0.03481824  0.03293995\\n -0.05485318 -0.05113713  0.00462792  0.07668877 -0.06675066  0.01441802\\n  0.03261536 -0.02049849  0.03292348  0.03061504  0.0559996   0.03401861\\n -0.06803945 -0.00508746  0.05791351  0.04221614 -0.01447879  0.08564187\\n -0.03190296 -0.0512034  -0.12260831 -0.01635403 -0.03503089 -0.07838102\\n  0.08664108  0.07315782 -0.05332213 -0.00705406  0.05499412  0.00530517\\n  0.07628949 -0.06605338 -0.07172701  0.0653332  -0.06666693 -0.03440031\\n -0.04223729  0.04425595 -0.04122592 -0.02384809  0.06786403  0.06014617\\n -0.04052535  0.05606641 -0.04019711 -0.0711043   0.04809655 -0.07438131\\n -0.04734708  0.05303269  0.01870582 -0.07993612  0.00600093  0.03349956\\n -0.05939157  0.03464335 -0.04483221 -0.03774246  0.06019646  0.01201889\\n -0.05476164 -0.04831474  0.08841804  0.04471791  0.05824682  0.01153706\\n -0.01188011 -0.00755106  0.03069746 -0.02732122 -0.02041837  0.0579965\\n -0.02819509  0.04796007  0.01067161 -0.09745135 -0.06327409  0.08434723\\n -0.05852856 -0.02650063  0.05968699  0.0484779   0.03120318  0.04824771]</td>\n",
       "    </tr>\n",
       "    <tr>\n",
       "      <th>3</th>\n",
       "      <td>4</td>\n",
       "      <td>Sufrir la guerra y rehacer la vida: impactos, afrontamientos y resistencias -- T omo 6. Cuando los pájaros no cantaban: historias del conflicto armado en Colombia, tomo testimonial -- T omo 7. Mi cuerpo es la verdad: experiencias de mujeres y personas LGBTIQ+ en el conflicto armado -- T omo 8. No es un mal menor: niñas, niños y adolescentes en el conflicto armado -- T omo 9. Resistir no es aguantar: violencias y daños contra los pueblos étnicos de Colombia -- T omo 10. La Colombia fuera de Colombia: las verdades del exilio -- T omo 11. Colombia adentro: relatos territoriales sobre el conflicto armado -- T omo 11.vol. 1. Ensayo introductorio -- T omo 11.vol. 2.</td>\n",
       "      <td>668</td>\n",
       "      <td>118</td>\n",
       "      <td>167.00</td>\n",
       "      <td>[ 2.74554696e-02 -1.48987845e-02 -3.27237844e-02 -6.74961805e-02\\n  4.37336974e-02 -4.66919504e-02  5.08215763e-02  3.06583010e-02\\n  4.75660414e-02  1.31810422e-03  2.52792779e-02  3.03637870e-02\\n  4.82488126e-02  7.22285360e-03 -4.27992158e-02  5.17467149e-02\\n  5.54383695e-02 -6.87257499e-02 -3.86134088e-02 -1.65109299e-02\\n  1.47068808e-02 -1.57368556e-02 -3.27705145e-02  7.07696751e-02\\n  4.31685001e-02  3.23112756e-02 -2.05712672e-02  5.92344031e-02\\n  6.47776872e-02 -6.15765937e-02 -5.78751648e-03 -1.50521826e-02\\n  9.65883397e-03 -8.51904079e-02  8.89028460e-02  1.24509782e-02\\n -5.52886650e-02 -4.05533575e-02  5.40871359e-02 -6.81156293e-02\\n -7.00177774e-02 -4.35600057e-03  5.96322417e-02  8.66408646e-02\\n  3.02330032e-02  7.27137029e-02 -8.97631835e-05  9.04016644e-02\\n -4.57447842e-02 -4.14294079e-02 -4.65779789e-02  3.45043540e-02\\n  3.45775895e-02  6.20460622e-02  4.81686294e-02 -8.16803053e-02\\n -6.94669038e-02 -3.38795856e-02 -8.80490839e-02  3.84286270e-02\\n  4.34794985e-02 -7.38806603e-03  1.95340067e-03  3.24630663e-02\\n  6.42773956e-02  3.65679786e-02  4.79812101e-02  5.04243448e-02\\n -3.12095378e-02 -1.45311235e-02 -1.75213311e-02  9.63408947e-02\\n -2.49375738e-02 -2.06544093e-04  1.60064455e-02  4.23320197e-02\\n  8.28582421e-03 -4.81206924e-02  5.16718477e-02 -5.40406555e-02\\n -5.83070777e-02 -6.54039085e-02 -5.23829907e-02  3.72206606e-02\\n -4.09981012e-02  1.02748364e-01  6.02755770e-02 -8.18497837e-02\\n  8.80634487e-02 -4.74527106e-02  4.30278070e-02  3.78306024e-02\\n -7.13657141e-02 -7.20827430e-02 -6.96022511e-02 -5.77824302e-02\\n -5.10532856e-02  5.55546768e-02  7.45531321e-02 -6.91262931e-02\\n  5.92735931e-02 -5.61136268e-02  6.24432266e-02 -8.89061391e-02\\n -6.42489120e-02  7.53163621e-02  1.06351394e-02 -3.29881087e-02\\n  5.82893528e-02 -7.90344477e-02  3.20301671e-03 -8.25663749e-03\\n  2.17300300e-02  2.93221381e-02 -6.77309837e-03 -3.19287144e-02\\n -1.89383999e-02 -6.51161224e-02  8.77050534e-02 -1.03832088e-01\\n  4.81160842e-02 -2.34759096e-02 -6.87200874e-02 -6.11133911e-02\\n -4.90058213e-02 -4.29944098e-02  8.13870728e-02  2.23605409e-02\\n  7.70681677e-03  7.28921369e-02  4.18272801e-02  5.80911711e-02\\n  1.84616502e-02  9.38828513e-02  7.41026029e-02  4.86026034e-02\\n -3.07285115e-02  8.87011737e-03  3.05129588e-02 -7.86301866e-02\\n -4.59661447e-02  2.92131212e-02  2.96722096e-03  1.93477049e-02\\n  4.12307754e-02  2.67526042e-02  9.77537781e-02 -4.25756313e-02\\n  6.54532984e-02 -2.94468924e-02  4.24872153e-02 -3.28667015e-02\\n  6.56861290e-02  4.68098000e-02  5.06989146e-03 -1.64276753e-02\\n -6.60138205e-02 -1.62061043e-02  3.12539861e-02  6.32010177e-02\\n -6.24163970e-02 -6.36781752e-02 -5.09750731e-02 -3.00251879e-02\\n -4.53445427e-02 -7.14087039e-02  3.45482305e-02  4.91816364e-02\\n -5.39977588e-02 -3.78807969e-02 -3.89853418e-02  5.95851578e-02\\n -4.12954427e-02  3.02115455e-02 -2.84053828e-03  6.14114478e-02\\n -2.60439236e-02  9.69914496e-02  8.28995183e-02  1.65093001e-02\\n -4.28945124e-02 -1.67997424e-02 -1.01112286e-02 -2.37866528e-02\\n -6.59067109e-02 -5.33897616e-02 -7.52156153e-02  4.36090864e-02\\n  6.07918650e-02 -5.87954745e-02 -2.76279729e-02  4.26257886e-02\\n -8.11967552e-02 -5.63042127e-02 -2.22978685e-02  4.55115065e-02\\n -8.00255686e-02  6.14965111e-02  4.84548993e-02  3.36814560e-02\\n -2.07937695e-02 -1.27084954e-02  2.75572781e-02  4.24004123e-02\\n  6.21535704e-02 -5.69567038e-03 -3.03828716e-02  2.98827924e-02\\n -3.28681134e-02 -7.68816797e-03  2.84530465e-02 -8.39051306e-02\\n -6.28622174e-02  6.74595535e-02 -4.66460735e-02 -3.61754075e-02\\n -8.75337422e-03  1.29900416e-02 -8.48642662e-02  5.06099164e-02\\n -3.40313721e-03  3.53721553e-03  6.62497729e-02 -1.10200085e-01\\n -4.21262383e-02  5.17415144e-02  1.94540191e-02 -4.71704938e-02\\n -5.91011345e-02  1.38241649e-02 -4.24267873e-02 -2.02153381e-02\\n -2.57367790e-02 -5.80008999e-02 -6.90217912e-02 -8.55504200e-02\\n -1.80763490e-02  1.48098236e-02  3.82059440e-02 -6.26102313e-02\\n -1.01902805e-01 -3.70753258e-02  5.53996973e-02 -7.30177164e-02\\n  8.38946030e-02 -9.48694814e-03 -1.35711972e-02  2.66381502e-02\\n -4.87752557e-02  5.75286001e-02  4.61360477e-02 -5.77292442e-02\\n -6.52835220e-02 -5.26414663e-02 -3.96143049e-02  2.66299751e-02\\n  2.65344214e-02  5.63616343e-02 -6.09044954e-02  5.99001721e-02\\n  5.62501550e-02 -5.16556352e-02  9.37250704e-02  5.34157678e-02\\n  2.02933922e-02  5.44987954e-02 -6.76527843e-02 -2.77391020e-02\\n -5.49000129e-02 -5.08551449e-02 -2.27625798e-02 -6.98806904e-03\\n  2.07186434e-02 -4.42316942e-02  1.75536964e-02 -3.52430642e-02\\n  2.15971246e-02  8.82473439e-02 -3.45714614e-02 -1.65360849e-02\\n  4.73999269e-02 -9.29332431e-03  4.11567837e-02  7.26828054e-02\\n  6.33039698e-02 -1.56193832e-02 -1.32585708e-02  6.43181652e-02\\n -5.46190739e-02 -4.11799327e-02 -1.03835575e-02 -6.00466467e-02\\n  3.13383192e-02 -3.36814262e-02  2.76340991e-02  6.40032515e-02\\n -2.34608334e-02  5.25720865e-02 -3.56324613e-02  4.57978286e-02\\n -5.25692105e-02 -4.11605537e-02  1.12458486e-02  7.73027316e-02\\n -4.33290862e-02  2.13375669e-02  2.91065108e-02 -1.25009203e-02\\n  5.42782731e-02  3.85312513e-02  5.91326989e-02  4.72351126e-02\\n -7.47486949e-02 -5.20782620e-02  8.25083032e-02  9.18600522e-03\\n -1.74871609e-02  4.45327871e-02 -6.52186871e-02 -2.48987768e-02\\n -9.44712907e-02 -1.85491312e-02 -3.11448816e-02 -7.77504519e-02\\n  5.93548082e-02  4.51784879e-02 -5.07767908e-02 -1.70773081e-03\\n  3.75297330e-02  2.74439808e-03  7.11608082e-02 -7.16764927e-02\\n -3.30156982e-02  4.97120619e-02 -6.04487211e-02 -1.77624952e-02\\n -4.70213741e-02  4.82012480e-02 -2.93528996e-02 -6.80262893e-02\\n  6.86995015e-02  6.00082353e-02 -8.40246230e-02  2.39816718e-02\\n -1.83827188e-02 -2.76985168e-02  3.65070775e-02 -5.74543513e-02\\n -3.10076904e-02  5.07538877e-02 -1.01306976e-03 -8.46050903e-02\\n -1.07985176e-02  3.09826545e-02 -5.81132695e-02  2.53536701e-02\\n -3.36443894e-02 -1.77052710e-02  7.22023770e-02  5.94804483e-03\\n -5.38260415e-02 -3.52229998e-02  8.05194974e-02  3.19727287e-02\\n  1.02601200e-01 -5.29983686e-03 -7.27056619e-03 -2.93570179e-02\\n  5.72914779e-02 -2.15675626e-02  2.11416408e-02  6.28425479e-02\\n -6.07133135e-02  5.15039079e-02 -2.15468071e-02 -1.19614489e-01\\n -7.15961829e-02  4.18457501e-02 -6.20013215e-02 -6.92370348e-03\\n  6.70858845e-02  7.98144937e-02  3.53422649e-02  5.30721545e-02]</td>\n",
       "    </tr>\n",
       "    <tr>\n",
       "      <th>4</th>\n",
       "      <td>4</td>\n",
       "      <td>Amazonía -- T omo 11.vol. 3. Antioquia, sur de Córdoba y Bajo Atrato chocoano -- T omo 11.vol. 4. Caribe -- T omo 11.vol. 5. Eje Cafetero -- T omo 11.vol. 6. Frontera nororiental -- T omo 11 vol. 7. Magdalena Medio -- T omo 11.</td>\n",
       "      <td>227</td>\n",
       "      <td>46</td>\n",
       "      <td>56.75</td>\n",
       "      <td>[ 0.04435137 -0.00612882 -0.06389345 -0.07139049  0.06220633 -0.05654259\\n  0.0289662   0.03640248  0.05852466  0.01240099  0.05475616  0.01956502\\n  0.03643408 -0.00428777 -0.05270023  0.08353875  0.05199188 -0.02627826\\n -0.05541346 -0.04834376  0.0263324  -0.0154305  -0.088261    0.0391211\\n  0.03812011  0.05227423 -0.0207237   0.0508484   0.04425184 -0.08390459\\n -0.01734123  0.00597439  0.02754408 -0.0662314   0.07376437 -0.0061507\\n -0.02641929 -0.01570215  0.02882642 -0.05345957 -0.0573697   0.03387725\\n  0.04430316  0.09060307  0.03218295  0.05988016  0.01724288  0.0531424\\n -0.06025145 -0.03605564 -0.0462219   0.0569348  -0.00397803  0.0661925\\n  0.03924797 -0.03659187 -0.09121815 -0.0400766  -0.05483892  0.04048724\\n  0.02299372  0.00639132  0.00520602  0.04167266  0.07112037  0.05442795\\n  0.04879593  0.07528963 -0.0182203  -0.03090903 -0.01995391  0.0822003\\n -0.00846555 -0.01236436  0.01273426  0.0157553   0.06184711 -0.03354117\\n -0.00844389 -0.04300232 -0.05343782 -0.04979971 -0.05441965  0.01075977\\n -0.01580088  0.08650699  0.03873061 -0.07041404  0.06444906 -0.04170265\\n  0.0478446   0.0411936  -0.07113568 -0.0760679  -0.06274342 -0.0478874\\n -0.07827132  0.06455266  0.05654798 -0.04852873  0.04000577 -0.05762647\\n  0.05837451 -0.0790697  -0.01721267  0.05043298  0.03012124 -0.03402291\\n  0.0833055  -0.06038683 -0.01648594 -0.01997406  0.00706135  0.05798583\\n -0.06977571 -0.02482906  0.01226362 -0.07042329  0.0626416  -0.09362025\\n  0.06445845 -0.04524944 -0.03394692 -0.05594461 -0.02955388 -0.06497998\\n  0.05484518  0.02663272  0.00538614  0.00813577  0.06097193  0.05492278\\n  0.02068442  0.06303643  0.05474682  0.06191516 -0.04344536  0.0027423\\n  0.02824379 -0.06323411 -0.05637437  0.00941557 -0.04872423 -0.00590844\\n  0.03924435  0.04393883  0.07941766 -0.04002697  0.07920306 -0.01720148\\n -0.00737274  0.00095761  0.04023345  0.04847399  0.0341558  -0.03511753\\n -0.04944796  0.00696122 -0.00468362  0.07964976 -0.0436741  -0.05993293\\n -0.05433938 -0.01802151 -0.05689579 -0.06790836  0.01431723  0.03652257\\n -0.05481311 -0.05986648  0.01143073  0.03338563 -0.04922505  0.03408845\\n -0.00098613  0.06501453 -0.04080391  0.04754559  0.07340342  0.00263487\\n -0.03211711 -0.05511817 -0.04407892 -0.0091817  -0.0981146  -0.0181223\\n -0.03884438  0.0241626   0.00534859 -0.0576492  -0.00336439  0.00798437\\n -0.10519587 -0.05537985 -0.05982003  0.03541378 -0.07860015  0.07193604\\n  0.07605782  0.04514314  0.00244405 -0.03817603  0.06498322  0.05519254\\n  0.05859631  0.03520513 -0.06034733  0.08313657 -0.03052162  0.03473164\\n  0.03576833 -0.04927957 -0.04432414  0.05946701 -0.08155078 -0.01920908\\n  0.03295393  0.04736876 -0.07442418  0.06829768  0.02181346  0.00824495\\n  0.04263064 -0.12213358 -0.06201774  0.07920396  0.00628629 -0.03965753\\n -0.05936152  0.01428892 -0.05503177  0.00239404 -0.07270011 -0.07358433\\n -0.05686562 -0.0668308   0.0021099  -0.00268267  0.05460614 -0.06315135\\n -0.05590338 -0.02722572  0.03727368 -0.08857708  0.09435543 -0.00280732\\n  0.00543543  0.05338109 -0.03425545  0.03141649  0.04232091 -0.06375996\\n -0.06689492 -0.03124766 -0.01356449  0.0337045   0.0286974   0.08234135\\n -0.0756262   0.04564991  0.02688707 -0.02825314  0.10279314  0.08270654\\n  0.03393762  0.0184793  -0.01809884 -0.06131465 -0.04671025 -0.01616554\\n -0.03719182  0.00320339  0.00531746 -0.06518465 -0.00837879 -0.02706881\\n  0.0164223   0.09236656 -0.02691601 -0.01994562  0.06309251 -0.00472335\\n  0.0473427   0.058723    0.02383431 -0.01988554  0.00959308  0.04278258\\n -0.05521558 -0.01281346 -0.03891335 -0.05472504  0.0712779  -0.08117087\\n  0.05004686  0.07960074 -0.01439321  0.05676255 -0.03186508  0.02983115\\n -0.07320426 -0.05180119  0.02703931  0.0407216  -0.08763631  0.00190887\\n  0.03116228 -0.0073542   0.03348286  0.05898252  0.0831778   0.02180204\\n -0.0804963  -0.03085515  0.06721574  0.04185614  0.00304994  0.02342206\\n -0.0875148  -0.06153671 -0.09214005 -0.03874008 -0.02477601 -0.07214732\\n  0.04555568  0.05603142 -0.06624957 -0.05658345  0.06261809  0.00346888\\n  0.05122912 -0.03720845 -0.04823702  0.01613303 -0.04952761 -0.02586649\\n -0.08575279  0.043501   -0.0316423  -0.09474353  0.07322203  0.04448079\\n -0.06101347  0.05559711 -0.01622945 -0.05952233  0.01206193 -0.04812925\\n -0.01820954  0.12302604  0.00993164 -0.10324579 -0.00695353  0.04148609\\n -0.00765647  0.02911086 -0.00803187  0.00043583  0.07175583  0.06355\\n -0.03053343 -0.02937415  0.11022481  0.04982672  0.07304808  0.01293123\\n  0.00235831 -0.03386756  0.06703997 -0.02387222  0.01524331  0.03251863\\n -0.05981844  0.03180067  0.00610552 -0.06092584 -0.04591279  0.07817972\\n -0.07961163 -0.08376036  0.05706728  0.07617429  0.05952238  0.0521416 ]</td>\n",
       "    </tr>\n",
       "  </tbody>\n",
       "</table>\n",
       "</div>"
      ]
     },
     "execution_count": 37,
     "metadata": {},
     "output_type": "execute_result"
    }
   ],
   "execution_count": 37
  },
  {
   "cell_type": "code",
   "source": [
    "import random\n",
    "\n",
    "import torch\n",
    "import numpy as np\n",
    "import pandas as pd\n",
    "\n",
    "device = \"cuda\" if torch.cuda.is_available() else \"cpu\"\n",
    "\n",
    "# Import texts and embedding df\n",
    "text_chunks_and_embedding_df = pd.read_csv(\"text_chunks_and_embeddings_df.csv\")\n",
    "\n",
    "# Convert embedding column back to np.array (it got converted to string when it got saved to CSV)\n",
    "text_chunks_and_embedding_df[\"embedding\"] = text_chunks_and_embedding_df[\"embedding\"].apply(lambda x: np.fromstring(x.strip(\"[]\"), sep=\" \"))\n",
    "\n",
    "# Convert texts and embedding df to list of dicts\n",
    "pages_and_chunks = text_chunks_and_embedding_df.to_dict(orient=\"records\")\n",
    "\n",
    "# Convert embeddings to torch tensor and send to device (note: NumPy arrays are float64, torch tensors are float32 by default)\n",
    "embeddings = torch.tensor(np.array(text_chunks_and_embedding_df[\"embedding\"].tolist()), dtype=torch.float32).to(device)\n",
    "embeddings.shape"
   ],
   "metadata": {
    "id": "ZgZQoUXIG6Hz",
    "ExecuteTime": {
     "end_time": "2025-07-07T15:27:21.144724Z",
     "start_time": "2025-07-07T15:27:18.931188Z"
    }
   },
   "outputs": [
    {
     "data": {
      "text/plain": [
       "torch.Size([22963, 384])"
      ]
     },
     "execution_count": 38,
     "metadata": {},
     "output_type": "execute_result"
    }
   ],
   "execution_count": 38
  },
  {
   "cell_type": "code",
   "source": [
    "text_chunks_and_embedding_df.head()"
   ],
   "metadata": {
    "id": "5hmP1vvGHJGu",
    "ExecuteTime": {
     "end_time": "2025-07-07T15:27:24.981136Z",
     "start_time": "2025-07-07T15:27:24.971905Z"
    }
   },
   "outputs": [
    {
     "data": {
      "text/plain": [
       "   page_number  \\\n",
       "0            1   \n",
       "1            3   \n",
       "2            4   \n",
       "3            4   \n",
       "4            4   \n",
       "\n",
       "                                                                                                                                                                                                                                                                                                                                                                                                                                                                                                                                                                                                                                                                                                                                                                                                                                                                                                                                                                                                                   sentence_chunk  \\\n",
       "0                                                                                                                                                                                                                                                                                                                                                                                                                                                                                                                                                                                                                                                                                                                                                                          CONVOCATORIA A LA PAZ GRANDE Declaración de la Comisión para el Esclarecimiento de la Verdad, la Convivencia y la No Repetición HAY FUTURO si hay verdad INFORME FINAL Comisión para el Esclarecimieto de la Verdad, la Convivencia y la No Repetición   \n",
       "1                                                                                                                                                                                                                                                                                                                                                                                                                                                                                                                                                                                                                                                                                                                                                                                                                                                          CONVOCATORIA A LA PAZ GRANDE DECLARACIÓN DE LA COMISIÓN PARA EL ESCLARECIMIENTO DE LA VERDAD, LA CONVIVENCIA Y LA NO REPETICIÓN HAY FUTURO si hay verdad INFORME FINAL   \n",
       "2  Colombia. Comisión de la Verdad, autor Hay futuro si hay verdad : Informe Final de la Comisión para el Esclarecimiento de la Verdad, la Convivencia y la No Repetición. --Primera edición. --Bogotá : Comisión de la Verdad, 2022.11 tomos en 24 volúmenes : ilustraciones, diagramas, fotografías y mapas a color. Incluye referencias bibliográficas ISBN 78-958-53874-3-0 (Obra completa impreso) ISBN 978-958-53874-4-7 (T omo 1 impreso) ISBN 978-628-7590-18-2 (Obra completa digital) ISBN 978-628-7590-19-9 (T omo 1 digital) T omo 1. Convocatoria a la paz grande: declaración de la Comisión para el Esclarecimiento de la Verdad, la Convivencia y la No Repetición -- T omo 2. Hallazgos y recomendaciones de la Comisión de la Verdad de Colombia -- T omo 3. No matarás: relato histórico del conflicto armado interno en Colombia -- T omo 4. Hasta la guerra tiene límites: violaciones de los derechos humanos, infracciones al derecho internacional humanitario y responsabilidades colectivas -- T omo 5.   \n",
       "3                                                                                                                                                                                                                                                                                                                                    Sufrir la guerra y rehacer la vida: impactos, afrontamientos y resistencias -- T omo 6. Cuando los pájaros no cantaban: historias del conflicto armado en Colombia, tomo testimonial -- T omo 7. Mi cuerpo es la verdad: experiencias de mujeres y personas LGBTIQ+ en el conflicto armado -- T omo 8. No es un mal menor: niñas, niños y adolescentes en el conflicto armado -- T omo 9. Resistir no es aguantar: violencias y daños contra los pueblos étnicos de Colombia -- T omo 10. La Colombia fuera de Colombia: las verdades del exilio -- T omo 11. Colombia adentro: relatos territoriales sobre el conflicto armado -- T omo 11.vol. 1. Ensayo introductorio -- T omo 11.vol. 2.   \n",
       "4                                                                                                                                                                                                                                                                                                                                                                                                                                                                                                                                                                                                                                                                                                                                                                                             Amazonía -- T omo 11.vol. 3. Antioquia, sur de Córdoba y Bajo Atrato chocoano -- T omo 11.vol. 4. Caribe -- T omo 11.vol. 5. Eje Cafetero -- T omo 11.vol. 6. Frontera nororiental -- T omo 11 vol. 7. Magdalena Medio -- T omo 11.   \n",
       "\n",
       "   chunk_char_count  chunk_word_count  chunk_token_count  \\\n",
       "0               246                41              61.50   \n",
       "1               166                28              41.50   \n",
       "2               990               154             247.50   \n",
       "3               668               118             167.00   \n",
       "4               227                46              56.75   \n",
       "\n",
       "                                                                                                                                                                                                                                                                                                                                                                                                                                                                                                                                                                                                                                                                                                                                                                                                                                                                                                                                                                                                                                                                                                                                                                                                                                                                                                                                                                                                                                                                                                        embedding  \n",
       "0    [0.054544583, -0.0305698626, -0.0147332065, -0.0876460299, 0.0514577776, -0.0369293727, 0.0629916489, 0.019098144, 0.050256826, -0.00925450772, 0.050112579, 0.0306189153, 0.0955730751, -0.0513730161, -0.071640797, 0.0392933041, 0.0575271621, -0.0513946265, -0.0419153199, -0.0521836951, -0.00238637836, -0.0143839819, -0.0588041283, 0.047551021, 0.0712912455, 0.0515542217, -0.0104561383, 0.0275732074, 0.0809945017, -0.0638215095, -0.0524784848, -0.0436107777, 0.0235532075, -0.0721463189, 0.0549632087, 0.045113951, -0.0110084666, -0.00807763729, 0.066987671, -0.0708252713, -0.0560910404, 0.0483264551, 0.0166522469, 0.0821114108, 0.0998474509, 0.0995736495, -0.0560776629, 0.0901174322, 0.00566136977, -0.00794472732, -0.053032849, 0.0392442197, 0.00936623476, 0.0492326058, 0.00539242849, -0.0763363168, -0.0430026464, -0.0505377464, -0.0181750432, 0.0683801994, 0.031928733, 0.0274546929, -0.0170384962, 0.0342210941, 0.0747781545, 0.0366027914, 0.0117146131, 0.0334655605, -0.0277754422, -0.032208655, -0.0553734414, 0.0624219961, -0.0140580414, -0.0234924089, 0.0080997739, 0.0446227863, -0.00323499949, -0.0584510043, 0.0657979101, -0.0377123132, -0.0532850996, -0.0592261478, -0.0591939911, 0.048559729, -0.00415665796, 0.0589893125, 0.0500637554, -0.0654141903, 0.0683691353, -0.0221633054, 0.0313288867, 0.0431989394, -0.0453857966, -0.0713768527, -0.0466885082, -0.0636169836, -0.0455872528, 0.0416023508, 0.0844624862, -0.0365205109, ...]  \n",
       "1                                                                                                                                                                                                                     [0.05722642, -0.02348239, -0.00379216, -0.08383928, 0.04167465, -0.02343217, 0.06779027, 0.02007096, 0.04476066, 0.00512364, 0.0541854, 0.03528871, 0.09124656, -0.06376433, -0.07725991, 0.04055487, 0.05268047, -0.05263355, -0.04359716, -0.05806509, -0.01503354, -0.00897129, -0.05729976, 0.04774727, 0.07305452, 0.06733178, -0.01753112, 0.0175347, 0.08232471, -0.06017032, -0.04756224, -0.05270529, 0.02559695, -0.0656747, 0.05832184, 0.0401049, -0.01359195, -0.01090067, 0.05831478, -0.07104331, -0.07226815, 0.04824624, 0.01301463, 0.08234797, 0.09528693, 0.09629964, -0.0705405, 0.09215511, 0.01215349, 0.00579001, -0.05148226, 0.0332392, 0.02290021, 0.04931461, 0.01040563, -0.07624569, -0.03703625, -0.04792013, -0.02373423, 0.06832269, 0.04034891, 0.03958405, -0.00250533, 0.03990287, 0.07125162, 0.03575627, 0.01600623, 0.04163025, -0.03450909, -0.03160069, -0.05199289, 0.07115954, -0.0184343, -0.02079045, -0.00095989, 0.03547022, -0.00708181, -0.04258776, 0.06085002, -0.02820026, -0.06159686, -0.06424065, -0.05238286, 0.05067859, -0.00480119, 0.06562432, 0.04932638, -0.06782414, 0.07874397, -0.014806, 0.04746247, 0.0390923, -0.04236174, -0.0681073, -0.03264464, -0.05811317, -0.04765419, 0.04730307, 0.06602591, -0.03450665, ...]  \n",
       "2                                                                                                                                                                                                                   [-0.00306266, -0.00142874, -0.03494273, -0.08379728, 0.04442536, -0.03479797, 0.06490885, 0.03924652, 0.0498319, -0.0004254, 0.01789415, 0.03778847, 0.0395234, -0.02724014, -0.05216924, 0.03443564, 0.04911456, -0.0400909, -0.0369646, -0.00635658, 0.00982744, 0.00823861, -0.03353712, 0.05915103, 0.05552579, 0.06344363, -0.04204533, 0.04830735, 0.10518305, -0.02374873, -0.04675655, -0.03915523, 0.00806646, -0.07935042, 0.0751425, 0.02086177, -0.02307189, -0.03149092, 0.06328224, -0.05349987, -0.08356564, 0.01318463, 0.03376833, 0.08240806, 0.05793719, 0.08381847, -0.02493167, 0.04362293, -0.00340363, -0.00737266, -0.04858121, 0.02749231, 0.02781435, 0.02000369, 0.01998606, -0.08375365, -0.06658598, -0.02826638, -0.04668547, 0.02028009, 0.03735768, -0.01738561, -0.01257792, 0.01762706, 0.02684363, 0.02067816, 0.03383968, 0.05072993, -0.03844784, -0.01920847, -0.03041708, 0.08605762, -0.02194311, -0.02958839, 0.00546046, 0.04398729, -0.00428314, -0.03086381, 0.02516891, -0.08556458, -0.05097705, -0.06559138, -0.03360556, 0.03457967, -0.04279698, 0.11739347, 0.07240123, -0.06942865, 0.07467292, -0.02655, 0.02727919, 0.05930616, -0.07549697, -0.10686524, -0.01377212, -0.05934265, -0.0391679, 0.0176386, 0.07452914, -0.03538009, ...]  \n",
       "3  [0.0274554696, -0.0148987845, -0.0327237844, -0.0674961805, 0.0437336974, -0.0466919504, 0.0508215763, 0.030658301, 0.0475660414, 0.00131810422, 0.0252792779, 0.030363787, 0.0482488126, 0.0072228536, -0.0427992158, 0.0517467149, 0.0554383695, -0.0687257499, -0.0386134088, -0.0165109299, 0.0147068808, -0.0157368556, -0.0327705145, 0.0707696751, 0.0431685001, 0.0323112756, -0.0205712672, 0.0592344031, 0.0647776872, -0.0615765937, -0.00578751648, -0.0150521826, 0.00965883397, -0.0851904079, 0.088902846, 0.0124509782, -0.055288665, -0.0405533575, 0.0540871359, -0.0681156293, -0.0700177774, -0.00435600057, 0.0596322417, 0.0866408646, 0.0302330032, 0.0727137029, -8.97631835e-05, 0.0904016644, -0.0457447842, -0.0414294079, -0.0465779789, 0.034504354, 0.0345775895, 0.0620460622, 0.0481686294, -0.0816803053, -0.0694669038, -0.0338795856, -0.0880490839, 0.038428627, 0.0434794985, -0.00738806603, 0.00195340067, 0.0324630663, 0.0642773956, 0.0365679786, 0.0479812101, 0.0504243448, -0.0312095378, -0.0145311235, -0.0175213311, 0.0963408947, -0.0249375738, -0.000206544093, 0.0160064455, 0.0423320197, 0.00828582421, -0.0481206924, 0.0516718477, -0.0540406555, -0.0583070777, -0.0654039085, -0.0523829907, 0.0372206606, -0.0409981012, 0.102748364, 0.060275577, -0.0818497837, 0.0880634487, -0.0474527106, 0.043027807, 0.0378306024, -0.0713657141, -0.072082743, -0.0696022511, -0.0577824302, -0.0510532856, 0.0555546768, 0.0745531321, -0.0691262931, ...]  \n",
       "4                                                                                                                                                                                                                                  [0.04435137, -0.00612882, -0.06389345, -0.07139049, 0.06220633, -0.05654259, 0.0289662, 0.03640248, 0.05852466, 0.01240099, 0.05475616, 0.01956502, 0.03643408, -0.00428777, -0.05270023, 0.08353875, 0.05199188, -0.02627826, -0.05541346, -0.04834376, 0.0263324, -0.0154305, -0.088261, 0.0391211, 0.03812011, 0.05227423, -0.0207237, 0.0508484, 0.04425184, -0.08390459, -0.01734123, 0.00597439, 0.02754408, -0.0662314, 0.07376437, -0.0061507, -0.02641929, -0.01570215, 0.02882642, -0.05345957, -0.0573697, 0.03387725, 0.04430316, 0.09060307, 0.03218295, 0.05988016, 0.01724288, 0.0531424, -0.06025145, -0.03605564, -0.0462219, 0.0569348, -0.00397803, 0.0661925, 0.03924797, -0.03659187, -0.09121815, -0.0400766, -0.05483892, 0.04048724, 0.02299372, 0.00639132, 0.00520602, 0.04167266, 0.07112037, 0.05442795, 0.04879593, 0.07528963, -0.0182203, -0.03090903, -0.01995391, 0.0822003, -0.00846555, -0.01236436, 0.01273426, 0.0157553, 0.06184711, -0.03354117, -0.00844389, -0.04300232, -0.05343782, -0.04979971, -0.05441965, 0.01075977, -0.01580088, 0.08650699, 0.03873061, -0.07041404, 0.06444906, -0.04170265, 0.0478446, 0.0411936, -0.07113568, -0.0760679, -0.06274342, -0.0478874, -0.07827132, 0.06455266, 0.05654798, -0.04852873, ...]  "
      ],
      "text/html": [
       "<div>\n",
       "<style scoped>\n",
       "    .dataframe tbody tr th:only-of-type {\n",
       "        vertical-align: middle;\n",
       "    }\n",
       "\n",
       "    .dataframe tbody tr th {\n",
       "        vertical-align: top;\n",
       "    }\n",
       "\n",
       "    .dataframe thead th {\n",
       "        text-align: right;\n",
       "    }\n",
       "</style>\n",
       "<table border=\"1\" class=\"dataframe\">\n",
       "  <thead>\n",
       "    <tr style=\"text-align: right;\">\n",
       "      <th></th>\n",
       "      <th>page_number</th>\n",
       "      <th>sentence_chunk</th>\n",
       "      <th>chunk_char_count</th>\n",
       "      <th>chunk_word_count</th>\n",
       "      <th>chunk_token_count</th>\n",
       "      <th>embedding</th>\n",
       "    </tr>\n",
       "  </thead>\n",
       "  <tbody>\n",
       "    <tr>\n",
       "      <th>0</th>\n",
       "      <td>1</td>\n",
       "      <td>CONVOCATORIA A LA PAZ GRANDE Declaración de la Comisión para el Esclarecimiento de la Verdad, la Convivencia y la No Repetición HAY FUTURO si hay verdad INFORME FINAL Comisión para el Esclarecimieto de la Verdad, la Convivencia y la No Repetición</td>\n",
       "      <td>246</td>\n",
       "      <td>41</td>\n",
       "      <td>61.50</td>\n",
       "      <td>[0.054544583, -0.0305698626, -0.0147332065, -0.0876460299, 0.0514577776, -0.0369293727, 0.0629916489, 0.019098144, 0.050256826, -0.00925450772, 0.050112579, 0.0306189153, 0.0955730751, -0.0513730161, -0.071640797, 0.0392933041, 0.0575271621, -0.0513946265, -0.0419153199, -0.0521836951, -0.00238637836, -0.0143839819, -0.0588041283, 0.047551021, 0.0712912455, 0.0515542217, -0.0104561383, 0.0275732074, 0.0809945017, -0.0638215095, -0.0524784848, -0.0436107777, 0.0235532075, -0.0721463189, 0.0549632087, 0.045113951, -0.0110084666, -0.00807763729, 0.066987671, -0.0708252713, -0.0560910404, 0.0483264551, 0.0166522469, 0.0821114108, 0.0998474509, 0.0995736495, -0.0560776629, 0.0901174322, 0.00566136977, -0.00794472732, -0.053032849, 0.0392442197, 0.00936623476, 0.0492326058, 0.00539242849, -0.0763363168, -0.0430026464, -0.0505377464, -0.0181750432, 0.0683801994, 0.031928733, 0.0274546929, -0.0170384962, 0.0342210941, 0.0747781545, 0.0366027914, 0.0117146131, 0.0334655605, -0.0277754422, -0.032208655, -0.0553734414, 0.0624219961, -0.0140580414, -0.0234924089, 0.0080997739, 0.0446227863, -0.00323499949, -0.0584510043, 0.0657979101, -0.0377123132, -0.0532850996, -0.0592261478, -0.0591939911, 0.048559729, -0.00415665796, 0.0589893125, 0.0500637554, -0.0654141903, 0.0683691353, -0.0221633054, 0.0313288867, 0.0431989394, -0.0453857966, -0.0713768527, -0.0466885082, -0.0636169836, -0.0455872528, 0.0416023508, 0.0844624862, -0.0365205109, ...]</td>\n",
       "    </tr>\n",
       "    <tr>\n",
       "      <th>1</th>\n",
       "      <td>3</td>\n",
       "      <td>CONVOCATORIA A LA PAZ GRANDE DECLARACIÓN DE LA COMISIÓN PARA EL ESCLARECIMIENTO DE LA VERDAD, LA CONVIVENCIA Y LA NO REPETICIÓN HAY FUTURO si hay verdad INFORME FINAL</td>\n",
       "      <td>166</td>\n",
       "      <td>28</td>\n",
       "      <td>41.50</td>\n",
       "      <td>[0.05722642, -0.02348239, -0.00379216, -0.08383928, 0.04167465, -0.02343217, 0.06779027, 0.02007096, 0.04476066, 0.00512364, 0.0541854, 0.03528871, 0.09124656, -0.06376433, -0.07725991, 0.04055487, 0.05268047, -0.05263355, -0.04359716, -0.05806509, -0.01503354, -0.00897129, -0.05729976, 0.04774727, 0.07305452, 0.06733178, -0.01753112, 0.0175347, 0.08232471, -0.06017032, -0.04756224, -0.05270529, 0.02559695, -0.0656747, 0.05832184, 0.0401049, -0.01359195, -0.01090067, 0.05831478, -0.07104331, -0.07226815, 0.04824624, 0.01301463, 0.08234797, 0.09528693, 0.09629964, -0.0705405, 0.09215511, 0.01215349, 0.00579001, -0.05148226, 0.0332392, 0.02290021, 0.04931461, 0.01040563, -0.07624569, -0.03703625, -0.04792013, -0.02373423, 0.06832269, 0.04034891, 0.03958405, -0.00250533, 0.03990287, 0.07125162, 0.03575627, 0.01600623, 0.04163025, -0.03450909, -0.03160069, -0.05199289, 0.07115954, -0.0184343, -0.02079045, -0.00095989, 0.03547022, -0.00708181, -0.04258776, 0.06085002, -0.02820026, -0.06159686, -0.06424065, -0.05238286, 0.05067859, -0.00480119, 0.06562432, 0.04932638, -0.06782414, 0.07874397, -0.014806, 0.04746247, 0.0390923, -0.04236174, -0.0681073, -0.03264464, -0.05811317, -0.04765419, 0.04730307, 0.06602591, -0.03450665, ...]</td>\n",
       "    </tr>\n",
       "    <tr>\n",
       "      <th>2</th>\n",
       "      <td>4</td>\n",
       "      <td>Colombia. Comisión de la Verdad, autor Hay futuro si hay verdad : Informe Final de la Comisión para el Esclarecimiento de la Verdad, la Convivencia y la No Repetición. --Primera edición. --Bogotá : Comisión de la Verdad, 2022.11 tomos en 24 volúmenes : ilustraciones, diagramas, fotografías y mapas a color. Incluye referencias bibliográficas ISBN 78-958-53874-3-0 (Obra completa impreso) ISBN 978-958-53874-4-7 (T omo 1 impreso) ISBN 978-628-7590-18-2 (Obra completa digital) ISBN 978-628-7590-19-9 (T omo 1 digital) T omo 1. Convocatoria a la paz grande: declaración de la Comisión para el Esclarecimiento de la Verdad, la Convivencia y la No Repetición -- T omo 2. Hallazgos y recomendaciones de la Comisión de la Verdad de Colombia -- T omo 3. No matarás: relato histórico del conflicto armado interno en Colombia -- T omo 4. Hasta la guerra tiene límites: violaciones de los derechos humanos, infracciones al derecho internacional humanitario y responsabilidades colectivas -- T omo 5.</td>\n",
       "      <td>990</td>\n",
       "      <td>154</td>\n",
       "      <td>247.50</td>\n",
       "      <td>[-0.00306266, -0.00142874, -0.03494273, -0.08379728, 0.04442536, -0.03479797, 0.06490885, 0.03924652, 0.0498319, -0.0004254, 0.01789415, 0.03778847, 0.0395234, -0.02724014, -0.05216924, 0.03443564, 0.04911456, -0.0400909, -0.0369646, -0.00635658, 0.00982744, 0.00823861, -0.03353712, 0.05915103, 0.05552579, 0.06344363, -0.04204533, 0.04830735, 0.10518305, -0.02374873, -0.04675655, -0.03915523, 0.00806646, -0.07935042, 0.0751425, 0.02086177, -0.02307189, -0.03149092, 0.06328224, -0.05349987, -0.08356564, 0.01318463, 0.03376833, 0.08240806, 0.05793719, 0.08381847, -0.02493167, 0.04362293, -0.00340363, -0.00737266, -0.04858121, 0.02749231, 0.02781435, 0.02000369, 0.01998606, -0.08375365, -0.06658598, -0.02826638, -0.04668547, 0.02028009, 0.03735768, -0.01738561, -0.01257792, 0.01762706, 0.02684363, 0.02067816, 0.03383968, 0.05072993, -0.03844784, -0.01920847, -0.03041708, 0.08605762, -0.02194311, -0.02958839, 0.00546046, 0.04398729, -0.00428314, -0.03086381, 0.02516891, -0.08556458, -0.05097705, -0.06559138, -0.03360556, 0.03457967, -0.04279698, 0.11739347, 0.07240123, -0.06942865, 0.07467292, -0.02655, 0.02727919, 0.05930616, -0.07549697, -0.10686524, -0.01377212, -0.05934265, -0.0391679, 0.0176386, 0.07452914, -0.03538009, ...]</td>\n",
       "    </tr>\n",
       "    <tr>\n",
       "      <th>3</th>\n",
       "      <td>4</td>\n",
       "      <td>Sufrir la guerra y rehacer la vida: impactos, afrontamientos y resistencias -- T omo 6. Cuando los pájaros no cantaban: historias del conflicto armado en Colombia, tomo testimonial -- T omo 7. Mi cuerpo es la verdad: experiencias de mujeres y personas LGBTIQ+ en el conflicto armado -- T omo 8. No es un mal menor: niñas, niños y adolescentes en el conflicto armado -- T omo 9. Resistir no es aguantar: violencias y daños contra los pueblos étnicos de Colombia -- T omo 10. La Colombia fuera de Colombia: las verdades del exilio -- T omo 11. Colombia adentro: relatos territoriales sobre el conflicto armado -- T omo 11.vol. 1. Ensayo introductorio -- T omo 11.vol. 2.</td>\n",
       "      <td>668</td>\n",
       "      <td>118</td>\n",
       "      <td>167.00</td>\n",
       "      <td>[0.0274554696, -0.0148987845, -0.0327237844, -0.0674961805, 0.0437336974, -0.0466919504, 0.0508215763, 0.030658301, 0.0475660414, 0.00131810422, 0.0252792779, 0.030363787, 0.0482488126, 0.0072228536, -0.0427992158, 0.0517467149, 0.0554383695, -0.0687257499, -0.0386134088, -0.0165109299, 0.0147068808, -0.0157368556, -0.0327705145, 0.0707696751, 0.0431685001, 0.0323112756, -0.0205712672, 0.0592344031, 0.0647776872, -0.0615765937, -0.00578751648, -0.0150521826, 0.00965883397, -0.0851904079, 0.088902846, 0.0124509782, -0.055288665, -0.0405533575, 0.0540871359, -0.0681156293, -0.0700177774, -0.00435600057, 0.0596322417, 0.0866408646, 0.0302330032, 0.0727137029, -8.97631835e-05, 0.0904016644, -0.0457447842, -0.0414294079, -0.0465779789, 0.034504354, 0.0345775895, 0.0620460622, 0.0481686294, -0.0816803053, -0.0694669038, -0.0338795856, -0.0880490839, 0.038428627, 0.0434794985, -0.00738806603, 0.00195340067, 0.0324630663, 0.0642773956, 0.0365679786, 0.0479812101, 0.0504243448, -0.0312095378, -0.0145311235, -0.0175213311, 0.0963408947, -0.0249375738, -0.000206544093, 0.0160064455, 0.0423320197, 0.00828582421, -0.0481206924, 0.0516718477, -0.0540406555, -0.0583070777, -0.0654039085, -0.0523829907, 0.0372206606, -0.0409981012, 0.102748364, 0.060275577, -0.0818497837, 0.0880634487, -0.0474527106, 0.043027807, 0.0378306024, -0.0713657141, -0.072082743, -0.0696022511, -0.0577824302, -0.0510532856, 0.0555546768, 0.0745531321, -0.0691262931, ...]</td>\n",
       "    </tr>\n",
       "    <tr>\n",
       "      <th>4</th>\n",
       "      <td>4</td>\n",
       "      <td>Amazonía -- T omo 11.vol. 3. Antioquia, sur de Córdoba y Bajo Atrato chocoano -- T omo 11.vol. 4. Caribe -- T omo 11.vol. 5. Eje Cafetero -- T omo 11.vol. 6. Frontera nororiental -- T omo 11 vol. 7. Magdalena Medio -- T omo 11.</td>\n",
       "      <td>227</td>\n",
       "      <td>46</td>\n",
       "      <td>56.75</td>\n",
       "      <td>[0.04435137, -0.00612882, -0.06389345, -0.07139049, 0.06220633, -0.05654259, 0.0289662, 0.03640248, 0.05852466, 0.01240099, 0.05475616, 0.01956502, 0.03643408, -0.00428777, -0.05270023, 0.08353875, 0.05199188, -0.02627826, -0.05541346, -0.04834376, 0.0263324, -0.0154305, -0.088261, 0.0391211, 0.03812011, 0.05227423, -0.0207237, 0.0508484, 0.04425184, -0.08390459, -0.01734123, 0.00597439, 0.02754408, -0.0662314, 0.07376437, -0.0061507, -0.02641929, -0.01570215, 0.02882642, -0.05345957, -0.0573697, 0.03387725, 0.04430316, 0.09060307, 0.03218295, 0.05988016, 0.01724288, 0.0531424, -0.06025145, -0.03605564, -0.0462219, 0.0569348, -0.00397803, 0.0661925, 0.03924797, -0.03659187, -0.09121815, -0.0400766, -0.05483892, 0.04048724, 0.02299372, 0.00639132, 0.00520602, 0.04167266, 0.07112037, 0.05442795, 0.04879593, 0.07528963, -0.0182203, -0.03090903, -0.01995391, 0.0822003, -0.00846555, -0.01236436, 0.01273426, 0.0157553, 0.06184711, -0.03354117, -0.00844389, -0.04300232, -0.05343782, -0.04979971, -0.05441965, 0.01075977, -0.01580088, 0.08650699, 0.03873061, -0.07041404, 0.06444906, -0.04170265, 0.0478446, 0.0411936, -0.07113568, -0.0760679, -0.06274342, -0.0478874, -0.07827132, 0.06455266, 0.05654798, -0.04852873, ...]</td>\n",
       "    </tr>\n",
       "  </tbody>\n",
       "</table>\n",
       "</div>"
      ]
     },
     "execution_count": 39,
     "metadata": {},
     "output_type": "execute_result"
    }
   ],
   "execution_count": 39
  },
  {
   "cell_type": "code",
   "source": [
    "embeddings[0]"
   ],
   "metadata": {
    "id": "sifq0vwZHQWL",
    "ExecuteTime": {
     "end_time": "2025-07-07T15:27:29.732306Z",
     "start_time": "2025-07-07T15:27:29.662710Z"
    }
   },
   "outputs": [
    {
     "data": {
      "text/plain": [
       "tensor([ 5.4545e-02, -3.0570e-02, -1.4733e-02, -8.7646e-02,  5.1458e-02,\n",
       "        -3.6929e-02,  6.2992e-02,  1.9098e-02,  5.0257e-02, -9.2545e-03,\n",
       "         5.0113e-02,  3.0619e-02,  9.5573e-02, -5.1373e-02, -7.1641e-02,\n",
       "         3.9293e-02,  5.7527e-02, -5.1395e-02, -4.1915e-02, -5.2184e-02,\n",
       "        -2.3864e-03, -1.4384e-02, -5.8804e-02,  4.7551e-02,  7.1291e-02,\n",
       "         5.1554e-02, -1.0456e-02,  2.7573e-02,  8.0995e-02, -6.3822e-02,\n",
       "        -5.2478e-02, -4.3611e-02,  2.3553e-02, -7.2146e-02,  5.4963e-02,\n",
       "         4.5114e-02, -1.1008e-02, -8.0776e-03,  6.6988e-02, -7.0825e-02,\n",
       "        -5.6091e-02,  4.8326e-02,  1.6652e-02,  8.2111e-02,  9.9847e-02,\n",
       "         9.9574e-02, -5.6078e-02,  9.0117e-02,  5.6614e-03, -7.9447e-03,\n",
       "        -5.3033e-02,  3.9244e-02,  9.3662e-03,  4.9233e-02,  5.3924e-03,\n",
       "        -7.6336e-02, -4.3003e-02, -5.0538e-02, -1.8175e-02,  6.8380e-02,\n",
       "         3.1929e-02,  2.7455e-02, -1.7038e-02,  3.4221e-02,  7.4778e-02,\n",
       "         3.6603e-02,  1.1715e-02,  3.3466e-02, -2.7775e-02, -3.2209e-02,\n",
       "        -5.5373e-02,  6.2422e-02, -1.4058e-02, -2.3492e-02,  8.0998e-03,\n",
       "         4.4623e-02, -3.2350e-03, -5.8451e-02,  6.5798e-02, -3.7712e-02,\n",
       "        -5.3285e-02, -5.9226e-02, -5.9194e-02,  4.8560e-02, -4.1567e-03,\n",
       "         5.8989e-02,  5.0064e-02, -6.5414e-02,  6.8369e-02, -2.2163e-02,\n",
       "         3.1329e-02,  4.3199e-02, -4.5386e-02, -7.1377e-02, -4.6689e-02,\n",
       "        -6.3617e-02, -4.5587e-02,  4.1602e-02,  8.4462e-02, -3.6521e-02,\n",
       "         7.0348e-02, -8.7074e-02,  3.5236e-02, -8.0380e-02, -3.3432e-02,\n",
       "         4.5861e-02, -2.8301e-02, -4.8698e-02,  7.3639e-02, -3.3387e-02,\n",
       "        -9.0429e-03,  1.4063e-02,  2.9528e-02,  4.7096e-02, -3.9941e-02,\n",
       "        -4.5636e-02,  1.3308e-02, -9.5745e-02,  5.4818e-02, -5.1354e-02,\n",
       "         9.9144e-02,  1.9849e-02, -3.2563e-02, -5.0998e-02, -4.9774e-02,\n",
       "        -3.5671e-02,  4.5685e-02,  5.1017e-02,  3.1101e-02,  5.7689e-02,\n",
       "         6.2085e-02,  3.9537e-02,  4.2047e-02,  4.5637e-02,  7.2797e-02,\n",
       "         1.1539e-01, -8.0646e-02,  3.9024e-03,  2.4713e-03, -5.3618e-02,\n",
       "        -6.2399e-02,  4.0494e-02, -2.9036e-02,  3.2322e-02,  1.0416e-02,\n",
       "         4.1300e-02,  6.5773e-02,  7.3956e-05,  6.3744e-02, -7.8089e-02,\n",
       "         3.7683e-02, -4.8808e-02,  4.5993e-03,  5.1001e-02,  4.0522e-02,\n",
       "        -2.9494e-02, -3.2049e-02, -3.2845e-02,  5.0138e-02,  5.6630e-02,\n",
       "        -5.4923e-02, -5.0592e-02, -8.0345e-02, -4.4514e-02, -5.8393e-02,\n",
       "        -5.6044e-02,  1.6853e-02,  5.1854e-02, -8.4038e-02, -5.8908e-02,\n",
       "        -4.9111e-02,  6.8455e-02, -5.5549e-02,  6.2499e-02, -2.9724e-02,\n",
       "         5.2895e-02, -6.3783e-02,  2.6017e-02,  5.3220e-02,  5.1305e-02,\n",
       "        -1.4787e-02, -2.3984e-02, -2.1193e-02, -4.3603e-02, -8.0218e-02,\n",
       "        -1.8325e-02, -1.2666e-02, -1.4814e-02,  3.3460e-03, -4.8957e-02,\n",
       "        -2.8381e-02,  1.3941e-02, -5.7447e-02, -4.7910e-02, -8.9613e-02,\n",
       "         5.8193e-02, -2.2228e-02,  6.9220e-02,  2.2373e-02,  4.3971e-02,\n",
       "        -2.4547e-02,  2.3066e-03,  5.8055e-02,  2.1355e-02,  5.3055e-02,\n",
       "        -6.4772e-03, -4.7886e-03,  5.0871e-03, -6.4075e-02,  1.5767e-02,\n",
       "         1.6021e-02, -4.4483e-02, -7.0393e-02,  7.6774e-02, -4.9762e-02,\n",
       "        -2.7402e-02, -4.1839e-03,  3.9245e-02, -5.5333e-02,  1.5474e-02,\n",
       "         4.8295e-02,  6.9624e-03,  1.9724e-02, -6.0994e-02, -1.2192e-02,\n",
       "         5.9130e-02,  2.1273e-02, -2.5279e-02, -9.6425e-02, -7.3213e-03,\n",
       "        -5.2953e-02, -4.5760e-02, -2.3345e-02, -9.5633e-02, -4.5951e-02,\n",
       "        -1.0985e-01,  1.4604e-02,  3.3417e-02,  7.0506e-02, -6.3197e-02,\n",
       "        -1.9834e-02, -3.6364e-02,  6.9653e-02, -5.4965e-02,  7.4829e-02,\n",
       "        -1.7571e-02, -5.1478e-02,  5.6345e-02, -2.4264e-02,  4.9567e-02,\n",
       "         3.2246e-02, -6.2617e-02, -6.1535e-02, -9.3485e-02, -4.0745e-02,\n",
       "         5.6464e-02,  1.3532e-02,  5.9850e-02, -8.4001e-02,  5.3744e-02,\n",
       "         2.1183e-02, -3.6032e-02,  8.2706e-02,  4.1906e-02,  2.8298e-02,\n",
       "         2.8457e-02, -5.2865e-02,  3.1536e-02, -4.3259e-02, -4.8534e-02,\n",
       "        -5.0206e-02,  9.6433e-05,  5.5135e-02, -5.1712e-02, -7.0572e-02,\n",
       "        -2.6167e-02,  1.3718e-02,  6.7055e-02, -6.1503e-02, -3.0411e-02,\n",
       "         9.2319e-02, -2.5524e-02,  7.3861e-02,  3.6805e-02,  4.7764e-02,\n",
       "        -4.8403e-03, -2.2716e-02,  4.9314e-02, -2.9468e-02,  4.6553e-03,\n",
       "        -2.5729e-02, -6.4795e-02,  4.8965e-02, -4.1454e-02,  2.0326e-02,\n",
       "         5.0691e-02, -1.4865e-02,  6.3228e-02, -2.1542e-02,  4.1906e-02,\n",
       "        -6.4545e-03, -5.2553e-02,  2.4875e-02,  7.1523e-02, -9.7471e-02,\n",
       "        -2.1486e-02,  2.8418e-03,  2.6000e-03,  4.2886e-02,  8.9333e-02,\n",
       "         5.2726e-02,  5.7261e-02, -5.6866e-02, -1.5867e-02,  3.8266e-02,\n",
       "         5.0074e-02, -2.0200e-02,  7.8771e-02, -7.4448e-02, -5.5290e-02,\n",
       "        -1.1485e-01, -3.9003e-02, -2.0317e-02, -4.2785e-02,  7.7403e-02,\n",
       "         5.7850e-02, -3.1793e-02, -3.2604e-02,  4.4863e-02, -2.3067e-02,\n",
       "         7.0973e-02, -3.2167e-02, -7.2756e-02,  4.2093e-02, -6.5670e-02,\n",
       "         5.4095e-04, -2.5171e-02,  3.3065e-02, -4.0693e-02, -5.6131e-02,\n",
       "         5.5826e-02,  8.0634e-02, -2.6724e-02,  8.3850e-02, -4.6426e-02,\n",
       "        -3.7925e-02,  2.9787e-02, -3.5933e-02, -3.9655e-02,  2.4183e-02,\n",
       "         5.5280e-02, -1.3737e-01,  6.6365e-03,  6.8372e-02, -7.7050e-02,\n",
       "         5.0014e-02, -5.5497e-02, -2.5260e-02,  5.9555e-02,  2.9044e-02,\n",
       "        -6.9694e-02, -2.8420e-02,  6.3555e-02,  5.4101e-02,  7.9595e-02,\n",
       "        -7.6893e-03, -8.4607e-03, -2.4968e-02,  4.5093e-02, -3.1149e-02,\n",
       "         3.1560e-02,  6.7332e-02, -4.8538e-02,  1.0972e-03, -1.3920e-02,\n",
       "        -6.3250e-02, -7.2529e-02,  6.4638e-02, -6.9636e-02, -6.0716e-02,\n",
       "         5.0707e-02,  4.7289e-02,  4.0937e-02,  6.2227e-02], device='cuda:0')"
      ]
     },
     "execution_count": 40,
     "metadata": {},
     "output_type": "execute_result"
    }
   ],
   "execution_count": 40
  },
  {
   "cell_type": "code",
   "source": [
    "\n",
    "from sentence_transformers import util, SentenceTransformer\n",
    "\n",
    "embedding_model = SentenceTransformer(model_name_or_path=\"intfloat/multilingual-e5-small\",\n",
    "                                      device=device) # choose the device to load the model to"
   ],
   "metadata": {
    "id": "8d9B_qhlHdh8",
    "ExecuteTime": {
     "end_time": "2025-07-07T15:27:37.541600Z",
     "start_time": "2025-07-07T15:27:35.586621Z"
    }
   },
   "outputs": [],
   "execution_count": 41
  },
  {
   "cell_type": "code",
   "source": [
    "# 1. Define the query\n",
    "# Note: This could be anything. But since we're working with a nutrition textbook, we'll stick with nutrition-based queries.\n",
    "query = \"La Verdad supone una forma de movilización colectiva de la palabra también entre generaciones.\"\n",
    "query = \"La verdad es un bien público para construir un futuro en paz.\"\n",
    "print(f\"Query: {query}\")\n",
    "\n",
    "# 2. Embed the query to the same numerical space as the text examples\n",
    "# Note: It's important to embed your query with the same model you embedded your examples with.\n",
    "query_embedding = embedding_model.encode(query, convert_to_tensor=True)\n",
    "\n",
    "# 3. Get similarity scores with the dot product (we'll time this for fun)\n",
    "from time import perf_counter as timer\n",
    "\n",
    "start_time = timer()\n",
    "dot_scores = util.dot_score(a=query_embedding, b=embeddings)[0]\n",
    "end_time = timer()\n",
    "\n",
    "print(f\"Time take to get scores on {len(embeddings)} embeddings: {end_time-start_time:.5f} seconds.\")\n",
    "\n",
    "# 4. Get the top-k results (we'll keep this to 5)\n",
    "top_results_dot_product = torch.topk(dot_scores, k=5)\n",
    "top_results_dot_product"
   ],
   "metadata": {
    "id": "LpdGg-kiHpNe",
    "ExecuteTime": {
     "end_time": "2025-07-07T15:27:45.420347Z",
     "start_time": "2025-07-07T15:27:45.328190Z"
    }
   },
   "outputs": [
    {
     "name": "stdout",
     "output_type": "stream",
     "text": [
      "Query: La verdad es un bien público para construir un futuro en paz.\n",
      "Time take to get scores on 22963 embeddings: 0.03952 seconds.\n"
     ]
    },
    {
     "data": {
      "text/plain": [
       "torch.return_types.topk(\n",
       "values=tensor([0.8813, 0.8791, 0.8780, 0.8776, 0.8745], device='cuda:0'),\n",
       "indices=tensor([ 4619,     1, 19905, 17231,  2618], device='cuda:0'))"
      ]
     },
     "execution_count": 42,
     "metadata": {},
     "output_type": "execute_result"
    }
   ],
   "execution_count": 42
  },
  {
   "cell_type": "code",
   "source": [
    "larger_embeddings = torch.randn(100*embeddings.shape[0], 384).to(device) # Esto depende del modelo, 384 es el tamaño de embedding de e5-small\n",
    "print(f\"Embeddings shape: {larger_embeddings.shape}\")\n",
    "\n",
    "# Perform dot product across 168,000 embeddings\n",
    "start_time = timer()\n",
    "dot_scores = util.dot_score(a=query_embedding, b=larger_embeddings)[0]\n",
    "end_time = timer()\n",
    "\n",
    "print(f\"Time take to get scores on {len(larger_embeddings)} embeddings: {end_time-start_time:.5f} seconds.\")"
   ],
   "metadata": {
    "id": "Fp1OVJ0AC9Z2",
    "ExecuteTime": {
     "end_time": "2025-07-07T15:30:13.962855Z",
     "start_time": "2025-07-07T15:30:08.482958Z"
    }
   },
   "outputs": [
    {
     "name": "stdout",
     "output_type": "stream",
     "text": [
      "Embeddings shape: torch.Size([2296300, 384])\n",
      "Time take to get scores on 2296300 embeddings: 0.00038 seconds.\n"
     ]
    }
   ],
   "execution_count": 44
  },
  {
   "cell_type": "code",
   "source": [
    "# Define helper function to print wrapped text\n",
    "import textwrap\n",
    "\n",
    "def print_wrapped(text, wrap_length=80):\n",
    "    wrapped_text = textwrap.fill(text, wrap_length)\n",
    "    print(wrapped_text)"
   ],
   "metadata": {
    "id": "R7hTWKRdDDdD",
    "ExecuteTime": {
     "end_time": "2025-07-07T15:30:26.308438Z",
     "start_time": "2025-07-07T15:30:26.303939Z"
    }
   },
   "outputs": [],
   "execution_count": 45
  },
  {
   "cell_type": "code",
   "source": [
    "print(f\"Query: '{query}'\\n\")\n",
    "print(\"Results:\")\n",
    "# Loop through zipped together scores and indicies from torch.topk\n",
    "for score, idx in zip(top_results_dot_product[0], top_results_dot_product[1]):\n",
    "    print(f\"Score: {score:.4f}\")\n",
    "    # Print relevant sentence chunk (since the scores are in descending order, the most relevant chunk will be first)\n",
    "    print(\"Text:\")\n",
    "    print_wrapped(pages_and_chunks[idx][\"sentence_chunk\"])\n",
    "    # Print the page number too so we can reference the textbook further (and check the results)\n",
    "    print(f\"Page number: {pages_and_chunks[idx]['page_number']}\")\n",
    "    print(\"\\n\")"
   ],
   "metadata": {
    "id": "ZhJ01v47DJ5d",
    "ExecuteTime": {
     "end_time": "2025-07-07T15:30:34.585198Z",
     "start_time": "2025-07-07T15:30:34.577479Z"
    }
   },
   "outputs": [
    {
     "name": "stdout",
     "output_type": "stream",
     "text": [
      "Query: 'La verdad es un bien público para construir un futuro en paz.'\n",
      "\n",
      "Results:\n",
      "Score: 0.8813\n",
      "Text:\n",
      "https://www.comisiondelaverdad.co/impactos-afrontamientos-y-\n",
      "resistencias/proyecto-oruga-tu-busqueda-mi- esperanza.669 Consejo de Estado,\n",
      "Verdades en Convergencia, 66.\n",
      "Page number: 225\n",
      "\n",
      "\n",
      "Score: 0.8791\n",
      "Text:\n",
      "CONVOCATORIA A LA PAZ GRANDE DECLARACIÓN DE LA COMISIÓN PARA EL ESCLARECIMIENTO\n",
      "DE LA VERDAD, LA CONVIVENCIA Y LA NO REPETICIÓN HAY FUTURO si hay verdad INFORME\n",
      "FINAL\n",
      "Page number: 3\n",
      "\n",
      "\n",
      "Score: 0.8780\n",
      "Text:\n",
      "verdad, porque, tú tienes tu búsqueda, que es la búsqueda de toda la verdad, de\n",
      "lo que paso con tu papá, la búsqueda de la sanación; como país, tenemos también\n",
      "esa búsqueda, de tratar de construir a esa verdad, y, pues, efectivamente, eso\n",
      "es lo que estamos tratando de hacer, aunque no es fácil. Vamos a dejar por aquí.\n",
      "Page number: 18\n",
      "\n",
      "\n",
      "Score: 0.8776\n",
      "Text:\n",
      "Para conocer el tomo completo Sufrir la guerra y rehacer la vida, véase Informe\n",
      "Final, Comisión de la Verdad.197.196.199.198.\n",
      "Page number: 114\n",
      "\n",
      "\n",
      "Score: 0.8745\n",
      "Text:\n",
      "La Comisión de la Verdad no es un puerto de llegada, sino uno de salida, para un\n",
      "viaje que lleve a la transformación que se necesita, para que ese nunca más no\n",
      "sea un deseo bien intencionado, sino una política y un compromiso nacional.\n",
      "Dejamos, pues, nuestro aporte para que el proceso continúe y se lo apropien esta\n",
      "generación y las venideras. Este es el grano de arena que la Comisión y todo su\n",
      "equipo de trabajo entrega para que nuestros hijos, nietos y todas las futuras\n",
      "generaciones no repitan la historia de sangre y dolor que se nos ha encargado\n",
      "reconstruir. Hay futuro porque ha llegado la hora de la verdad.\n",
      "Page number: 19\n",
      "\n",
      "\n"
     ]
    }
   ],
   "execution_count": 46
  },
  {
   "cell_type": "code",
   "source": [
    "import torch\n",
    "\n",
    "def dot_product(vector1, vector2):\n",
    "    return torch.dot(vector1, vector2)\n",
    "\n",
    "def cosine_similarity(vector1, vector2):\n",
    "    dot_product = torch.dot(vector1, vector2)\n",
    "\n",
    "    # Get Euclidean/L2 norm of each vector (removes the magnitude, keeps direction)\n",
    "    norm_vector1 = torch.sqrt(torch.sum(vector1**2))\n",
    "    norm_vector2 = torch.sqrt(torch.sum(vector2**2))\n",
    "\n",
    "    return dot_product / (norm_vector1 * norm_vector2)\n",
    "\n",
    "# Example tensors\n",
    "vector1 = torch.tensor([1, 2, 3], dtype=torch.float32)\n",
    "vector2 = torch.tensor([1, 2, 3], dtype=torch.float32)\n",
    "vector3 = torch.tensor([4, 5, 6], dtype=torch.float32)\n",
    "vector4 = torch.tensor([-1, -2, -3], dtype=torch.float32)\n",
    "\n",
    "# Calculate dot product\n",
    "print(\"Dot product between vector1 and vector2:\", dot_product(vector1, vector2))\n",
    "print(\"Dot product between vector1 and vector3:\", dot_product(vector1, vector3))\n",
    "print(\"Dot product between vector1 and vector4:\", dot_product(vector1, vector4))\n",
    "\n",
    "# Calculate cosine similarity\n",
    "print(\"Cosine similarity between vector1 and vector2:\", cosine_similarity(vector1, vector2))\n",
    "print(\"Cosine similarity between vector1 and vector3:\", cosine_similarity(vector1, vector3))\n",
    "print(\"Cosine similarity between vector1 and vector4:\", cosine_similarity(vector1, vector4))"
   ],
   "metadata": {
    "id": "9U1nMpZUS2Dn",
    "ExecuteTime": {
     "end_time": "2025-07-07T15:31:52.024083Z",
     "start_time": "2025-07-07T15:31:52.016545Z"
    }
   },
   "outputs": [
    {
     "name": "stdout",
     "output_type": "stream",
     "text": [
      "Dot product between vector1 and vector2: tensor(14.)\n",
      "Dot product between vector1 and vector3: tensor(32.)\n",
      "Dot product between vector1 and vector4: tensor(-14.)\n",
      "Cosine similarity between vector1 and vector2: tensor(1.0000)\n",
      "Cosine similarity between vector1 and vector3: tensor(0.9746)\n",
      "Cosine similarity between vector1 and vector4: tensor(-1.0000)\n"
     ]
    }
   ],
   "execution_count": 47
  },
  {
   "cell_type": "code",
   "source": [
    "def retrieve_relevant_resources(query: str,\n",
    "                                embeddings: torch.tensor,\n",
    "                                model: SentenceTransformer=embedding_model,\n",
    "                                n_resources_to_return: int=5,\n",
    "                                print_time: bool=True):\n",
    "    \"\"\"\n",
    "    Embeds a query with model and returns top k scores and indices from embeddings.\n",
    "    \"\"\"\n",
    "\n",
    "    # Embed the query\n",
    "    query_embedding = model.encode(query,\n",
    "                                   convert_to_tensor=True)\n",
    "\n",
    "    # Get dot product scores on embeddings\n",
    "    start_time = timer()\n",
    "    dot_scores = util.dot_score(query_embedding, embeddings)[0]\n",
    "    end_time = timer()\n",
    "\n",
    "    if print_time:\n",
    "        print(f\"[INFO] Time taken to get scores on {len(embeddings)} embeddings: {end_time-start_time:.5f} seconds.\")\n",
    "\n",
    "    scores, indices = torch.topk(input=dot_scores,\n",
    "                                 k=n_resources_to_return)\n",
    "\n",
    "    return scores, indices\n",
    "\n",
    "def print_top_results_and_scores(query: str,\n",
    "                                 embeddings: torch.tensor,\n",
    "                                 pages_and_chunks: list[dict]=pages_and_chunks,\n",
    "                                 n_resources_to_return: int=5):\n",
    "    \"\"\"\n",
    "    Takes a query, retrieves most relevant resources and prints them out in descending order.\n",
    "\n",
    "    Note: Requires pages_and_chunks to be formatted in a specific way (see above for reference).\n",
    "    \"\"\"\n",
    "\n",
    "    scores, indices = retrieve_relevant_resources(query=query,\n",
    "                                                  embeddings=embeddings,\n",
    "                                                  n_resources_to_return=n_resources_to_return)\n",
    "\n",
    "    print(f\"Query: {query}\\n\")\n",
    "    print(\"Results:\")\n",
    "    # Loop through zipped together scores and indicies\n",
    "    for score, index in zip(scores, indices):\n",
    "        print(f\"Score: {score:.4f}\")\n",
    "        # Print relevant sentence chunk (since the scores are in descending order, the most relevant chunk will be first)\n",
    "        print_wrapped(pages_and_chunks[index][\"sentence_chunk\"])\n",
    "        # Print the page number too so we can reference the textbook further and check the results\n",
    "        print(f\"Page number: {pages_and_chunks[index]['page_number']}\")\n",
    "        print(\"\\n\")"
   ],
   "metadata": {
    "id": "-MT_OVKAS5iQ",
    "ExecuteTime": {
     "end_time": "2025-07-07T15:32:41.449875Z",
     "start_time": "2025-07-07T15:32:41.445297Z"
    }
   },
   "outputs": [],
   "execution_count": 48
  },
  {
   "cell_type": "code",
   "source": [
    "query = \"procesos de paz\"\n",
    "\n",
    "# Get just the scores and indices of top related results\n",
    "scores, indices = retrieve_relevant_resources(query=query,\n",
    "                                              embeddings=embeddings)\n",
    "scores, indices"
   ],
   "metadata": {
    "id": "cHJfLrTZS8TO",
    "ExecuteTime": {
     "end_time": "2025-07-07T15:32:47.734542Z",
     "start_time": "2025-07-07T15:32:47.680867Z"
    }
   },
   "outputs": [
    {
     "name": "stdout",
     "output_type": "stream",
     "text": [
      "[INFO] Time taken to get scores on 22963 embeddings: 0.00006 seconds.\n"
     ]
    },
    {
     "data": {
      "text/plain": [
       "(tensor([0.8805, 0.8803, 0.8784, 0.8775, 0.8770], device='cuda:0'),\n",
       " tensor([15591,    82, 15415, 17310, 14456], device='cuda:0'))"
      ]
     },
     "execution_count": 49,
     "metadata": {},
     "output_type": "execute_result"
    }
   ],
   "execution_count": 49
  },
  {
   "cell_type": "code",
   "source": [
    "# Print out the texts of the top scores\n",
    "print_top_results_and_scores(query=query,\n",
    "                             embeddings=embeddings)"
   ],
   "metadata": {
    "id": "eWfhtE9ES_dg",
    "ExecuteTime": {
     "end_time": "2025-07-07T15:32:52.410400Z",
     "start_time": "2025-07-07T15:32:52.356700Z"
    }
   },
   "outputs": [
    {
     "name": "stdout",
     "output_type": "stream",
     "text": [
      "[INFO] Time taken to get scores on 22963 embeddings: 0.00007 seconds.\n",
      "Query: procesos de paz\n",
      "\n",
      "Results:\n",
      "Score: 0.8805\n",
      "de Víctimas Año de ocurrencia Víctimas Casos Fuente: Elaboración propia con base\n",
      "en el diccionario de las bases de datos del Observatorio de Memoria y Conflicto.\n",
      "Page number: 152\n",
      "\n",
      "\n",
      "Score: 0.8803\n",
      "Los procesos territoriales 84 Del logro de la paz al camino de la\n",
      "(re)conciliación 85 Por una democracia sin violencia 87 Los tres momentos de la\n",
      "paz y la guerra 91 Abrir la democracia 96 Paz, constituyente y Constitución 100\n",
      "El desenlace de la guerra: ¿democrático o antidemocrático?109 La paz ¿estable y\n",
      "duradera?112 Conclusiones 115 Una democracia herida por la guerra 115 No hay\n",
      "derecho a la guerra 117 La paz imperfecta 118 Violaciones de derechos humanos e\n",
      "infracciones al derecho internacional humanitario 121 Los civiles, los más\n",
      "vulnerados en su derecho a la vida 126 Las masacres 129 Ejecuciones\n",
      "extrajudiciales y asesinatos selectivos 131 Asesinatos selectivos 132 Atentados\n",
      "al derecho a la vida 135 Desaparición forzada 135 La libertad personal\n",
      "vulnerada: las detenciones arbitrarias 140 El secuestro, la extorsión y el\n",
      "pillaje 142 Extorsión 145 Pillaje 146 T ortura 148 Violencias sexuales 152\n",
      "Amenazas al derecho a la vida 154 Reclutamiento de niños, niñas y adolescentes y\n",
      "trabajo forzado 157 T rabajo forzado 161 La violencia indiscriminada: los\n",
      "ataques indiscriminados 162 Ataques a bienes protegidos 166 La libertad de\n",
      "residir, circular y poseer: el desplazamiento forzado, el confinamiento y el\n",
      "despojo 168\n",
      "Page number: 12\n",
      "\n",
      "\n",
      "Score: 0.8784\n",
      "Molano, Fragmentos de la historia del conflicto armado, 573.142 Sánchez, Caminos\n",
      "de guerra, utopías de paz.143 Molano, Fragmentos de la historia del conflicto\n",
      "armado.\n",
      "Page number: 62\n",
      "\n",
      "\n",
      "Score: 0.8775\n",
      "Guía de proceso Fase Editorial.27 de octubre de 2021. Comisión de la Verdad.\n",
      "Presidencia de la República. «Decreto Ley 588 de 2017».https://www.funcionpublic\n",
      "a.gov.co/eva/gestornormativo/norma.php?i=80633Sistema Integral para la Paz.\n",
      "«Formación Sistema Integral para la Paz».https://formacionsip.com/ Sistema\n",
      "Integral para la Paz. «Formación Sistema Integral para la Paz».\n",
      "Page number: 138\n",
      "\n",
      "\n",
      "Score: 0.8770\n",
      "Siete campesinos fue- ron asesinados y hubo decenas de heridos, además de\n",
      "personas con contusiones por impactos de armas no letales. Familiares de las\n",
      "víctimas afirmaron que los disparos vinieron del lugar donde estaba la Policía\n",
      "antinarcóticos, mientras que personal del Ejército ayudó a evacuar la zona y a\n",
      "atender a los heridos478. T res días más tarde, un equipo de investigación\n",
      "integrado por funcionarios del Departamento de Nariño, la Misión de Apoyo al\n",
      "Proceso de Paz en Colombia, la Misión de Verificación y el ACNUDH no pudo\n",
      "acceder al lugar porque miembros de la Policía antinarcóticos le cerraron el\n",
      "paso y lanzaron gases lacrimógenos y granadas de aturdimiento479. Aquí se\n",
      "evidencia el impacto en las comunidades locales, cercadas por las disputas entre\n",
      "disidencias, bandas dedicadas al narcotráfico y la fuerza pública, además de las\n",
      "políticas estatales de erradicación de cultivos de uso ilícito. Esto agravó las\n",
      "tensiones 475 Entrevista 511-VI-00021. Campesino, víctima.476 Fundación\n",
      "Desarrollo y Paz, «Informe Anual 2017- Situación de los Derechos Humanos y el\n",
      "DIH en Nariño».477 Entrevista 325-PR-03297. Mujer, abogada, defensora DD. HH.\n",
      "Page number: 169\n",
      "\n",
      "\n"
     ]
    }
   ],
   "execution_count": 50
  },
  {
   "cell_type": "code",
   "source": [
    "# Get GPU available memory\n",
    "import torch\n",
    "gpu_memory_bytes = torch.cuda.get_device_properties(0).total_memory\n",
    "gpu_memory_gb = round(gpu_memory_bytes / (2**30))\n",
    "print(f\"Available GPU memory: {gpu_memory_gb} GB\")"
   ],
   "metadata": {
    "id": "eWBpFSZWTFI-",
    "ExecuteTime": {
     "end_time": "2025-07-07T15:33:16.934268Z",
     "start_time": "2025-07-07T15:33:16.930162Z"
    }
   },
   "outputs": [
    {
     "name": "stdout",
     "output_type": "stream",
     "text": [
      "Available GPU memory: 8 GB\n"
     ]
    }
   ],
   "execution_count": 51
  },
  {
   "cell_type": "code",
   "source": [
    "# Note: the following is Gemma focused, however, there are more and more LLMs of the 2B and 7B size appearing for local use.\n",
    "if gpu_memory_gb < 5.1:\n",
    "    print(f\"Your available GPU memory is {gpu_memory_gb}GB, you may not have enough memory to run a Gemma LLM locally without quantization.\")\n",
    "elif gpu_memory_gb < 8.1:\n",
    "    print(f\"GPU memory: {gpu_memory_gb} | Recommended model: Gemma 2B in 4-bit precision.\")\n",
    "    use_quantization_config = True\n",
    "    model_id = \"google/gemma-2b-it\"\n",
    "elif gpu_memory_gb < 19.0:\n",
    "    print(f\"GPU memory: {gpu_memory_gb} | Recommended model: Gemma 2B in float16 or Gemma 7B in 4-bit precision.\")\n",
    "    use_quantization_config = False\n",
    "    model_id = \"google/gemma-2b-it\"\n",
    "elif gpu_memory_gb > 19.0:\n",
    "    print(f\"GPU memory: {gpu_memory_gb} | Recommend model: Gemma 7B in 4-bit or float16 precision.\")\n",
    "    use_quantization_config = False\n",
    "    model_id = \"google/gemma-7b-it\"\n",
    "\n",
    "print(f\"use_quantization_config set to: {use_quantization_config}\")\n",
    "print(f\"model_id set to: {model_id}\")"
   ],
   "metadata": {
    "id": "R9_Jsvs8TavP",
    "ExecuteTime": {
     "end_time": "2025-07-07T15:33:22.936370Z",
     "start_time": "2025-07-07T15:33:22.931278Z"
    }
   },
   "outputs": [
    {
     "name": "stdout",
     "output_type": "stream",
     "text": [
      "GPU memory: 8 | Recommended model: Gemma 2B in 4-bit precision.\n",
      "use_quantization_config set to: True\n",
      "model_id set to: google/gemma-2b-it\n"
     ]
    }
   ],
   "execution_count": 52
  },
  {
   "metadata": {
    "ExecuteTime": {
     "end_time": "2025-07-07T15:44:33.240329Z",
     "start_time": "2025-07-07T15:44:33.235927Z"
    }
   },
   "cell_type": "code",
   "source": [
    "use_quantization_config = True\n",
    "model_id = \"google/gemma-3-4b\""
   ],
   "outputs": [],
   "execution_count": 54
  },
  {
   "metadata": {
    "ExecuteTime": {
     "end_time": "2025-07-07T15:46:28.090563Z",
     "start_time": "2025-07-07T15:46:24.733911Z"
    }
   },
   "cell_type": "code",
   "source": [
    "from openai import OpenAI\n",
    "import os\n",
    "\n",
    "# Si LM Studio corre en localhost:1234\n",
    "client = OpenAI(\n",
    "    base_url=\"http://localhost:1234/v1\",\n",
    "    api_key=\"lm-studio\",  # o cualquier valor, no se valida\n",
    ")\n",
    "\n",
    "# Enviar prompt\n",
    "response = client.chat.completions.create(\n",
    "    model=model_id,  # Por ejemplo: \"llama3\"\n",
    "    messages=[\n",
    "        {\"role\": \"system\", \"content\": \"Eres un asistente útil.\"},\n",
    "        {\"role\": \"user\", \"content\": \"¿Cuál es la capital de Francia?\"}\n",
    "    ],\n",
    "    temperature=0.7,\n",
    "    max_tokens=100,\n",
    ")\n",
    "\n",
    "print(response.choices[0].message.content)"
   ],
   "outputs": [
    {
     "name": "stdout",
     "output_type": "stream",
     "text": [
      "La capital de Francia es **París**. \n",
      "\n",
      "Es una ciudad mundialmente famosa por su arte, cultura y arquitectura. 😊\n",
      "\n"
     ]
    }
   ],
   "execution_count": 55
  },
  {
   "cell_type": "code",
   "source": [
    "import torch\n",
    "from transformers import AutoTokenizer, AutoModelForCausalLM\n",
    "from transformers.utils import is_flash_attn_2_available\n",
    "\n",
    "# 1. Create quantization config for smaller model loading (optional)\n",
    "# Requires !pip install bitsandbytes accelerate, see: https://github.com/TimDettmers/bitsandbytes, https://huggingface.co/docs/accelerate/\n",
    "# For models that require 4-bit quantization (use this if you have low GPU memory available)\n",
    "from transformers import BitsAndBytesConfig\n",
    "quantization_config = BitsAndBytesConfig(load_in_4bit=True,\n",
    "                                         bnb_4bit_compute_dtype=torch.float16)\n",
    "\n",
    "# Bonus: Setup Flash Attention 2 for faster inference, default to \"sdpa\" or \"scaled dot product attention\" if it's not available\n",
    "# Flash Attention 2 requires NVIDIA GPU compute capability of 8.0 or above, see: https://developer.nvidia.com/cuda-gpus\n",
    "# Requires !pip install flash-attn, see: https://github.com/Dao-AILab/flash-attention\n",
    "if (is_flash_attn_2_available()) and (torch.cuda.get_device_capability(0)[0] >= 8):\n",
    "  attn_implementation = \"flash_attention_2\"\n",
    "else:\n",
    "  attn_implementation = \"sdpa\"\n",
    "print(f\"[INFO] Using attention implementation: {attn_implementation}\")\n",
    "\n",
    "# 2. Pick a model we'd like to use (this will depend on how much GPU memory you have available)\n",
    "#model_id = \"google/gemma-7b-it\" google/gemma-2b-it\n",
    "model_id = model_id # (we already set this above)\n",
    "print(f\"[INFO] Using model_id: {model_id}\")\n",
    "\n",
    "# 3. Instantiate tokenizer (tokenizer turns text into numbers ready for the model)\n",
    "tokenizer = AutoTokenizer.from_pretrained(pretrained_model_name_or_path=model_id)\n",
    "\n",
    "# 4. Instantiate the model\n",
    "llm_model = AutoModelForCausalLM.from_pretrained(pretrained_model_name_or_path=model_id,\n",
    "                                                 torch_dtype=torch.float16, # datatype to use, we want float16\n",
    "                                                 quantization_config=quantization_config if use_quantization_config else None,\n",
    "                                                 low_cpu_mem_usage=False, # use full memory\n",
    "                                                 attn_implementation=attn_implementation) # which attention version to use\n",
    "\n",
    "if not use_quantization_config: # quantization takes care of device setting automatically, so if it's not used, send model to GPU\n",
    "    llm_model.to(\"cuda\")"
   ],
   "metadata": {
    "id": "J6CFAEdgTd30",
    "ExecuteTime": {
     "end_time": "2025-07-07T15:34:00.966190Z",
     "start_time": "2025-07-07T15:34:00.856686Z"
    }
   },
   "outputs": [
    {
     "ename": "PackageNotFoundError",
     "evalue": "No package metadata was found for bitsandbytes",
     "output_type": "error",
     "traceback": [
      "\u001B[31m---------------------------------------------------------------------------\u001B[39m",
      "\u001B[31mStopIteration\u001B[39m                             Traceback (most recent call last)",
      "\u001B[36mFile \u001B[39m\u001B[32m~\\AppData\\Local\\Programs\\Python\\Python312\\Lib\\importlib\\metadata\\__init__.py:397\u001B[39m, in \u001B[36mDistribution.from_name\u001B[39m\u001B[34m(cls, name)\u001B[39m\n\u001B[32m    396\u001B[39m \u001B[38;5;28;01mtry\u001B[39;00m:\n\u001B[32m--> \u001B[39m\u001B[32m397\u001B[39m     \u001B[38;5;28;01mreturn\u001B[39;00m \u001B[38;5;28;43mnext\u001B[39;49m\u001B[43m(\u001B[49m\u001B[38;5;28;43mcls\u001B[39;49m\u001B[43m.\u001B[49m\u001B[43mdiscover\u001B[49m\u001B[43m(\u001B[49m\u001B[43mname\u001B[49m\u001B[43m=\u001B[49m\u001B[43mname\u001B[49m\u001B[43m)\u001B[49m\u001B[43m)\u001B[49m\n\u001B[32m    398\u001B[39m \u001B[38;5;28;01mexcept\u001B[39;00m \u001B[38;5;167;01mStopIteration\u001B[39;00m:\n",
      "\u001B[31mStopIteration\u001B[39m: ",
      "\nDuring handling of the above exception, another exception occurred:\n",
      "\u001B[31mPackageNotFoundError\u001B[39m                      Traceback (most recent call last)",
      "\u001B[36mCell\u001B[39m\u001B[36m \u001B[39m\u001B[32mIn[53]\u001B[39m\u001B[32m, line 9\u001B[39m\n\u001B[32m      5\u001B[39m \u001B[38;5;66;03m# 1. Create quantization config for smaller model loading (optional)\u001B[39;00m\n\u001B[32m      6\u001B[39m \u001B[38;5;66;03m# Requires !pip install bitsandbytes accelerate, see: https://github.com/TimDettmers/bitsandbytes, https://huggingface.co/docs/accelerate/\u001B[39;00m\n\u001B[32m      7\u001B[39m \u001B[38;5;66;03m# For models that require 4-bit quantization (use this if you have low GPU memory available)\u001B[39;00m\n\u001B[32m      8\u001B[39m \u001B[38;5;28;01mfrom\u001B[39;00m\u001B[38;5;250m \u001B[39m\u001B[34;01mtransformers\u001B[39;00m\u001B[38;5;250m \u001B[39m\u001B[38;5;28;01mimport\u001B[39;00m BitsAndBytesConfig\n\u001B[32m----> \u001B[39m\u001B[32m9\u001B[39m quantization_config = \u001B[43mBitsAndBytesConfig\u001B[49m\u001B[43m(\u001B[49m\u001B[43mload_in_4bit\u001B[49m\u001B[43m=\u001B[49m\u001B[38;5;28;43;01mTrue\u001B[39;49;00m\u001B[43m,\u001B[49m\n\u001B[32m     10\u001B[39m \u001B[43m                                         \u001B[49m\u001B[43mbnb_4bit_compute_dtype\u001B[49m\u001B[43m=\u001B[49m\u001B[43mtorch\u001B[49m\u001B[43m.\u001B[49m\u001B[43mfloat16\u001B[49m\u001B[43m)\u001B[49m\n\u001B[32m     12\u001B[39m \u001B[38;5;66;03m# Bonus: Setup Flash Attention 2 for faster inference, default to \"sdpa\" or \"scaled dot product attention\" if it's not available\u001B[39;00m\n\u001B[32m     13\u001B[39m \u001B[38;5;66;03m# Flash Attention 2 requires NVIDIA GPU compute capability of 8.0 or above, see: https://developer.nvidia.com/cuda-gpus\u001B[39;00m\n\u001B[32m     14\u001B[39m \u001B[38;5;66;03m# Requires !pip install flash-attn, see: https://github.com/Dao-AILab/flash-attention\u001B[39;00m\n\u001B[32m     15\u001B[39m \u001B[38;5;28;01mif\u001B[39;00m (is_flash_attn_2_available()) \u001B[38;5;129;01mand\u001B[39;00m (torch.cuda.get_device_capability(\u001B[32m0\u001B[39m)[\u001B[32m0\u001B[39m] >= \u001B[32m8\u001B[39m):\n",
      "\u001B[36mFile \u001B[39m\u001B[32mC:\\project\\javeriana\\repos\\cev-rag\\.venv\\Lib\\site-packages\\transformers\\utils\\quantization_config.py:508\u001B[39m, in \u001B[36mBitsAndBytesConfig.__init__\u001B[39m\u001B[34m(self, load_in_8bit, load_in_4bit, llm_int8_threshold, llm_int8_skip_modules, llm_int8_enable_fp32_cpu_offload, llm_int8_has_fp16_weight, bnb_4bit_compute_dtype, bnb_4bit_quant_type, bnb_4bit_use_double_quant, bnb_4bit_quant_storage, **kwargs)\u001B[39m\n\u001B[32m    505\u001B[39m \u001B[38;5;28;01mif\u001B[39;00m kwargs:\n\u001B[32m    506\u001B[39m     logger.info(\u001B[33mf\u001B[39m\u001B[33m\"\u001B[39m\u001B[33mUnused kwargs: \u001B[39m\u001B[38;5;132;01m{\u001B[39;00m\u001B[38;5;28mlist\u001B[39m(kwargs.keys())\u001B[38;5;132;01m}\u001B[39;00m\u001B[33m. These kwargs are not used in \u001B[39m\u001B[38;5;132;01m{\u001B[39;00m\u001B[38;5;28mself\u001B[39m.\u001B[34m__class__\u001B[39m\u001B[38;5;132;01m}\u001B[39;00m\u001B[33m.\u001B[39m\u001B[33m\"\u001B[39m)\n\u001B[32m--> \u001B[39m\u001B[32m508\u001B[39m \u001B[38;5;28;43mself\u001B[39;49m\u001B[43m.\u001B[49m\u001B[43mpost_init\u001B[49m\u001B[43m(\u001B[49m\u001B[43m)\u001B[49m\n",
      "\u001B[36mFile \u001B[39m\u001B[32mC:\\project\\javeriana\\repos\\cev-rag\\.venv\\Lib\\site-packages\\transformers\\utils\\quantization_config.py:566\u001B[39m, in \u001B[36mBitsAndBytesConfig.post_init\u001B[39m\u001B[34m(self)\u001B[39m\n\u001B[32m    563\u001B[39m \u001B[38;5;28;01mif\u001B[39;00m \u001B[38;5;129;01mnot\u001B[39;00m \u001B[38;5;28misinstance\u001B[39m(\u001B[38;5;28mself\u001B[39m.bnb_4bit_use_double_quant, \u001B[38;5;28mbool\u001B[39m):\n\u001B[32m    564\u001B[39m     \u001B[38;5;28;01mraise\u001B[39;00m \u001B[38;5;167;01mTypeError\u001B[39;00m(\u001B[33m\"\u001B[39m\u001B[33mbnb_4bit_use_double_quant must be a boolean\u001B[39m\u001B[33m\"\u001B[39m)\n\u001B[32m--> \u001B[39m\u001B[32m566\u001B[39m \u001B[38;5;28;01mif\u001B[39;00m \u001B[38;5;28mself\u001B[39m.load_in_4bit \u001B[38;5;129;01mand\u001B[39;00m \u001B[38;5;129;01mnot\u001B[39;00m version.parse(\u001B[43mimportlib\u001B[49m\u001B[43m.\u001B[49m\u001B[43mmetadata\u001B[49m\u001B[43m.\u001B[49m\u001B[43mversion\u001B[49m\u001B[43m(\u001B[49m\u001B[33;43m\"\u001B[39;49m\u001B[33;43mbitsandbytes\u001B[39;49m\u001B[33;43m\"\u001B[39;49m\u001B[43m)\u001B[49m) >= version.parse(\n\u001B[32m    567\u001B[39m     \u001B[33m\"\u001B[39m\u001B[33m0.39.0\u001B[39m\u001B[33m\"\u001B[39m\n\u001B[32m    568\u001B[39m ):\n\u001B[32m    569\u001B[39m     \u001B[38;5;28;01mraise\u001B[39;00m \u001B[38;5;167;01mValueError\u001B[39;00m(\n\u001B[32m    570\u001B[39m         \u001B[33m\"\u001B[39m\u001B[33m4 bit quantization requires bitsandbytes>=0.39.0 - please upgrade your bitsandbytes version\u001B[39m\u001B[33m\"\u001B[39m\n\u001B[32m    571\u001B[39m     )\n",
      "\u001B[36mFile \u001B[39m\u001B[32m~\\AppData\\Local\\Programs\\Python\\Python312\\Lib\\importlib\\metadata\\__init__.py:889\u001B[39m, in \u001B[36mversion\u001B[39m\u001B[34m(distribution_name)\u001B[39m\n\u001B[32m    882\u001B[39m \u001B[38;5;28;01mdef\u001B[39;00m\u001B[38;5;250m \u001B[39m\u001B[34mversion\u001B[39m(distribution_name):\n\u001B[32m    883\u001B[39m \u001B[38;5;250m    \u001B[39m\u001B[33;03m\"\"\"Get the version string for the named package.\u001B[39;00m\n\u001B[32m    884\u001B[39m \n\u001B[32m    885\u001B[39m \u001B[33;03m    :param distribution_name: The name of the distribution package to query.\u001B[39;00m\n\u001B[32m    886\u001B[39m \u001B[33;03m    :return: The version string for the package as defined in the package's\u001B[39;00m\n\u001B[32m    887\u001B[39m \u001B[33;03m        \"Version\" metadata key.\u001B[39;00m\n\u001B[32m    888\u001B[39m \u001B[33;03m    \"\"\"\u001B[39;00m\n\u001B[32m--> \u001B[39m\u001B[32m889\u001B[39m     \u001B[38;5;28;01mreturn\u001B[39;00m \u001B[43mdistribution\u001B[49m\u001B[43m(\u001B[49m\u001B[43mdistribution_name\u001B[49m\u001B[43m)\u001B[49m.version\n",
      "\u001B[36mFile \u001B[39m\u001B[32m~\\AppData\\Local\\Programs\\Python\\Python312\\Lib\\importlib\\metadata\\__init__.py:862\u001B[39m, in \u001B[36mdistribution\u001B[39m\u001B[34m(distribution_name)\u001B[39m\n\u001B[32m    856\u001B[39m \u001B[38;5;28;01mdef\u001B[39;00m\u001B[38;5;250m \u001B[39m\u001B[34mdistribution\u001B[39m(distribution_name):\n\u001B[32m    857\u001B[39m \u001B[38;5;250m    \u001B[39m\u001B[33;03m\"\"\"Get the ``Distribution`` instance for the named package.\u001B[39;00m\n\u001B[32m    858\u001B[39m \n\u001B[32m    859\u001B[39m \u001B[33;03m    :param distribution_name: The name of the distribution package as a string.\u001B[39;00m\n\u001B[32m    860\u001B[39m \u001B[33;03m    :return: A ``Distribution`` instance (or subclass thereof).\u001B[39;00m\n\u001B[32m    861\u001B[39m \u001B[33;03m    \"\"\"\u001B[39;00m\n\u001B[32m--> \u001B[39m\u001B[32m862\u001B[39m     \u001B[38;5;28;01mreturn\u001B[39;00m \u001B[43mDistribution\u001B[49m\u001B[43m.\u001B[49m\u001B[43mfrom_name\u001B[49m\u001B[43m(\u001B[49m\u001B[43mdistribution_name\u001B[49m\u001B[43m)\u001B[49m\n",
      "\u001B[36mFile \u001B[39m\u001B[32m~\\AppData\\Local\\Programs\\Python\\Python312\\Lib\\importlib\\metadata\\__init__.py:399\u001B[39m, in \u001B[36mDistribution.from_name\u001B[39m\u001B[34m(cls, name)\u001B[39m\n\u001B[32m    397\u001B[39m     \u001B[38;5;28;01mreturn\u001B[39;00m \u001B[38;5;28mnext\u001B[39m(\u001B[38;5;28mcls\u001B[39m.discover(name=name))\n\u001B[32m    398\u001B[39m \u001B[38;5;28;01mexcept\u001B[39;00m \u001B[38;5;167;01mStopIteration\u001B[39;00m:\n\u001B[32m--> \u001B[39m\u001B[32m399\u001B[39m     \u001B[38;5;28;01mraise\u001B[39;00m PackageNotFoundError(name)\n",
      "\u001B[31mPackageNotFoundError\u001B[39m: No package metadata was found for bitsandbytes"
     ]
    }
   ],
   "execution_count": 53
  },
  {
   "cell_type": "code",
   "source": [
    "llm_model"
   ],
   "metadata": {
    "id": "77mdaK7rTlAm",
    "ExecuteTime": {
     "end_time": "2025-07-07T15:51:10.067705Z",
     "start_time": "2025-07-07T15:51:10.048286Z"
    }
   },
   "outputs": [
    {
     "ename": "NameError",
     "evalue": "name 'llm_model' is not defined",
     "output_type": "error",
     "traceback": [
      "\u001B[31m---------------------------------------------------------------------------\u001B[39m",
      "\u001B[31mNameError\u001B[39m                                 Traceback (most recent call last)",
      "\u001B[36mCell\u001B[39m\u001B[36m \u001B[39m\u001B[32mIn[57]\u001B[39m\u001B[32m, line 1\u001B[39m\n\u001B[32m----> \u001B[39m\u001B[32m1\u001B[39m \u001B[43mllm_model\u001B[49m\n",
      "\u001B[31mNameError\u001B[39m: name 'llm_model' is not defined"
     ]
    }
   ],
   "execution_count": 57
  },
  {
   "cell_type": "code",
   "source": [
    "def get_model_num_params(model: torch.nn.Module):\n",
    "    return sum([param.numel() for param in model.parameters()])\n",
    "\n",
    "get_model_num_params(llm_model)"
   ],
   "metadata": {
    "id": "C_LYCUVjTpGW",
    "ExecuteTime": {
     "end_time": "2025-07-07T15:51:07.940342Z",
     "start_time": "2025-07-07T15:51:07.862806Z"
    }
   },
   "outputs": [
    {
     "ename": "NameError",
     "evalue": "name 'llm_model' is not defined",
     "output_type": "error",
     "traceback": [
      "\u001B[31m---------------------------------------------------------------------------\u001B[39m",
      "\u001B[31mNameError\u001B[39m                                 Traceback (most recent call last)",
      "\u001B[36mCell\u001B[39m\u001B[36m \u001B[39m\u001B[32mIn[56]\u001B[39m\u001B[32m, line 4\u001B[39m\n\u001B[32m      1\u001B[39m \u001B[38;5;28;01mdef\u001B[39;00m\u001B[38;5;250m \u001B[39m\u001B[34mget_model_num_params\u001B[39m(model: torch.nn.Module):\n\u001B[32m      2\u001B[39m     \u001B[38;5;28;01mreturn\u001B[39;00m \u001B[38;5;28msum\u001B[39m([param.numel() \u001B[38;5;28;01mfor\u001B[39;00m param \u001B[38;5;129;01min\u001B[39;00m model.parameters()])\n\u001B[32m----> \u001B[39m\u001B[32m4\u001B[39m get_model_num_params(\u001B[43mllm_model\u001B[49m)\n",
      "\u001B[31mNameError\u001B[39m: name 'llm_model' is not defined"
     ]
    }
   ],
   "execution_count": 56
  },
  {
   "cell_type": "code",
   "source": [
    "def get_model_mem_size(model: torch.nn.Module):\n",
    "    \"\"\"\n",
    "    Get how much memory a PyTorch model takes up.\n",
    "\n",
    "    See: https://discuss.pytorch.org/t/gpu-memory-that-model-uses/56822\n",
    "    \"\"\"\n",
    "    # Get model parameters and buffer sizes\n",
    "    mem_params = sum([param.nelement() * param.element_size() for param in model.parameters()])\n",
    "    mem_buffers = sum([buf.nelement() * buf.element_size() for buf in model.buffers()])\n",
    "\n",
    "    # Calculate various model sizes\n",
    "    model_mem_bytes = mem_params + mem_buffers # in bytes\n",
    "    model_mem_mb = model_mem_bytes / (1024**2) # in megabytes\n",
    "    model_mem_gb = model_mem_bytes / (1024**3) # in gigabytes\n",
    "\n",
    "    return {\"model_mem_bytes\": model_mem_bytes,\n",
    "            \"model_mem_mb\": round(model_mem_mb, 2),\n",
    "            \"model_mem_gb\": round(model_mem_gb, 2)}\n",
    "\n",
    "get_model_mem_size(llm_model)"
   ],
   "metadata": {
    "id": "6PsajQROTrvJ",
    "ExecuteTime": {
     "end_time": "2025-07-07T15:51:48.191019Z",
     "start_time": "2025-07-07T15:51:48.168722Z"
    }
   },
   "outputs": [
    {
     "ename": "NameError",
     "evalue": "name 'llm_model' is not defined",
     "output_type": "error",
     "traceback": [
      "\u001B[31m---------------------------------------------------------------------------\u001B[39m",
      "\u001B[31mNameError\u001B[39m                                 Traceback (most recent call last)",
      "\u001B[36mCell\u001B[39m\u001B[36m \u001B[39m\u001B[32mIn[58]\u001B[39m\u001B[32m, line 20\u001B[39m\n\u001B[32m     14\u001B[39m     model_mem_gb = model_mem_bytes / (\u001B[32m1024\u001B[39m**\u001B[32m3\u001B[39m) \u001B[38;5;66;03m# in gigabytes\u001B[39;00m\n\u001B[32m     16\u001B[39m     \u001B[38;5;28;01mreturn\u001B[39;00m {\u001B[33m\"\u001B[39m\u001B[33mmodel_mem_bytes\u001B[39m\u001B[33m\"\u001B[39m: model_mem_bytes,\n\u001B[32m     17\u001B[39m             \u001B[33m\"\u001B[39m\u001B[33mmodel_mem_mb\u001B[39m\u001B[33m\"\u001B[39m: \u001B[38;5;28mround\u001B[39m(model_mem_mb, \u001B[32m2\u001B[39m),\n\u001B[32m     18\u001B[39m             \u001B[33m\"\u001B[39m\u001B[33mmodel_mem_gb\u001B[39m\u001B[33m\"\u001B[39m: \u001B[38;5;28mround\u001B[39m(model_mem_gb, \u001B[32m2\u001B[39m)}\n\u001B[32m---> \u001B[39m\u001B[32m20\u001B[39m get_model_mem_size(\u001B[43mllm_model\u001B[49m)\n",
      "\u001B[31mNameError\u001B[39m: name 'llm_model' is not defined"
     ]
    }
   ],
   "execution_count": 58
  },
  {
   "cell_type": "code",
   "source": [
    "input_text = \"Que es la paz grande?\"\n",
    "print(f\"Input text:\\n{input_text}\")\n",
    "\n",
    "# Create prompt template for instruction-tuned model\n",
    "dialogue_template = [\n",
    "    {\"role\": \"user\",\n",
    "     \"content\": input_text}\n",
    "]\n",
    "\n",
    "# Apply the chat template\n",
    "prompt = tokenizer.apply_chat_template(conversation=dialogue_template,\n",
    "                                       tokenize=False, # keep as raw text (not tokenized)\n",
    "                                       add_generation_prompt=True)\n",
    "print(f\"\\nPrompt (formatted):\\n{prompt}\")"
   ],
   "metadata": {
    "id": "A1p0B87FTu4K"
   },
   "execution_count": null,
   "outputs": []
  },
  {
   "cell_type": "code",
   "source": [
    "%%time\n",
    "\n",
    "# Tokenize the input text (turn it into numbers) and send it to GPU\n",
    "input_ids = tokenizer(prompt, return_tensors=\"pt\").to(\"cuda\")\n",
    "print(f\"Model input (tokenized):\\n{input_ids}\\n\")\n",
    "\n",
    "# Generate outputs passed on the tokenized input\n",
    "# See generate docs: https://huggingface.co/docs/transformers/v4.38.2/en/main_classes/text_generation#transformers.GenerationConfig\n",
    "outputs = llm_model.generate(**input_ids,\n",
    "                             max_new_tokens=256) # define the maximum number of new tokens to create\n",
    "print(f\"Model output (tokens):\\n{outputs[0]}\\n\")"
   ],
   "metadata": {
    "id": "Kj7iqVIBhprW"
   },
   "execution_count": null,
   "outputs": []
  },
  {
   "cell_type": "code",
   "source": [
    "# Decode the output tokens to text\n",
    "outputs_decoded = tokenizer.decode(outputs[0])\n",
    "print(f\"Model output (decoded):\\n{outputs_decoded}\\n\")"
   ],
   "metadata": {
    "id": "98djY4K7hscw"
   },
   "execution_count": null,
   "outputs": []
  },
  {
   "cell_type": "code",
   "source": [
    "print(f\"Input text: {input_text}\\n\")\n",
    "print(f\"Output text:\\n{outputs_decoded.replace(prompt, '').replace('<bos>', '').replace('<eos>', '')}\")"
   ],
   "metadata": {
    "id": "y_yHijUJhvAG"
   },
   "execution_count": null,
   "outputs": []
  },
  {
   "cell_type": "code",
   "source": [
    "# Nutrition-style questions generated with GPT4\n",
    "gpt4_questions = [\n",
    "    \"What are the macronutrients, and what roles do they play in the human body?\",\n",
    "    \"How do vitamins and minerals differ in their roles and importance for health?\",\n",
    "    \"Describe the process of digestion and absorption of nutrients in the human body.\",\n",
    "    \"What role does fibre play in digestion? Name five fibre containing foods.\",\n",
    "    \"Explain the concept of energy balance and its importance in weight management.\"\n",
    "]\n",
    "\n",
    "# Manually created question list\n",
    "manual_questions = [\n",
    "    \"How often should infants be breastfed?\",\n",
    "    \"What are symptoms of pellagra?\",\n",
    "    \"How does saliva help with digestion?\",\n",
    "    \"What is the RDI for protein per day?\",\n",
    "    \"water soluble vitamins\"\n",
    "]\n",
    "\n",
    "query_list = gpt4_questions + manual_questions"
   ],
   "metadata": {
    "id": "w3kD0Ltqhw3a"
   },
   "execution_count": null,
   "outputs": []
  },
  {
   "cell_type": "code",
   "source": [
    "import random\n",
    "query = random.choice(query_list)\n",
    "\n",
    "print(f\"Query: {query}\")\n",
    "\n",
    "# Get just the scores and indices of top related results\n",
    "scores, indices = retrieve_relevant_resources(query=query,\n",
    "                                              embeddings=embeddings)\n",
    "scores, indices"
   ],
   "metadata": {
    "id": "2zudmq_Jhywb"
   },
   "execution_count": null,
   "outputs": []
  },
  {
   "cell_type": "code",
   "source": [
    "def prompt_formatter(query: str,\n",
    "                     context_items: list[dict]) -> str:\n",
    "    \"\"\"\n",
    "    Augments query with text-based context from context_items.\n",
    "    \"\"\"\n",
    "    # Join context items into one dotted paragraph\n",
    "    context = \"- \" + \"\\n- \".join([item[\"sentence_chunk\"] for item in context_items])\n",
    "\n",
    "    # Create a base prompt with examples to help the model\n",
    "    # Note: this is very customizable, I've chosen to use 3 examples of the answer style we'd like.\n",
    "    # We could also write this in a txt file and import it in if we wanted.\n",
    "    base_prompt = \"\"\"Based on the following context items, please answer the query.\n",
    "Give yourself room to think by extracting relevant passages from the context before answering the query.\n",
    "Don't return the thinking, only return the answer.\n",
    "Make sure your answers are as explanatory as possible.\n",
    "Use the following examples as reference for the ideal answer style.\n",
    "\\nExample 1:\n",
    "Query: What are the fat-soluble vitamins?\n",
    "Answer: The fat-soluble vitamins include Vitamin A, Vitamin D, Vitamin E, and Vitamin K. These vitamins are absorbed along with fats in the diet and can be stored in the body's fatty tissue and liver for later use. Vitamin A is important for vision, immune function, and skin health. Vitamin D plays a critical role in calcium absorption and bone health. Vitamin E acts as an antioxidant, protecting cells from damage. Vitamin K is essential for blood clotting and bone metabolism.\n",
    "\\nExample 2:\n",
    "Query: What are the causes of type 2 diabetes?\n",
    "Answer: Type 2 diabetes is often associated with overnutrition, particularly the overconsumption of calories leading to obesity. Factors include a diet high in refined sugars and saturated fats, which can lead to insulin resistance, a condition where the body's cells do not respond effectively to insulin. Over time, the pancreas cannot produce enough insulin to manage blood sugar levels, resulting in type 2 diabetes. Additionally, excessive caloric intake without sufficient physical activity exacerbates the risk by promoting weight gain and fat accumulation, particularly around the abdomen, further contributing to insulin resistance.\n",
    "\\nExample 3:\n",
    "Query: What is the importance of hydration for physical performance?\n",
    "Answer: Hydration is crucial for physical performance because water plays key roles in maintaining blood volume, regulating body temperature, and ensuring the transport of nutrients and oxygen to cells. Adequate hydration is essential for optimal muscle function, endurance, and recovery. Dehydration can lead to decreased performance, fatigue, and increased risk of heat-related illnesses, such as heat stroke. Drinking sufficient water before, during, and after exercise helps ensure peak physical performance and recovery.\n",
    "\\nNow use the following context items to answer the user query:\n",
    "{context}\n",
    "\\nRelevant passages: <extract relevant passages from the context here>\n",
    "User query: {query}\n",
    "Answer:\"\"\"\n",
    "\n",
    "    # Update base prompt with context items and query\n",
    "    base_prompt = base_prompt.format(context=context, query=query)\n",
    "\n",
    "    # Create prompt template for instruction-tuned model\n",
    "    dialogue_template = [\n",
    "        {\"role\": \"user\",\n",
    "        \"content\": base_prompt}\n",
    "    ]\n",
    "\n",
    "    # Apply the chat template\n",
    "    prompt = tokenizer.apply_chat_template(conversation=dialogue_template,\n",
    "                                          tokenize=False,\n",
    "                                          add_generation_prompt=True)\n",
    "    return prompt"
   ],
   "metadata": {
    "id": "M3ESaqsyh3Gl"
   },
   "execution_count": null,
   "outputs": []
  },
  {
   "cell_type": "code",
   "source": [
    "query = random.choice(query_list)\n",
    "print(f\"Query: {query}\")\n",
    "\n",
    "# Get relevant resources\n",
    "scores, indices = retrieve_relevant_resources(query=query,\n",
    "                                              embeddings=embeddings)\n",
    "\n",
    "# Create a list of context items\n",
    "context_items = [pages_and_chunks[i] for i in indices]\n",
    "\n",
    "# Format prompt with context items\n",
    "prompt = prompt_formatter(query=query,\n"
   ],
   "metadata": {
    "id": "sChzDWWDh5uO"
   },
   "execution_count": null,
   "outputs": []
  },
  {
   "cell_type": "code",
   "source": [
    "%%time\n",
    "\n",
    "input_ids = tokenizer(prompt, return_tensors=\"pt\").to(\"cuda\")\n",
    "\n",
    "# Generate an output of tokens\n",
    "outputs = llm_model.generate(**input_ids,\n",
    "                             temperature=0.7, # lower temperature = more deterministic outputs, higher temperature = more creative outputs\n",
    "                             do_sample=True, # whether or not to use sampling, see https://huyenchip.com/2024/01/16/sampling.html for more\n",
    "                             max_new_tokens=256) # how many new tokens to generate from prompt\n",
    "\n",
    "# Turn the output tokens into text\n",
    "output_text = tokenizer.decode(outputs[0])\n",
    "\n",
    "print(f\"Query: {query}\")\n",
    "print(f\"RAG answer:\\n{output_text.replace(prompt, '')}\")"
   ],
   "metadata": {
    "id": "O6IfKCg_h8So"
   },
   "execution_count": null,
   "outputs": []
  },
  {
   "cell_type": "code",
   "source": [
    "def ask(query,\n",
    "        temperature=0.7,\n",
    "        max_new_tokens=512,\n",
    "        format_answer_text=True,\n",
    "        return_answer_only=True):\n",
    "    \"\"\"\n",
    "    Takes a query, finds relevant resources/context and generates an answer to the query based on the relevant resources.\n",
    "    \"\"\"\n",
    "\n",
    "    # Get just the scores and indices of top related results\n",
    "    scores, indices = retrieve_relevant_resources(query=query,\n",
    "                                                  embeddings=embeddings)\n",
    "\n",
    "    # Create a list of context items\n",
    "    context_items = [pages_and_chunks[i] for i in indices]\n",
    "\n",
    "    # Add score to context item\n",
    "    for i, item in enumerate(context_items):\n",
    "        item[\"score\"] = scores[i].cpu() # return score back to CPU\n",
    "\n",
    "    # Format the prompt with context items\n",
    "    prompt = prompt_formatter(query=query,\n",
    "                              context_items=context_items)\n",
    "\n",
    "    # Tokenize the prompt\n",
    "    input_ids = tokenizer(prompt, return_tensors=\"pt\").to(\"cuda\")\n",
    "\n",
    "    # Generate an output of tokens\n",
    "    outputs = llm_model.generate(**input_ids,\n",
    "                                 temperature=temperature,\n",
    "                                 do_sample=True,\n",
    "                                 max_new_tokens=max_new_tokens)\n",
    "\n",
    "    # Turn the output tokens into text\n",
    "    output_text = tokenizer.decode(outputs[0])\n",
    "\n",
    "    if format_answer_text:\n",
    "        # Replace special tokens and unnecessary help message\n",
    "        output_text = output_text.replace(prompt, \"\").replace(\"<bos>\", \"\").replace(\"<eos>\", \"\").replace(\"Sure, here is the answer to the user query:\\n\\n\", \"\")\n",
    "\n",
    "    # Only return the answer without the context items\n",
    "    if return_answer_only:\n",
    "        return output_text\n",
    "\n",
    "    return output_text, context_items"
   ],
   "metadata": {
    "id": "8xPUkj2Ph_MP"
   },
   "execution_count": null,
   "outputs": []
  },
  {
   "cell_type": "code",
   "source": [
    "query = random.choice(query_list)\n",
    "print(f\"Query: {query}\")\n",
    "\n",
    "# Answer query with context and return context\n",
    "answer, context_items = ask(query=query,\n",
    "                            temperature=0.7,\n",
    "                            max_new_tokens=512,\n",
    "                            return_answer_only=False)\n",
    "\n",
    "print(f\"Answer:\\n\")\n",
    "print_wrapped(answer)\n",
    "print(f\"Context items:\")\n",
    "context_items"
   ],
   "metadata": {
    "id": "YfK19Y4jiGMr"
   },
   "execution_count": null,
   "outputs": []
  }
 ],
 "metadata": {
  "colab": {
   "provenance": []
  },
  "kernelspec": {
   "display_name": "Python 3",
   "name": "python3"
  },
  "language_info": {
   "name": "python"
  }
 },
 "nbformat": 4,
 "nbformat_minor": 0
}
